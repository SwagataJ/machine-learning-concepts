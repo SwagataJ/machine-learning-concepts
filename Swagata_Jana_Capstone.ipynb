{
  "cells": [
    {
      "cell_type": "markdown",
      "metadata": {
        "id": "view-in-github",
        "colab_type": "text"
      },
      "source": [
        "<a href=\"https://colab.research.google.com/github/SwagataJ/machine-learning-concepts/blob/main/Swagata_Jana_Capstone.ipynb\" target=\"_parent\"><img src=\"https://colab.research.google.com/assets/colab-badge.svg\" alt=\"Open In Colab\"/></a>"
      ]
    },
    {
      "cell_type": "markdown",
      "metadata": {
        "id": "XCrL776n5L21"
      },
      "source": [
        "\n",
        "\n",
        "#**Multi-Label Classification**\n",
        "\n",
        "---\n",
        "\n",
        "\n",
        "###Problem Statement\n",
        "Create a multi-label genre classification model using Tensorflow that automatically assigns genre names looking at the summary of the movie.\n",
        "\n",
        "1. Use pre-built embeddings for your data dictionary\n",
        "2. Train the model using Transformer/Attention based architecture\n",
        "3. Reach an overall “precision” score of 70%\n",
        "4. Use TF serving to deploy the model as an API (on local)\n",
        "5. Build a TF serving client to interact with the API. This client should also be able to continuously accept data entered by the user and provide the genre for the chat entered by the end-user.\n",
        "\n",
        "\n",
        "\n",
        "---\n",
        "\n",
        "\n",
        "\n",
        "---\n",
        "\n",
        "### Dataset\n",
        "\n",
        "CMU Movie Summary Corpus - http://www.cs.cmu.edu/~ark/personas/\n",
        "Or download from - http://www.cs.cmu.edu/~ark/personas/data/MovieSummaries.tar.gz\n",
        "\n",
        "\n",
        "\n",
        "---\n",
        "\n",
        "\n",
        "### Approach\n",
        "1. We have used pre-trained BERT model from [Tenorflow Hub](https://tfhub.dev/tensorflow/bert_en_uncased_L-12_H-768_A-12/4) and finetuned it to match the number of classes i.e. genres\n",
        "2. Serving is done using [Tensorflow Model Serve](https://www.tensorflow.org/tfx/guide/serving)\n",
        "3. Client is build using Flask and port forwarding is done using [ngrok](https://ngrok.com/) / [flask-ngrok](https://pypi.org/project/flask-ngrok/)"
      ]
    },
    {
      "cell_type": "markdown",
      "metadata": {
        "id": "Ky4-tdgX5xMF"
      },
      "source": [
        "#**Importing the Libraries**"
      ]
    },
    {
      "cell_type": "code",
      "execution_count": null,
      "metadata": {
        "id": "8DIY4Lh955Ws"
      },
      "outputs": [],
      "source": [
        "import pandas as pd\n",
        "import numpy as np\n",
        "import json\n",
        "import nltk\n",
        "import re\n",
        "import csv\n",
        "import matplotlib.pyplot as plt \n",
        "import seaborn as sns\n",
        "from tqdm import tqdm\n",
        "import tensorflow as tf\n",
        "from sklearn.model_selection import train_test_split\n",
        "%matplotlib inline"
      ]
    },
    {
      "cell_type": "markdown",
      "metadata": {
        "id": "zyVsVcmQCRpD"
      },
      "source": [
        "#**Model 1**"
      ]
    },
    {
      "cell_type": "markdown",
      "metadata": {
        "id": "xfqAzSJGi7wH"
      },
      "source": [
        "#**Fetching Data**"
      ]
    },
    {
      "cell_type": "code",
      "execution_count": null,
      "metadata": {
        "colab": {
          "base_uri": "https://localhost:8080/"
        },
        "id": "cKGm6ooRi0Oh",
        "outputId": "42ba2d30-26de-4d06-b412-eea38cc558f9"
      },
      "outputs": [
        {
          "name": "stdout",
          "output_type": "stream",
          "text": [
            "--2022-10-20 06:17:30--  http://www.cs.cmu.edu/~ark/personas/data/MovieSummaries.tar.gz\n",
            "Resolving www.cs.cmu.edu (www.cs.cmu.edu)... 128.2.42.95\n",
            "Connecting to www.cs.cmu.edu (www.cs.cmu.edu)|128.2.42.95|:80... connected.\n",
            "HTTP request sent, awaiting response... 200 OK\n",
            "Length: 48002242 (46M) [application/x-gzip]\n",
            "Saving to: ‘MovieSummaries.tar.gz’\n",
            "\n",
            "MovieSummaries.tar. 100%[===================>]  45.78M  3.32MB/s    in 14s     \n",
            "\n",
            "2022-10-20 06:17:45 (3.19 MB/s) - ‘MovieSummaries.tar.gz’ saved [48002242/48002242]\n",
            "\n"
          ]
        }
      ],
      "source": [
        "!wget http://www.cs.cmu.edu/~ark/personas/data/MovieSummaries.tar.gz"
      ]
    },
    {
      "cell_type": "code",
      "execution_count": null,
      "metadata": {
        "colab": {
          "base_uri": "https://localhost:8080/"
        },
        "id": "GP3rauNIjEI8",
        "outputId": "aad48d55-0248-4953-d5e2-24dce6f068a7"
      },
      "outputs": [
        {
          "name": "stdout",
          "output_type": "stream",
          "text": [
            "MovieSummaries/\n",
            "MovieSummaries/tvtropes.clusters.txt\n",
            "MovieSummaries/name.clusters.txt\n",
            "MovieSummaries/plot_summaries.txt\n",
            "MovieSummaries/README.txt\n",
            "MovieSummaries/movie.metadata.tsv\n",
            "MovieSummaries/character.metadata.tsv\n"
          ]
        }
      ],
      "source": [
        "!tar -xvzf MovieSummaries.tar.gz"
      ]
    },
    {
      "cell_type": "markdown",
      "metadata": {
        "id": "nGzuUtnTrBpz"
      },
      "source": [
        "#**Data Exploration and Pre-processing**"
      ]
    },
    {
      "cell_type": "code",
      "execution_count": null,
      "metadata": {
        "id": "uFhEqL1djajP"
      },
      "outputs": [],
      "source": [
        "import pandas as pd"
      ]
    },
    {
      "cell_type": "code",
      "execution_count": null,
      "metadata": {
        "id": "szg8cQc5nRLS"
      },
      "outputs": [],
      "source": [
        "movie_metadata=pd.read_csv('/content/MovieSummaries/movie.metadata.tsv',sep='\\t', header=None)#names=movie_metadata_names)"
      ]
    },
    {
      "cell_type": "markdown",
      "metadata": {
        "id": "VRN7o7ah3t1W"
      },
      "source": [
        "\n",
        "\n",
        "---\n",
        "\n",
        "\n",
        "\n",
        "---\n",
        "\n",
        "\n",
        "There are no headers in this dataset. The first column is the **unique movie id**, the third column is the **name of the movie**, and the last column is the **movie genre(s)**. We will not use the rest of the columns in this analysis.\n",
        "\n",
        "\n",
        "\n",
        "---\n",
        "\n",
        "\n",
        "\n",
        "---\n",
        "\n",
        "\n",
        "\n",
        "---\n",
        "\n"
      ]
    },
    {
      "cell_type": "code",
      "execution_count": null,
      "metadata": {
        "colab": {
          "base_uri": "https://localhost:8080/",
          "height": 693
        },
        "id": "pFHZAowA_mQY",
        "outputId": "4e614b45-2f36-4654-96b9-ba1f3094756a"
      },
      "outputs": [
        {
          "data": {
            "text/html": [
              "\n",
              "  <div id=\"df-40f473d8-816d-411c-97cb-2bc0ddb5d3c0\">\n",
              "    <div class=\"colab-df-container\">\n",
              "      <div>\n",
              "<style scoped>\n",
              "    .dataframe tbody tr th:only-of-type {\n",
              "        vertical-align: middle;\n",
              "    }\n",
              "\n",
              "    .dataframe tbody tr th {\n",
              "        vertical-align: top;\n",
              "    }\n",
              "\n",
              "    .dataframe thead th {\n",
              "        text-align: right;\n",
              "    }\n",
              "</style>\n",
              "<table border=\"1\" class=\"dataframe\">\n",
              "  <thead>\n",
              "    <tr style=\"text-align: right;\">\n",
              "      <th></th>\n",
              "      <th>0</th>\n",
              "      <th>1</th>\n",
              "      <th>2</th>\n",
              "      <th>3</th>\n",
              "      <th>4</th>\n",
              "      <th>5</th>\n",
              "      <th>6</th>\n",
              "      <th>7</th>\n",
              "      <th>8</th>\n",
              "    </tr>\n",
              "  </thead>\n",
              "  <tbody>\n",
              "    <tr>\n",
              "      <th>0</th>\n",
              "      <td>975900</td>\n",
              "      <td>/m/03vyhn</td>\n",
              "      <td>Ghosts of Mars</td>\n",
              "      <td>2001-08-24</td>\n",
              "      <td>14010832.0</td>\n",
              "      <td>98.0</td>\n",
              "      <td>{\"/m/02h40lc\": \"English Language\"}</td>\n",
              "      <td>{\"/m/09c7w0\": \"United States of America\"}</td>\n",
              "      <td>{\"/m/01jfsb\": \"Thriller\", \"/m/06n90\": \"Science...</td>\n",
              "    </tr>\n",
              "    <tr>\n",
              "      <th>1</th>\n",
              "      <td>3196793</td>\n",
              "      <td>/m/08yl5d</td>\n",
              "      <td>Getting Away with Murder: The JonBenét Ramsey ...</td>\n",
              "      <td>2000-02-16</td>\n",
              "      <td>NaN</td>\n",
              "      <td>95.0</td>\n",
              "      <td>{\"/m/02h40lc\": \"English Language\"}</td>\n",
              "      <td>{\"/m/09c7w0\": \"United States of America\"}</td>\n",
              "      <td>{\"/m/02n4kr\": \"Mystery\", \"/m/03bxz7\": \"Biograp...</td>\n",
              "    </tr>\n",
              "    <tr>\n",
              "      <th>2</th>\n",
              "      <td>28463795</td>\n",
              "      <td>/m/0crgdbh</td>\n",
              "      <td>Brun bitter</td>\n",
              "      <td>1988</td>\n",
              "      <td>NaN</td>\n",
              "      <td>83.0</td>\n",
              "      <td>{\"/m/05f_3\": \"Norwegian Language\"}</td>\n",
              "      <td>{\"/m/05b4w\": \"Norway\"}</td>\n",
              "      <td>{\"/m/0lsxr\": \"Crime Fiction\", \"/m/07s9rl0\": \"D...</td>\n",
              "    </tr>\n",
              "    <tr>\n",
              "      <th>3</th>\n",
              "      <td>9363483</td>\n",
              "      <td>/m/0285_cd</td>\n",
              "      <td>White Of The Eye</td>\n",
              "      <td>1987</td>\n",
              "      <td>NaN</td>\n",
              "      <td>110.0</td>\n",
              "      <td>{\"/m/02h40lc\": \"English Language\"}</td>\n",
              "      <td>{\"/m/07ssc\": \"United Kingdom\"}</td>\n",
              "      <td>{\"/m/01jfsb\": \"Thriller\", \"/m/0glj9q\": \"Erotic...</td>\n",
              "    </tr>\n",
              "    <tr>\n",
              "      <th>4</th>\n",
              "      <td>261236</td>\n",
              "      <td>/m/01mrr1</td>\n",
              "      <td>A Woman in Flames</td>\n",
              "      <td>1983</td>\n",
              "      <td>NaN</td>\n",
              "      <td>106.0</td>\n",
              "      <td>{\"/m/04306rv\": \"German Language\"}</td>\n",
              "      <td>{\"/m/0345h\": \"Germany\"}</td>\n",
              "      <td>{\"/m/07s9rl0\": \"Drama\"}</td>\n",
              "    </tr>\n",
              "    <tr>\n",
              "      <th>...</th>\n",
              "      <td>...</td>\n",
              "      <td>...</td>\n",
              "      <td>...</td>\n",
              "      <td>...</td>\n",
              "      <td>...</td>\n",
              "      <td>...</td>\n",
              "      <td>...</td>\n",
              "      <td>...</td>\n",
              "      <td>...</td>\n",
              "    </tr>\n",
              "    <tr>\n",
              "      <th>81736</th>\n",
              "      <td>35228177</td>\n",
              "      <td>/m/0j7hxnt</td>\n",
              "      <td>Mermaids: The Body Found</td>\n",
              "      <td>2011-03-19</td>\n",
              "      <td>NaN</td>\n",
              "      <td>120.0</td>\n",
              "      <td>{\"/m/02h40lc\": \"English Language\"}</td>\n",
              "      <td>{\"/m/09c7w0\": \"United States of America\"}</td>\n",
              "      <td>{\"/m/07s9rl0\": \"Drama\"}</td>\n",
              "    </tr>\n",
              "    <tr>\n",
              "      <th>81737</th>\n",
              "      <td>34980460</td>\n",
              "      <td>/m/0g4pl34</td>\n",
              "      <td>Knuckle</td>\n",
              "      <td>2011-01-21</td>\n",
              "      <td>NaN</td>\n",
              "      <td>96.0</td>\n",
              "      <td>{\"/m/02h40lc\": \"English Language\"}</td>\n",
              "      <td>{\"/m/03rt9\": \"Ireland\", \"/m/07ssc\": \"United Ki...</td>\n",
              "      <td>{\"/m/03bxz7\": \"Biographical film\", \"/m/07s9rl0...</td>\n",
              "    </tr>\n",
              "    <tr>\n",
              "      <th>81738</th>\n",
              "      <td>9971909</td>\n",
              "      <td>/m/02pygw1</td>\n",
              "      <td>Another Nice Mess</td>\n",
              "      <td>1972-09-22</td>\n",
              "      <td>NaN</td>\n",
              "      <td>66.0</td>\n",
              "      <td>{\"/m/02h40lc\": \"English Language\"}</td>\n",
              "      <td>{\"/m/09c7w0\": \"United States of America\"}</td>\n",
              "      <td>{\"/m/06nbt\": \"Satire\", \"/m/01z4y\": \"Comedy\"}</td>\n",
              "    </tr>\n",
              "    <tr>\n",
              "      <th>81739</th>\n",
              "      <td>913762</td>\n",
              "      <td>/m/03pcrp</td>\n",
              "      <td>The Super Dimension Fortress Macross II: Lover...</td>\n",
              "      <td>1992-05-21</td>\n",
              "      <td>NaN</td>\n",
              "      <td>150.0</td>\n",
              "      <td>{\"/m/03_9r\": \"Japanese Language\"}</td>\n",
              "      <td>{\"/m/03_3d\": \"Japan\"}</td>\n",
              "      <td>{\"/m/06n90\": \"Science Fiction\", \"/m/0gw5n2f\": ...</td>\n",
              "    </tr>\n",
              "    <tr>\n",
              "      <th>81740</th>\n",
              "      <td>12476867</td>\n",
              "      <td>/m/02w7zz8</td>\n",
              "      <td>Spliced</td>\n",
              "      <td>2002</td>\n",
              "      <td>NaN</td>\n",
              "      <td>86.0</td>\n",
              "      <td>{\"/m/02h40lc\": \"English Language\"}</td>\n",
              "      <td>{\"/m/0d060g\": \"Canada\"}</td>\n",
              "      <td>{\"/m/01jfsb\": \"Thriller\", \"/m/03npn\": \"Horror\"...</td>\n",
              "    </tr>\n",
              "  </tbody>\n",
              "</table>\n",
              "<p>81741 rows × 9 columns</p>\n",
              "</div>\n",
              "      <button class=\"colab-df-convert\" onclick=\"convertToInteractive('df-40f473d8-816d-411c-97cb-2bc0ddb5d3c0')\"\n",
              "              title=\"Convert this dataframe to an interactive table.\"\n",
              "              style=\"display:none;\">\n",
              "        \n",
              "  <svg xmlns=\"http://www.w3.org/2000/svg\" height=\"24px\"viewBox=\"0 0 24 24\"\n",
              "       width=\"24px\">\n",
              "    <path d=\"M0 0h24v24H0V0z\" fill=\"none\"/>\n",
              "    <path d=\"M18.56 5.44l.94 2.06.94-2.06 2.06-.94-2.06-.94-.94-2.06-.94 2.06-2.06.94zm-11 1L8.5 8.5l.94-2.06 2.06-.94-2.06-.94L8.5 2.5l-.94 2.06-2.06.94zm10 10l.94 2.06.94-2.06 2.06-.94-2.06-.94-.94-2.06-.94 2.06-2.06.94z\"/><path d=\"M17.41 7.96l-1.37-1.37c-.4-.4-.92-.59-1.43-.59-.52 0-1.04.2-1.43.59L10.3 9.45l-7.72 7.72c-.78.78-.78 2.05 0 2.83L4 21.41c.39.39.9.59 1.41.59.51 0 1.02-.2 1.41-.59l7.78-7.78 2.81-2.81c.8-.78.8-2.07 0-2.86zM5.41 20L4 18.59l7.72-7.72 1.47 1.35L5.41 20z\"/>\n",
              "  </svg>\n",
              "      </button>\n",
              "      \n",
              "  <style>\n",
              "    .colab-df-container {\n",
              "      display:flex;\n",
              "      flex-wrap:wrap;\n",
              "      gap: 12px;\n",
              "    }\n",
              "\n",
              "    .colab-df-convert {\n",
              "      background-color: #E8F0FE;\n",
              "      border: none;\n",
              "      border-radius: 50%;\n",
              "      cursor: pointer;\n",
              "      display: none;\n",
              "      fill: #1967D2;\n",
              "      height: 32px;\n",
              "      padding: 0 0 0 0;\n",
              "      width: 32px;\n",
              "    }\n",
              "\n",
              "    .colab-df-convert:hover {\n",
              "      background-color: #E2EBFA;\n",
              "      box-shadow: 0px 1px 2px rgba(60, 64, 67, 0.3), 0px 1px 3px 1px rgba(60, 64, 67, 0.15);\n",
              "      fill: #174EA6;\n",
              "    }\n",
              "\n",
              "    [theme=dark] .colab-df-convert {\n",
              "      background-color: #3B4455;\n",
              "      fill: #D2E3FC;\n",
              "    }\n",
              "\n",
              "    [theme=dark] .colab-df-convert:hover {\n",
              "      background-color: #434B5C;\n",
              "      box-shadow: 0px 1px 3px 1px rgba(0, 0, 0, 0.15);\n",
              "      filter: drop-shadow(0px 1px 2px rgba(0, 0, 0, 0.3));\n",
              "      fill: #FFFFFF;\n",
              "    }\n",
              "  </style>\n",
              "\n",
              "      <script>\n",
              "        const buttonEl =\n",
              "          document.querySelector('#df-40f473d8-816d-411c-97cb-2bc0ddb5d3c0 button.colab-df-convert');\n",
              "        buttonEl.style.display =\n",
              "          google.colab.kernel.accessAllowed ? 'block' : 'none';\n",
              "\n",
              "        async function convertToInteractive(key) {\n",
              "          const element = document.querySelector('#df-40f473d8-816d-411c-97cb-2bc0ddb5d3c0');\n",
              "          const dataTable =\n",
              "            await google.colab.kernel.invokeFunction('convertToInteractive',\n",
              "                                                     [key], {});\n",
              "          if (!dataTable) return;\n",
              "\n",
              "          const docLinkHtml = 'Like what you see? Visit the ' +\n",
              "            '<a target=\"_blank\" href=https://colab.research.google.com/notebooks/data_table.ipynb>data table notebook</a>'\n",
              "            + ' to learn more about interactive tables.';\n",
              "          element.innerHTML = '';\n",
              "          dataTable['output_type'] = 'display_data';\n",
              "          await google.colab.output.renderOutput(dataTable, element);\n",
              "          const docLink = document.createElement('div');\n",
              "          docLink.innerHTML = docLinkHtml;\n",
              "          element.appendChild(docLink);\n",
              "        }\n",
              "      </script>\n",
              "    </div>\n",
              "  </div>\n",
              "  "
            ],
            "text/plain": [
              "              0           1  \\\n",
              "0        975900   /m/03vyhn   \n",
              "1       3196793   /m/08yl5d   \n",
              "2      28463795  /m/0crgdbh   \n",
              "3       9363483  /m/0285_cd   \n",
              "4        261236   /m/01mrr1   \n",
              "...         ...         ...   \n",
              "81736  35228177  /m/0j7hxnt   \n",
              "81737  34980460  /m/0g4pl34   \n",
              "81738   9971909  /m/02pygw1   \n",
              "81739    913762   /m/03pcrp   \n",
              "81740  12476867  /m/02w7zz8   \n",
              "\n",
              "                                                       2           3  \\\n",
              "0                                         Ghosts of Mars  2001-08-24   \n",
              "1      Getting Away with Murder: The JonBenét Ramsey ...  2000-02-16   \n",
              "2                                            Brun bitter        1988   \n",
              "3                                       White Of The Eye        1987   \n",
              "4                                      A Woman in Flames        1983   \n",
              "...                                                  ...         ...   \n",
              "81736                           Mermaids: The Body Found  2011-03-19   \n",
              "81737                                            Knuckle  2011-01-21   \n",
              "81738                                  Another Nice Mess  1972-09-22   \n",
              "81739  The Super Dimension Fortress Macross II: Lover...  1992-05-21   \n",
              "81740                                            Spliced        2002   \n",
              "\n",
              "                4      5                                   6  \\\n",
              "0      14010832.0   98.0  {\"/m/02h40lc\": \"English Language\"}   \n",
              "1             NaN   95.0  {\"/m/02h40lc\": \"English Language\"}   \n",
              "2             NaN   83.0  {\"/m/05f_3\": \"Norwegian Language\"}   \n",
              "3             NaN  110.0  {\"/m/02h40lc\": \"English Language\"}   \n",
              "4             NaN  106.0   {\"/m/04306rv\": \"German Language\"}   \n",
              "...           ...    ...                                 ...   \n",
              "81736         NaN  120.0  {\"/m/02h40lc\": \"English Language\"}   \n",
              "81737         NaN   96.0  {\"/m/02h40lc\": \"English Language\"}   \n",
              "81738         NaN   66.0  {\"/m/02h40lc\": \"English Language\"}   \n",
              "81739         NaN  150.0   {\"/m/03_9r\": \"Japanese Language\"}   \n",
              "81740         NaN   86.0  {\"/m/02h40lc\": \"English Language\"}   \n",
              "\n",
              "                                                       7  \\\n",
              "0              {\"/m/09c7w0\": \"United States of America\"}   \n",
              "1              {\"/m/09c7w0\": \"United States of America\"}   \n",
              "2                                 {\"/m/05b4w\": \"Norway\"}   \n",
              "3                         {\"/m/07ssc\": \"United Kingdom\"}   \n",
              "4                                {\"/m/0345h\": \"Germany\"}   \n",
              "...                                                  ...   \n",
              "81736          {\"/m/09c7w0\": \"United States of America\"}   \n",
              "81737  {\"/m/03rt9\": \"Ireland\", \"/m/07ssc\": \"United Ki...   \n",
              "81738          {\"/m/09c7w0\": \"United States of America\"}   \n",
              "81739                              {\"/m/03_3d\": \"Japan\"}   \n",
              "81740                            {\"/m/0d060g\": \"Canada\"}   \n",
              "\n",
              "                                                       8  \n",
              "0      {\"/m/01jfsb\": \"Thriller\", \"/m/06n90\": \"Science...  \n",
              "1      {\"/m/02n4kr\": \"Mystery\", \"/m/03bxz7\": \"Biograp...  \n",
              "2      {\"/m/0lsxr\": \"Crime Fiction\", \"/m/07s9rl0\": \"D...  \n",
              "3      {\"/m/01jfsb\": \"Thriller\", \"/m/0glj9q\": \"Erotic...  \n",
              "4                                {\"/m/07s9rl0\": \"Drama\"}  \n",
              "...                                                  ...  \n",
              "81736                            {\"/m/07s9rl0\": \"Drama\"}  \n",
              "81737  {\"/m/03bxz7\": \"Biographical film\", \"/m/07s9rl0...  \n",
              "81738       {\"/m/06nbt\": \"Satire\", \"/m/01z4y\": \"Comedy\"}  \n",
              "81739  {\"/m/06n90\": \"Science Fiction\", \"/m/0gw5n2f\": ...  \n",
              "81740  {\"/m/01jfsb\": \"Thriller\", \"/m/03npn\": \"Horror\"...  \n",
              "\n",
              "[81741 rows x 9 columns]"
            ]
          },
          "execution_count": 6,
          "metadata": {},
          "output_type": "execute_result"
        }
      ],
      "source": [
        "movie_metadata"
      ]
    },
    {
      "cell_type": "code",
      "execution_count": null,
      "metadata": {
        "id": "8UFGk4XYo207"
      },
      "outputs": [],
      "source": [
        "#Naming all the Headers\n",
        "movie_metadata_names=[ \"Wikipedia movie ID\",\n",
        "\"Freebase movie ID\",\n",
        "\"Movie_name\",\n",
        "\"Movie_release date\",\n",
        "\"Movie_box office revenue\",\n",
        "\"Movie_runtime\",\n",
        "\"Movie_languages\",\n",
        "\"Movie_countries\",\n",
        "\"Movie_genres\"]"
      ]
    },
    {
      "cell_type": "code",
      "execution_count": null,
      "metadata": {
        "id": "ehzcG3BWAL8B"
      },
      "outputs": [],
      "source": [
        "movie_metadata=pd.read_csv('/content/MovieSummaries/movie.metadata.tsv',sep='\\t', names=movie_metadata_names)"
      ]
    },
    {
      "cell_type": "code",
      "execution_count": null,
      "metadata": {
        "colab": {
          "base_uri": "https://localhost:8080/",
          "height": 988
        },
        "id": "7yppAtfcJTlT",
        "outputId": "475b0f7a-9049-4c72-dade-8b2e930249d9"
      },
      "outputs": [
        {
          "data": {
            "text/html": [
              "\n",
              "  <div id=\"df-d529fd6b-d0a3-43bf-b67e-e2d1008778f8\">\n",
              "    <div class=\"colab-df-container\">\n",
              "      <div>\n",
              "<style scoped>\n",
              "    .dataframe tbody tr th:only-of-type {\n",
              "        vertical-align: middle;\n",
              "    }\n",
              "\n",
              "    .dataframe tbody tr th {\n",
              "        vertical-align: top;\n",
              "    }\n",
              "\n",
              "    .dataframe thead th {\n",
              "        text-align: right;\n",
              "    }\n",
              "</style>\n",
              "<table border=\"1\" class=\"dataframe\">\n",
              "  <thead>\n",
              "    <tr style=\"text-align: right;\">\n",
              "      <th></th>\n",
              "      <th>Wikipedia movie ID</th>\n",
              "      <th>Freebase movie ID</th>\n",
              "      <th>Movie_name</th>\n",
              "      <th>Movie_release date</th>\n",
              "      <th>Movie_box office revenue</th>\n",
              "      <th>Movie_runtime</th>\n",
              "      <th>Movie_languages</th>\n",
              "      <th>Movie_countries</th>\n",
              "      <th>Movie_genres</th>\n",
              "    </tr>\n",
              "  </thead>\n",
              "  <tbody>\n",
              "    <tr>\n",
              "      <th>0</th>\n",
              "      <td>975900</td>\n",
              "      <td>/m/03vyhn</td>\n",
              "      <td>Ghosts of Mars</td>\n",
              "      <td>2001-08-24</td>\n",
              "      <td>14010832.0</td>\n",
              "      <td>98.0</td>\n",
              "      <td>{\"/m/02h40lc\": \"English Language\"}</td>\n",
              "      <td>{\"/m/09c7w0\": \"United States of America\"}</td>\n",
              "      <td>{\"/m/01jfsb\": \"Thriller\", \"/m/06n90\": \"Science...</td>\n",
              "    </tr>\n",
              "    <tr>\n",
              "      <th>1</th>\n",
              "      <td>3196793</td>\n",
              "      <td>/m/08yl5d</td>\n",
              "      <td>Getting Away with Murder: The JonBenét Ramsey ...</td>\n",
              "      <td>2000-02-16</td>\n",
              "      <td>NaN</td>\n",
              "      <td>95.0</td>\n",
              "      <td>{\"/m/02h40lc\": \"English Language\"}</td>\n",
              "      <td>{\"/m/09c7w0\": \"United States of America\"}</td>\n",
              "      <td>{\"/m/02n4kr\": \"Mystery\", \"/m/03bxz7\": \"Biograp...</td>\n",
              "    </tr>\n",
              "    <tr>\n",
              "      <th>2</th>\n",
              "      <td>28463795</td>\n",
              "      <td>/m/0crgdbh</td>\n",
              "      <td>Brun bitter</td>\n",
              "      <td>1988</td>\n",
              "      <td>NaN</td>\n",
              "      <td>83.0</td>\n",
              "      <td>{\"/m/05f_3\": \"Norwegian Language\"}</td>\n",
              "      <td>{\"/m/05b4w\": \"Norway\"}</td>\n",
              "      <td>{\"/m/0lsxr\": \"Crime Fiction\", \"/m/07s9rl0\": \"D...</td>\n",
              "    </tr>\n",
              "    <tr>\n",
              "      <th>3</th>\n",
              "      <td>9363483</td>\n",
              "      <td>/m/0285_cd</td>\n",
              "      <td>White Of The Eye</td>\n",
              "      <td>1987</td>\n",
              "      <td>NaN</td>\n",
              "      <td>110.0</td>\n",
              "      <td>{\"/m/02h40lc\": \"English Language\"}</td>\n",
              "      <td>{\"/m/07ssc\": \"United Kingdom\"}</td>\n",
              "      <td>{\"/m/01jfsb\": \"Thriller\", \"/m/0glj9q\": \"Erotic...</td>\n",
              "    </tr>\n",
              "    <tr>\n",
              "      <th>4</th>\n",
              "      <td>261236</td>\n",
              "      <td>/m/01mrr1</td>\n",
              "      <td>A Woman in Flames</td>\n",
              "      <td>1983</td>\n",
              "      <td>NaN</td>\n",
              "      <td>106.0</td>\n",
              "      <td>{\"/m/04306rv\": \"German Language\"}</td>\n",
              "      <td>{\"/m/0345h\": \"Germany\"}</td>\n",
              "      <td>{\"/m/07s9rl0\": \"Drama\"}</td>\n",
              "    </tr>\n",
              "    <tr>\n",
              "      <th>...</th>\n",
              "      <td>...</td>\n",
              "      <td>...</td>\n",
              "      <td>...</td>\n",
              "      <td>...</td>\n",
              "      <td>...</td>\n",
              "      <td>...</td>\n",
              "      <td>...</td>\n",
              "      <td>...</td>\n",
              "      <td>...</td>\n",
              "    </tr>\n",
              "    <tr>\n",
              "      <th>81736</th>\n",
              "      <td>35228177</td>\n",
              "      <td>/m/0j7hxnt</td>\n",
              "      <td>Mermaids: The Body Found</td>\n",
              "      <td>2011-03-19</td>\n",
              "      <td>NaN</td>\n",
              "      <td>120.0</td>\n",
              "      <td>{\"/m/02h40lc\": \"English Language\"}</td>\n",
              "      <td>{\"/m/09c7w0\": \"United States of America\"}</td>\n",
              "      <td>{\"/m/07s9rl0\": \"Drama\"}</td>\n",
              "    </tr>\n",
              "    <tr>\n",
              "      <th>81737</th>\n",
              "      <td>34980460</td>\n",
              "      <td>/m/0g4pl34</td>\n",
              "      <td>Knuckle</td>\n",
              "      <td>2011-01-21</td>\n",
              "      <td>NaN</td>\n",
              "      <td>96.0</td>\n",
              "      <td>{\"/m/02h40lc\": \"English Language\"}</td>\n",
              "      <td>{\"/m/03rt9\": \"Ireland\", \"/m/07ssc\": \"United Ki...</td>\n",
              "      <td>{\"/m/03bxz7\": \"Biographical film\", \"/m/07s9rl0...</td>\n",
              "    </tr>\n",
              "    <tr>\n",
              "      <th>81738</th>\n",
              "      <td>9971909</td>\n",
              "      <td>/m/02pygw1</td>\n",
              "      <td>Another Nice Mess</td>\n",
              "      <td>1972-09-22</td>\n",
              "      <td>NaN</td>\n",
              "      <td>66.0</td>\n",
              "      <td>{\"/m/02h40lc\": \"English Language\"}</td>\n",
              "      <td>{\"/m/09c7w0\": \"United States of America\"}</td>\n",
              "      <td>{\"/m/06nbt\": \"Satire\", \"/m/01z4y\": \"Comedy\"}</td>\n",
              "    </tr>\n",
              "    <tr>\n",
              "      <th>81739</th>\n",
              "      <td>913762</td>\n",
              "      <td>/m/03pcrp</td>\n",
              "      <td>The Super Dimension Fortress Macross II: Lover...</td>\n",
              "      <td>1992-05-21</td>\n",
              "      <td>NaN</td>\n",
              "      <td>150.0</td>\n",
              "      <td>{\"/m/03_9r\": \"Japanese Language\"}</td>\n",
              "      <td>{\"/m/03_3d\": \"Japan\"}</td>\n",
              "      <td>{\"/m/06n90\": \"Science Fiction\", \"/m/0gw5n2f\": ...</td>\n",
              "    </tr>\n",
              "    <tr>\n",
              "      <th>81740</th>\n",
              "      <td>12476867</td>\n",
              "      <td>/m/02w7zz8</td>\n",
              "      <td>Spliced</td>\n",
              "      <td>2002</td>\n",
              "      <td>NaN</td>\n",
              "      <td>86.0</td>\n",
              "      <td>{\"/m/02h40lc\": \"English Language\"}</td>\n",
              "      <td>{\"/m/0d060g\": \"Canada\"}</td>\n",
              "      <td>{\"/m/01jfsb\": \"Thriller\", \"/m/03npn\": \"Horror\"...</td>\n",
              "    </tr>\n",
              "  </tbody>\n",
              "</table>\n",
              "<p>81741 rows × 9 columns</p>\n",
              "</div>\n",
              "      <button class=\"colab-df-convert\" onclick=\"convertToInteractive('df-d529fd6b-d0a3-43bf-b67e-e2d1008778f8')\"\n",
              "              title=\"Convert this dataframe to an interactive table.\"\n",
              "              style=\"display:none;\">\n",
              "        \n",
              "  <svg xmlns=\"http://www.w3.org/2000/svg\" height=\"24px\"viewBox=\"0 0 24 24\"\n",
              "       width=\"24px\">\n",
              "    <path d=\"M0 0h24v24H0V0z\" fill=\"none\"/>\n",
              "    <path d=\"M18.56 5.44l.94 2.06.94-2.06 2.06-.94-2.06-.94-.94-2.06-.94 2.06-2.06.94zm-11 1L8.5 8.5l.94-2.06 2.06-.94-2.06-.94L8.5 2.5l-.94 2.06-2.06.94zm10 10l.94 2.06.94-2.06 2.06-.94-2.06-.94-.94-2.06-.94 2.06-2.06.94z\"/><path d=\"M17.41 7.96l-1.37-1.37c-.4-.4-.92-.59-1.43-.59-.52 0-1.04.2-1.43.59L10.3 9.45l-7.72 7.72c-.78.78-.78 2.05 0 2.83L4 21.41c.39.39.9.59 1.41.59.51 0 1.02-.2 1.41-.59l7.78-7.78 2.81-2.81c.8-.78.8-2.07 0-2.86zM5.41 20L4 18.59l7.72-7.72 1.47 1.35L5.41 20z\"/>\n",
              "  </svg>\n",
              "      </button>\n",
              "      \n",
              "  <style>\n",
              "    .colab-df-container {\n",
              "      display:flex;\n",
              "      flex-wrap:wrap;\n",
              "      gap: 12px;\n",
              "    }\n",
              "\n",
              "    .colab-df-convert {\n",
              "      background-color: #E8F0FE;\n",
              "      border: none;\n",
              "      border-radius: 50%;\n",
              "      cursor: pointer;\n",
              "      display: none;\n",
              "      fill: #1967D2;\n",
              "      height: 32px;\n",
              "      padding: 0 0 0 0;\n",
              "      width: 32px;\n",
              "    }\n",
              "\n",
              "    .colab-df-convert:hover {\n",
              "      background-color: #E2EBFA;\n",
              "      box-shadow: 0px 1px 2px rgba(60, 64, 67, 0.3), 0px 1px 3px 1px rgba(60, 64, 67, 0.15);\n",
              "      fill: #174EA6;\n",
              "    }\n",
              "\n",
              "    [theme=dark] .colab-df-convert {\n",
              "      background-color: #3B4455;\n",
              "      fill: #D2E3FC;\n",
              "    }\n",
              "\n",
              "    [theme=dark] .colab-df-convert:hover {\n",
              "      background-color: #434B5C;\n",
              "      box-shadow: 0px 1px 3px 1px rgba(0, 0, 0, 0.15);\n",
              "      filter: drop-shadow(0px 1px 2px rgba(0, 0, 0, 0.3));\n",
              "      fill: #FFFFFF;\n",
              "    }\n",
              "  </style>\n",
              "\n",
              "      <script>\n",
              "        const buttonEl =\n",
              "          document.querySelector('#df-d529fd6b-d0a3-43bf-b67e-e2d1008778f8 button.colab-df-convert');\n",
              "        buttonEl.style.display =\n",
              "          google.colab.kernel.accessAllowed ? 'block' : 'none';\n",
              "\n",
              "        async function convertToInteractive(key) {\n",
              "          const element = document.querySelector('#df-d529fd6b-d0a3-43bf-b67e-e2d1008778f8');\n",
              "          const dataTable =\n",
              "            await google.colab.kernel.invokeFunction('convertToInteractive',\n",
              "                                                     [key], {});\n",
              "          if (!dataTable) return;\n",
              "\n",
              "          const docLinkHtml = 'Like what you see? Visit the ' +\n",
              "            '<a target=\"_blank\" href=https://colab.research.google.com/notebooks/data_table.ipynb>data table notebook</a>'\n",
              "            + ' to learn more about interactive tables.';\n",
              "          element.innerHTML = '';\n",
              "          dataTable['output_type'] = 'display_data';\n",
              "          await google.colab.output.renderOutput(dataTable, element);\n",
              "          const docLink = document.createElement('div');\n",
              "          docLink.innerHTML = docLinkHtml;\n",
              "          element.appendChild(docLink);\n",
              "        }\n",
              "      </script>\n",
              "    </div>\n",
              "  </div>\n",
              "  "
            ],
            "text/plain": [
              "       Wikipedia movie ID Freebase movie ID  \\\n",
              "0                  975900         /m/03vyhn   \n",
              "1                 3196793         /m/08yl5d   \n",
              "2                28463795        /m/0crgdbh   \n",
              "3                 9363483        /m/0285_cd   \n",
              "4                  261236         /m/01mrr1   \n",
              "...                   ...               ...   \n",
              "81736            35228177        /m/0j7hxnt   \n",
              "81737            34980460        /m/0g4pl34   \n",
              "81738             9971909        /m/02pygw1   \n",
              "81739              913762         /m/03pcrp   \n",
              "81740            12476867        /m/02w7zz8   \n",
              "\n",
              "                                              Movie_name Movie_release date  \\\n",
              "0                                         Ghosts of Mars         2001-08-24   \n",
              "1      Getting Away with Murder: The JonBenét Ramsey ...         2000-02-16   \n",
              "2                                            Brun bitter               1988   \n",
              "3                                       White Of The Eye               1987   \n",
              "4                                      A Woman in Flames               1983   \n",
              "...                                                  ...                ...   \n",
              "81736                           Mermaids: The Body Found         2011-03-19   \n",
              "81737                                            Knuckle         2011-01-21   \n",
              "81738                                  Another Nice Mess         1972-09-22   \n",
              "81739  The Super Dimension Fortress Macross II: Lover...         1992-05-21   \n",
              "81740                                            Spliced               2002   \n",
              "\n",
              "       Movie_box office revenue  Movie_runtime  \\\n",
              "0                    14010832.0           98.0   \n",
              "1                           NaN           95.0   \n",
              "2                           NaN           83.0   \n",
              "3                           NaN          110.0   \n",
              "4                           NaN          106.0   \n",
              "...                         ...            ...   \n",
              "81736                       NaN          120.0   \n",
              "81737                       NaN           96.0   \n",
              "81738                       NaN           66.0   \n",
              "81739                       NaN          150.0   \n",
              "81740                       NaN           86.0   \n",
              "\n",
              "                          Movie_languages  \\\n",
              "0      {\"/m/02h40lc\": \"English Language\"}   \n",
              "1      {\"/m/02h40lc\": \"English Language\"}   \n",
              "2      {\"/m/05f_3\": \"Norwegian Language\"}   \n",
              "3      {\"/m/02h40lc\": \"English Language\"}   \n",
              "4       {\"/m/04306rv\": \"German Language\"}   \n",
              "...                                   ...   \n",
              "81736  {\"/m/02h40lc\": \"English Language\"}   \n",
              "81737  {\"/m/02h40lc\": \"English Language\"}   \n",
              "81738  {\"/m/02h40lc\": \"English Language\"}   \n",
              "81739   {\"/m/03_9r\": \"Japanese Language\"}   \n",
              "81740  {\"/m/02h40lc\": \"English Language\"}   \n",
              "\n",
              "                                         Movie_countries  \\\n",
              "0              {\"/m/09c7w0\": \"United States of America\"}   \n",
              "1              {\"/m/09c7w0\": \"United States of America\"}   \n",
              "2                                 {\"/m/05b4w\": \"Norway\"}   \n",
              "3                         {\"/m/07ssc\": \"United Kingdom\"}   \n",
              "4                                {\"/m/0345h\": \"Germany\"}   \n",
              "...                                                  ...   \n",
              "81736          {\"/m/09c7w0\": \"United States of America\"}   \n",
              "81737  {\"/m/03rt9\": \"Ireland\", \"/m/07ssc\": \"United Ki...   \n",
              "81738          {\"/m/09c7w0\": \"United States of America\"}   \n",
              "81739                              {\"/m/03_3d\": \"Japan\"}   \n",
              "81740                            {\"/m/0d060g\": \"Canada\"}   \n",
              "\n",
              "                                            Movie_genres  \n",
              "0      {\"/m/01jfsb\": \"Thriller\", \"/m/06n90\": \"Science...  \n",
              "1      {\"/m/02n4kr\": \"Mystery\", \"/m/03bxz7\": \"Biograp...  \n",
              "2      {\"/m/0lsxr\": \"Crime Fiction\", \"/m/07s9rl0\": \"D...  \n",
              "3      {\"/m/01jfsb\": \"Thriller\", \"/m/0glj9q\": \"Erotic...  \n",
              "4                                {\"/m/07s9rl0\": \"Drama\"}  \n",
              "...                                                  ...  \n",
              "81736                            {\"/m/07s9rl0\": \"Drama\"}  \n",
              "81737  {\"/m/03bxz7\": \"Biographical film\", \"/m/07s9rl0...  \n",
              "81738       {\"/m/06nbt\": \"Satire\", \"/m/01z4y\": \"Comedy\"}  \n",
              "81739  {\"/m/06n90\": \"Science Fiction\", \"/m/0gw5n2f\": ...  \n",
              "81740  {\"/m/01jfsb\": \"Thriller\", \"/m/03npn\": \"Horror\"...  \n",
              "\n",
              "[81741 rows x 9 columns]"
            ]
          },
          "execution_count": 9,
          "metadata": {},
          "output_type": "execute_result"
        }
      ],
      "source": [
        "movie_metadata\n"
      ]
    },
    {
      "cell_type": "markdown",
      "metadata": {
        "id": "R7vNrB_MJnKt"
      },
      "source": [
        "\n",
        "\n",
        "---\n",
        "\n",
        "\n",
        "\n",
        "---\n",
        "\n",
        "\n",
        "Out of 9 columns we need only 2 of them for our classification.\n",
        "\n",
        "*   **Movie ID**\n",
        "*   **Movie Genres**\n",
        "\n",
        "\n",
        "---\n",
        "\n",
        "\n",
        "\n",
        "---\n",
        "\n",
        "\n",
        "\n",
        "---\n",
        "\n",
        "\n",
        "\n"
      ]
    },
    {
      "cell_type": "code",
      "execution_count": null,
      "metadata": {
        "id": "6pDM89nQnfpO"
      },
      "outputs": [],
      "source": [
        "#Dropping all the unwanted columns \n",
        "movie_metadata=movie_metadata.drop(columns=[\"Freebase movie ID\",\n",
        "\"Movie_name\",\n",
        "\"Movie_release date\",\n",
        "\"Movie_box office revenue\",\n",
        "\"Movie_runtime\",\n",
        "\"Movie_languages\",\n",
        "\"Movie_countries\",])"
      ]
    },
    {
      "cell_type": "code",
      "execution_count": null,
      "metadata": {
        "colab": {
          "base_uri": "https://localhost:8080/",
          "height": 424
        },
        "id": "iIzMWiZ12sP4",
        "outputId": "2b24d47d-6254-4e4f-ea37-82e484dbda1c"
      },
      "outputs": [
        {
          "data": {
            "text/html": [
              "\n",
              "  <div id=\"df-3b1a9e81-307c-4b19-aaec-4bd1a5df5913\">\n",
              "    <div class=\"colab-df-container\">\n",
              "      <div>\n",
              "<style scoped>\n",
              "    .dataframe tbody tr th:only-of-type {\n",
              "        vertical-align: middle;\n",
              "    }\n",
              "\n",
              "    .dataframe tbody tr th {\n",
              "        vertical-align: top;\n",
              "    }\n",
              "\n",
              "    .dataframe thead th {\n",
              "        text-align: right;\n",
              "    }\n",
              "</style>\n",
              "<table border=\"1\" class=\"dataframe\">\n",
              "  <thead>\n",
              "    <tr style=\"text-align: right;\">\n",
              "      <th></th>\n",
              "      <th>Wikipedia movie ID</th>\n",
              "      <th>Movie_genres</th>\n",
              "    </tr>\n",
              "  </thead>\n",
              "  <tbody>\n",
              "    <tr>\n",
              "      <th>0</th>\n",
              "      <td>975900</td>\n",
              "      <td>{\"/m/01jfsb\": \"Thriller\", \"/m/06n90\": \"Science...</td>\n",
              "    </tr>\n",
              "    <tr>\n",
              "      <th>1</th>\n",
              "      <td>3196793</td>\n",
              "      <td>{\"/m/02n4kr\": \"Mystery\", \"/m/03bxz7\": \"Biograp...</td>\n",
              "    </tr>\n",
              "    <tr>\n",
              "      <th>2</th>\n",
              "      <td>28463795</td>\n",
              "      <td>{\"/m/0lsxr\": \"Crime Fiction\", \"/m/07s9rl0\": \"D...</td>\n",
              "    </tr>\n",
              "    <tr>\n",
              "      <th>3</th>\n",
              "      <td>9363483</td>\n",
              "      <td>{\"/m/01jfsb\": \"Thriller\", \"/m/0glj9q\": \"Erotic...</td>\n",
              "    </tr>\n",
              "    <tr>\n",
              "      <th>4</th>\n",
              "      <td>261236</td>\n",
              "      <td>{\"/m/07s9rl0\": \"Drama\"}</td>\n",
              "    </tr>\n",
              "    <tr>\n",
              "      <th>...</th>\n",
              "      <td>...</td>\n",
              "      <td>...</td>\n",
              "    </tr>\n",
              "    <tr>\n",
              "      <th>81736</th>\n",
              "      <td>35228177</td>\n",
              "      <td>{\"/m/07s9rl0\": \"Drama\"}</td>\n",
              "    </tr>\n",
              "    <tr>\n",
              "      <th>81737</th>\n",
              "      <td>34980460</td>\n",
              "      <td>{\"/m/03bxz7\": \"Biographical film\", \"/m/07s9rl0...</td>\n",
              "    </tr>\n",
              "    <tr>\n",
              "      <th>81738</th>\n",
              "      <td>9971909</td>\n",
              "      <td>{\"/m/06nbt\": \"Satire\", \"/m/01z4y\": \"Comedy\"}</td>\n",
              "    </tr>\n",
              "    <tr>\n",
              "      <th>81739</th>\n",
              "      <td>913762</td>\n",
              "      <td>{\"/m/06n90\": \"Science Fiction\", \"/m/0gw5n2f\": ...</td>\n",
              "    </tr>\n",
              "    <tr>\n",
              "      <th>81740</th>\n",
              "      <td>12476867</td>\n",
              "      <td>{\"/m/01jfsb\": \"Thriller\", \"/m/03npn\": \"Horror\"...</td>\n",
              "    </tr>\n",
              "  </tbody>\n",
              "</table>\n",
              "<p>81741 rows × 2 columns</p>\n",
              "</div>\n",
              "      <button class=\"colab-df-convert\" onclick=\"convertToInteractive('df-3b1a9e81-307c-4b19-aaec-4bd1a5df5913')\"\n",
              "              title=\"Convert this dataframe to an interactive table.\"\n",
              "              style=\"display:none;\">\n",
              "        \n",
              "  <svg xmlns=\"http://www.w3.org/2000/svg\" height=\"24px\"viewBox=\"0 0 24 24\"\n",
              "       width=\"24px\">\n",
              "    <path d=\"M0 0h24v24H0V0z\" fill=\"none\"/>\n",
              "    <path d=\"M18.56 5.44l.94 2.06.94-2.06 2.06-.94-2.06-.94-.94-2.06-.94 2.06-2.06.94zm-11 1L8.5 8.5l.94-2.06 2.06-.94-2.06-.94L8.5 2.5l-.94 2.06-2.06.94zm10 10l.94 2.06.94-2.06 2.06-.94-2.06-.94-.94-2.06-.94 2.06-2.06.94z\"/><path d=\"M17.41 7.96l-1.37-1.37c-.4-.4-.92-.59-1.43-.59-.52 0-1.04.2-1.43.59L10.3 9.45l-7.72 7.72c-.78.78-.78 2.05 0 2.83L4 21.41c.39.39.9.59 1.41.59.51 0 1.02-.2 1.41-.59l7.78-7.78 2.81-2.81c.8-.78.8-2.07 0-2.86zM5.41 20L4 18.59l7.72-7.72 1.47 1.35L5.41 20z\"/>\n",
              "  </svg>\n",
              "      </button>\n",
              "      \n",
              "  <style>\n",
              "    .colab-df-container {\n",
              "      display:flex;\n",
              "      flex-wrap:wrap;\n",
              "      gap: 12px;\n",
              "    }\n",
              "\n",
              "    .colab-df-convert {\n",
              "      background-color: #E8F0FE;\n",
              "      border: none;\n",
              "      border-radius: 50%;\n",
              "      cursor: pointer;\n",
              "      display: none;\n",
              "      fill: #1967D2;\n",
              "      height: 32px;\n",
              "      padding: 0 0 0 0;\n",
              "      width: 32px;\n",
              "    }\n",
              "\n",
              "    .colab-df-convert:hover {\n",
              "      background-color: #E2EBFA;\n",
              "      box-shadow: 0px 1px 2px rgba(60, 64, 67, 0.3), 0px 1px 3px 1px rgba(60, 64, 67, 0.15);\n",
              "      fill: #174EA6;\n",
              "    }\n",
              "\n",
              "    [theme=dark] .colab-df-convert {\n",
              "      background-color: #3B4455;\n",
              "      fill: #D2E3FC;\n",
              "    }\n",
              "\n",
              "    [theme=dark] .colab-df-convert:hover {\n",
              "      background-color: #434B5C;\n",
              "      box-shadow: 0px 1px 3px 1px rgba(0, 0, 0, 0.15);\n",
              "      filter: drop-shadow(0px 1px 2px rgba(0, 0, 0, 0.3));\n",
              "      fill: #FFFFFF;\n",
              "    }\n",
              "  </style>\n",
              "\n",
              "      <script>\n",
              "        const buttonEl =\n",
              "          document.querySelector('#df-3b1a9e81-307c-4b19-aaec-4bd1a5df5913 button.colab-df-convert');\n",
              "        buttonEl.style.display =\n",
              "          google.colab.kernel.accessAllowed ? 'block' : 'none';\n",
              "\n",
              "        async function convertToInteractive(key) {\n",
              "          const element = document.querySelector('#df-3b1a9e81-307c-4b19-aaec-4bd1a5df5913');\n",
              "          const dataTable =\n",
              "            await google.colab.kernel.invokeFunction('convertToInteractive',\n",
              "                                                     [key], {});\n",
              "          if (!dataTable) return;\n",
              "\n",
              "          const docLinkHtml = 'Like what you see? Visit the ' +\n",
              "            '<a target=\"_blank\" href=https://colab.research.google.com/notebooks/data_table.ipynb>data table notebook</a>'\n",
              "            + ' to learn more about interactive tables.';\n",
              "          element.innerHTML = '';\n",
              "          dataTable['output_type'] = 'display_data';\n",
              "          await google.colab.output.renderOutput(dataTable, element);\n",
              "          const docLink = document.createElement('div');\n",
              "          docLink.innerHTML = docLinkHtml;\n",
              "          element.appendChild(docLink);\n",
              "        }\n",
              "      </script>\n",
              "    </div>\n",
              "  </div>\n",
              "  "
            ],
            "text/plain": [
              "       Wikipedia movie ID                                       Movie_genres\n",
              "0                  975900  {\"/m/01jfsb\": \"Thriller\", \"/m/06n90\": \"Science...\n",
              "1                 3196793  {\"/m/02n4kr\": \"Mystery\", \"/m/03bxz7\": \"Biograp...\n",
              "2                28463795  {\"/m/0lsxr\": \"Crime Fiction\", \"/m/07s9rl0\": \"D...\n",
              "3                 9363483  {\"/m/01jfsb\": \"Thriller\", \"/m/0glj9q\": \"Erotic...\n",
              "4                  261236                            {\"/m/07s9rl0\": \"Drama\"}\n",
              "...                   ...                                                ...\n",
              "81736            35228177                            {\"/m/07s9rl0\": \"Drama\"}\n",
              "81737            34980460  {\"/m/03bxz7\": \"Biographical film\", \"/m/07s9rl0...\n",
              "81738             9971909       {\"/m/06nbt\": \"Satire\", \"/m/01z4y\": \"Comedy\"}\n",
              "81739              913762  {\"/m/06n90\": \"Science Fiction\", \"/m/0gw5n2f\": ...\n",
              "81740            12476867  {\"/m/01jfsb\": \"Thriller\", \"/m/03npn\": \"Horror\"...\n",
              "\n",
              "[81741 rows x 2 columns]"
            ]
          },
          "execution_count": 11,
          "metadata": {},
          "output_type": "execute_result"
        }
      ],
      "source": [
        "movie_metadata"
      ]
    },
    {
      "cell_type": "code",
      "execution_count": null,
      "metadata": {
        "id": "tHhDsSGRqrQ7"
      },
      "outputs": [],
      "source": [
        "movie_metadata[\"Movie_genres\"] = movie_metadata[\"Movie_genres\"].map(lambda genres: list(eval(genres).values()))"
      ]
    },
    {
      "cell_type": "markdown",
      "metadata": {
        "id": "QgTLANSnKFqP"
      },
      "source": [
        "\n",
        "\n",
        "---\n",
        "\n",
        "\n",
        "\n",
        "---\n",
        "\n",
        "\n",
        "We can’t access the genres in this row by using just .values( ). This is because this text is a string, not a dictionary. We will have to convert this string into a dictionary. We will take the help of the json library here\n",
        "\n",
        "\n",
        "\n",
        "\n",
        "---\n",
        "\n",
        "\n",
        "\n",
        "---\n",
        "\n"
      ]
    },
    {
      "cell_type": "code",
      "execution_count": null,
      "metadata": {
        "colab": {
          "base_uri": "https://localhost:8080/",
          "height": 424
        },
        "id": "26ZWqzwfrumD",
        "outputId": "8f1b9df0-a32b-4903-9965-a82cec77e33a"
      },
      "outputs": [
        {
          "data": {
            "text/html": [
              "\n",
              "  <div id=\"df-89d22b17-c01a-467f-bbdc-99fdadbb1e31\">\n",
              "    <div class=\"colab-df-container\">\n",
              "      <div>\n",
              "<style scoped>\n",
              "    .dataframe tbody tr th:only-of-type {\n",
              "        vertical-align: middle;\n",
              "    }\n",
              "\n",
              "    .dataframe tbody tr th {\n",
              "        vertical-align: top;\n",
              "    }\n",
              "\n",
              "    .dataframe thead th {\n",
              "        text-align: right;\n",
              "    }\n",
              "</style>\n",
              "<table border=\"1\" class=\"dataframe\">\n",
              "  <thead>\n",
              "    <tr style=\"text-align: right;\">\n",
              "      <th></th>\n",
              "      <th>Wikipedia movie ID</th>\n",
              "      <th>Movie_genres</th>\n",
              "    </tr>\n",
              "  </thead>\n",
              "  <tbody>\n",
              "    <tr>\n",
              "      <th>0</th>\n",
              "      <td>975900</td>\n",
              "      <td>[Thriller, Science Fiction, Horror, Adventure,...</td>\n",
              "    </tr>\n",
              "    <tr>\n",
              "      <th>1</th>\n",
              "      <td>3196793</td>\n",
              "      <td>[Mystery, Biographical film, Drama, Crime Drama]</td>\n",
              "    </tr>\n",
              "    <tr>\n",
              "      <th>2</th>\n",
              "      <td>28463795</td>\n",
              "      <td>[Crime Fiction, Drama]</td>\n",
              "    </tr>\n",
              "    <tr>\n",
              "      <th>3</th>\n",
              "      <td>9363483</td>\n",
              "      <td>[Thriller, Erotic thriller, Psychological thri...</td>\n",
              "    </tr>\n",
              "    <tr>\n",
              "      <th>4</th>\n",
              "      <td>261236</td>\n",
              "      <td>[Drama]</td>\n",
              "    </tr>\n",
              "    <tr>\n",
              "      <th>...</th>\n",
              "      <td>...</td>\n",
              "      <td>...</td>\n",
              "    </tr>\n",
              "    <tr>\n",
              "      <th>81736</th>\n",
              "      <td>35228177</td>\n",
              "      <td>[Drama]</td>\n",
              "    </tr>\n",
              "    <tr>\n",
              "      <th>81737</th>\n",
              "      <td>34980460</td>\n",
              "      <td>[Biographical film, Drama, Documentary]</td>\n",
              "    </tr>\n",
              "    <tr>\n",
              "      <th>81738</th>\n",
              "      <td>9971909</td>\n",
              "      <td>[Satire, Comedy]</td>\n",
              "    </tr>\n",
              "    <tr>\n",
              "      <th>81739</th>\n",
              "      <td>913762</td>\n",
              "      <td>[Science Fiction, Japanese Movies, Adventure, ...</td>\n",
              "    </tr>\n",
              "    <tr>\n",
              "      <th>81740</th>\n",
              "      <td>12476867</td>\n",
              "      <td>[Thriller, Horror, Slasher, Teen]</td>\n",
              "    </tr>\n",
              "  </tbody>\n",
              "</table>\n",
              "<p>81741 rows × 2 columns</p>\n",
              "</div>\n",
              "      <button class=\"colab-df-convert\" onclick=\"convertToInteractive('df-89d22b17-c01a-467f-bbdc-99fdadbb1e31')\"\n",
              "              title=\"Convert this dataframe to an interactive table.\"\n",
              "              style=\"display:none;\">\n",
              "        \n",
              "  <svg xmlns=\"http://www.w3.org/2000/svg\" height=\"24px\"viewBox=\"0 0 24 24\"\n",
              "       width=\"24px\">\n",
              "    <path d=\"M0 0h24v24H0V0z\" fill=\"none\"/>\n",
              "    <path d=\"M18.56 5.44l.94 2.06.94-2.06 2.06-.94-2.06-.94-.94-2.06-.94 2.06-2.06.94zm-11 1L8.5 8.5l.94-2.06 2.06-.94-2.06-.94L8.5 2.5l-.94 2.06-2.06.94zm10 10l.94 2.06.94-2.06 2.06-.94-2.06-.94-.94-2.06-.94 2.06-2.06.94z\"/><path d=\"M17.41 7.96l-1.37-1.37c-.4-.4-.92-.59-1.43-.59-.52 0-1.04.2-1.43.59L10.3 9.45l-7.72 7.72c-.78.78-.78 2.05 0 2.83L4 21.41c.39.39.9.59 1.41.59.51 0 1.02-.2 1.41-.59l7.78-7.78 2.81-2.81c.8-.78.8-2.07 0-2.86zM5.41 20L4 18.59l7.72-7.72 1.47 1.35L5.41 20z\"/>\n",
              "  </svg>\n",
              "      </button>\n",
              "      \n",
              "  <style>\n",
              "    .colab-df-container {\n",
              "      display:flex;\n",
              "      flex-wrap:wrap;\n",
              "      gap: 12px;\n",
              "    }\n",
              "\n",
              "    .colab-df-convert {\n",
              "      background-color: #E8F0FE;\n",
              "      border: none;\n",
              "      border-radius: 50%;\n",
              "      cursor: pointer;\n",
              "      display: none;\n",
              "      fill: #1967D2;\n",
              "      height: 32px;\n",
              "      padding: 0 0 0 0;\n",
              "      width: 32px;\n",
              "    }\n",
              "\n",
              "    .colab-df-convert:hover {\n",
              "      background-color: #E2EBFA;\n",
              "      box-shadow: 0px 1px 2px rgba(60, 64, 67, 0.3), 0px 1px 3px 1px rgba(60, 64, 67, 0.15);\n",
              "      fill: #174EA6;\n",
              "    }\n",
              "\n",
              "    [theme=dark] .colab-df-convert {\n",
              "      background-color: #3B4455;\n",
              "      fill: #D2E3FC;\n",
              "    }\n",
              "\n",
              "    [theme=dark] .colab-df-convert:hover {\n",
              "      background-color: #434B5C;\n",
              "      box-shadow: 0px 1px 3px 1px rgba(0, 0, 0, 0.15);\n",
              "      filter: drop-shadow(0px 1px 2px rgba(0, 0, 0, 0.3));\n",
              "      fill: #FFFFFF;\n",
              "    }\n",
              "  </style>\n",
              "\n",
              "      <script>\n",
              "        const buttonEl =\n",
              "          document.querySelector('#df-89d22b17-c01a-467f-bbdc-99fdadbb1e31 button.colab-df-convert');\n",
              "        buttonEl.style.display =\n",
              "          google.colab.kernel.accessAllowed ? 'block' : 'none';\n",
              "\n",
              "        async function convertToInteractive(key) {\n",
              "          const element = document.querySelector('#df-89d22b17-c01a-467f-bbdc-99fdadbb1e31');\n",
              "          const dataTable =\n",
              "            await google.colab.kernel.invokeFunction('convertToInteractive',\n",
              "                                                     [key], {});\n",
              "          if (!dataTable) return;\n",
              "\n",
              "          const docLinkHtml = 'Like what you see? Visit the ' +\n",
              "            '<a target=\"_blank\" href=https://colab.research.google.com/notebooks/data_table.ipynb>data table notebook</a>'\n",
              "            + ' to learn more about interactive tables.';\n",
              "          element.innerHTML = '';\n",
              "          dataTable['output_type'] = 'display_data';\n",
              "          await google.colab.output.renderOutput(dataTable, element);\n",
              "          const docLink = document.createElement('div');\n",
              "          docLink.innerHTML = docLinkHtml;\n",
              "          element.appendChild(docLink);\n",
              "        }\n",
              "      </script>\n",
              "    </div>\n",
              "  </div>\n",
              "  "
            ],
            "text/plain": [
              "       Wikipedia movie ID                                       Movie_genres\n",
              "0                  975900  [Thriller, Science Fiction, Horror, Adventure,...\n",
              "1                 3196793   [Mystery, Biographical film, Drama, Crime Drama]\n",
              "2                28463795                             [Crime Fiction, Drama]\n",
              "3                 9363483  [Thriller, Erotic thriller, Psychological thri...\n",
              "4                  261236                                            [Drama]\n",
              "...                   ...                                                ...\n",
              "81736            35228177                                            [Drama]\n",
              "81737            34980460            [Biographical film, Drama, Documentary]\n",
              "81738             9971909                                   [Satire, Comedy]\n",
              "81739              913762  [Science Fiction, Japanese Movies, Adventure, ...\n",
              "81740            12476867                  [Thriller, Horror, Slasher, Teen]\n",
              "\n",
              "[81741 rows x 2 columns]"
            ]
          },
          "execution_count": 13,
          "metadata": {},
          "output_type": "execute_result"
        }
      ],
      "source": [
        "movie_metadata"
      ]
    },
    {
      "cell_type": "markdown",
      "metadata": {
        "id": "xWppQdA8KvbM"
      },
      "source": [
        "#**Loading Plot Summary**\n",
        "\n",
        "\n",
        "---\n",
        "\n",
        "---\n",
        "\n",
        "\n",
        "\n",
        "Now, we will load the movie plot dataset into memory. This data comes in a text file with each row consisting of a movie id and a plot of the movie. We will read it line-by-line:\n",
        "\n",
        "\n",
        "---\n",
        "\n",
        "\n",
        "\n",
        "---\n",
        "\n"
      ]
    },
    {
      "cell_type": "code",
      "execution_count": null,
      "metadata": {
        "id": "9_fg6pLztqrX"
      },
      "outputs": [],
      "source": [
        "plot_summaries=pd.read_csv('/content/MovieSummaries/plot_summaries.txt',sep='\\t',names=[\"Wikipedia movie ID\",\"Summary\"])"
      ]
    },
    {
      "cell_type": "code",
      "execution_count": null,
      "metadata": {
        "colab": {
          "base_uri": "https://localhost:8080/",
          "height": 424
        },
        "id": "iIg8PmJFw1Th",
        "outputId": "b52426b7-b77e-4ea0-ac71-34d477d81fe0"
      },
      "outputs": [
        {
          "data": {
            "text/html": [
              "\n",
              "  <div id=\"df-b199e882-db0a-469d-8bf7-03ead71da1d0\">\n",
              "    <div class=\"colab-df-container\">\n",
              "      <div>\n",
              "<style scoped>\n",
              "    .dataframe tbody tr th:only-of-type {\n",
              "        vertical-align: middle;\n",
              "    }\n",
              "\n",
              "    .dataframe tbody tr th {\n",
              "        vertical-align: top;\n",
              "    }\n",
              "\n",
              "    .dataframe thead th {\n",
              "        text-align: right;\n",
              "    }\n",
              "</style>\n",
              "<table border=\"1\" class=\"dataframe\">\n",
              "  <thead>\n",
              "    <tr style=\"text-align: right;\">\n",
              "      <th></th>\n",
              "      <th>Wikipedia movie ID</th>\n",
              "      <th>Summary</th>\n",
              "    </tr>\n",
              "  </thead>\n",
              "  <tbody>\n",
              "    <tr>\n",
              "      <th>0</th>\n",
              "      <td>23890098</td>\n",
              "      <td>Shlykov, a hard-working taxi driver and Lyosha...</td>\n",
              "    </tr>\n",
              "    <tr>\n",
              "      <th>1</th>\n",
              "      <td>31186339</td>\n",
              "      <td>The nation of Panem consists of a wealthy Capi...</td>\n",
              "    </tr>\n",
              "    <tr>\n",
              "      <th>2</th>\n",
              "      <td>20663735</td>\n",
              "      <td>Poovalli Induchoodan  is sentenced for six yea...</td>\n",
              "    </tr>\n",
              "    <tr>\n",
              "      <th>3</th>\n",
              "      <td>2231378</td>\n",
              "      <td>The Lemon Drop Kid , a New York City swindler,...</td>\n",
              "    </tr>\n",
              "    <tr>\n",
              "      <th>4</th>\n",
              "      <td>595909</td>\n",
              "      <td>Seventh-day Adventist Church pastor Michael Ch...</td>\n",
              "    </tr>\n",
              "    <tr>\n",
              "      <th>...</th>\n",
              "      <td>...</td>\n",
              "      <td>...</td>\n",
              "    </tr>\n",
              "    <tr>\n",
              "      <th>42298</th>\n",
              "      <td>34808485</td>\n",
              "      <td>The story is about Reema , a young Muslim scho...</td>\n",
              "    </tr>\n",
              "    <tr>\n",
              "      <th>42299</th>\n",
              "      <td>1096473</td>\n",
              "      <td>In 1928 Hollywood, director Leo Andreyev  look...</td>\n",
              "    </tr>\n",
              "    <tr>\n",
              "      <th>42300</th>\n",
              "      <td>35102018</td>\n",
              "      <td>American Luthier focuses on Randy Parsons’ tra...</td>\n",
              "    </tr>\n",
              "    <tr>\n",
              "      <th>42301</th>\n",
              "      <td>8628195</td>\n",
              "      <td>Abdur Rehman Khan , a middle-aged dry fruit se...</td>\n",
              "    </tr>\n",
              "    <tr>\n",
              "      <th>42302</th>\n",
              "      <td>6040782</td>\n",
              "      <td>1940 - Operation Dynamo has just taken place. ...</td>\n",
              "    </tr>\n",
              "  </tbody>\n",
              "</table>\n",
              "<p>42303 rows × 2 columns</p>\n",
              "</div>\n",
              "      <button class=\"colab-df-convert\" onclick=\"convertToInteractive('df-b199e882-db0a-469d-8bf7-03ead71da1d0')\"\n",
              "              title=\"Convert this dataframe to an interactive table.\"\n",
              "              style=\"display:none;\">\n",
              "        \n",
              "  <svg xmlns=\"http://www.w3.org/2000/svg\" height=\"24px\"viewBox=\"0 0 24 24\"\n",
              "       width=\"24px\">\n",
              "    <path d=\"M0 0h24v24H0V0z\" fill=\"none\"/>\n",
              "    <path d=\"M18.56 5.44l.94 2.06.94-2.06 2.06-.94-2.06-.94-.94-2.06-.94 2.06-2.06.94zm-11 1L8.5 8.5l.94-2.06 2.06-.94-2.06-.94L8.5 2.5l-.94 2.06-2.06.94zm10 10l.94 2.06.94-2.06 2.06-.94-2.06-.94-.94-2.06-.94 2.06-2.06.94z\"/><path d=\"M17.41 7.96l-1.37-1.37c-.4-.4-.92-.59-1.43-.59-.52 0-1.04.2-1.43.59L10.3 9.45l-7.72 7.72c-.78.78-.78 2.05 0 2.83L4 21.41c.39.39.9.59 1.41.59.51 0 1.02-.2 1.41-.59l7.78-7.78 2.81-2.81c.8-.78.8-2.07 0-2.86zM5.41 20L4 18.59l7.72-7.72 1.47 1.35L5.41 20z\"/>\n",
              "  </svg>\n",
              "      </button>\n",
              "      \n",
              "  <style>\n",
              "    .colab-df-container {\n",
              "      display:flex;\n",
              "      flex-wrap:wrap;\n",
              "      gap: 12px;\n",
              "    }\n",
              "\n",
              "    .colab-df-convert {\n",
              "      background-color: #E8F0FE;\n",
              "      border: none;\n",
              "      border-radius: 50%;\n",
              "      cursor: pointer;\n",
              "      display: none;\n",
              "      fill: #1967D2;\n",
              "      height: 32px;\n",
              "      padding: 0 0 0 0;\n",
              "      width: 32px;\n",
              "    }\n",
              "\n",
              "    .colab-df-convert:hover {\n",
              "      background-color: #E2EBFA;\n",
              "      box-shadow: 0px 1px 2px rgba(60, 64, 67, 0.3), 0px 1px 3px 1px rgba(60, 64, 67, 0.15);\n",
              "      fill: #174EA6;\n",
              "    }\n",
              "\n",
              "    [theme=dark] .colab-df-convert {\n",
              "      background-color: #3B4455;\n",
              "      fill: #D2E3FC;\n",
              "    }\n",
              "\n",
              "    [theme=dark] .colab-df-convert:hover {\n",
              "      background-color: #434B5C;\n",
              "      box-shadow: 0px 1px 3px 1px rgba(0, 0, 0, 0.15);\n",
              "      filter: drop-shadow(0px 1px 2px rgba(0, 0, 0, 0.3));\n",
              "      fill: #FFFFFF;\n",
              "    }\n",
              "  </style>\n",
              "\n",
              "      <script>\n",
              "        const buttonEl =\n",
              "          document.querySelector('#df-b199e882-db0a-469d-8bf7-03ead71da1d0 button.colab-df-convert');\n",
              "        buttonEl.style.display =\n",
              "          google.colab.kernel.accessAllowed ? 'block' : 'none';\n",
              "\n",
              "        async function convertToInteractive(key) {\n",
              "          const element = document.querySelector('#df-b199e882-db0a-469d-8bf7-03ead71da1d0');\n",
              "          const dataTable =\n",
              "            await google.colab.kernel.invokeFunction('convertToInteractive',\n",
              "                                                     [key], {});\n",
              "          if (!dataTable) return;\n",
              "\n",
              "          const docLinkHtml = 'Like what you see? Visit the ' +\n",
              "            '<a target=\"_blank\" href=https://colab.research.google.com/notebooks/data_table.ipynb>data table notebook</a>'\n",
              "            + ' to learn more about interactive tables.';\n",
              "          element.innerHTML = '';\n",
              "          dataTable['output_type'] = 'display_data';\n",
              "          await google.colab.output.renderOutput(dataTable, element);\n",
              "          const docLink = document.createElement('div');\n",
              "          docLink.innerHTML = docLinkHtml;\n",
              "          element.appendChild(docLink);\n",
              "        }\n",
              "      </script>\n",
              "    </div>\n",
              "  </div>\n",
              "  "
            ],
            "text/plain": [
              "       Wikipedia movie ID                                            Summary\n",
              "0                23890098  Shlykov, a hard-working taxi driver and Lyosha...\n",
              "1                31186339  The nation of Panem consists of a wealthy Capi...\n",
              "2                20663735  Poovalli Induchoodan  is sentenced for six yea...\n",
              "3                 2231378  The Lemon Drop Kid , a New York City swindler,...\n",
              "4                  595909  Seventh-day Adventist Church pastor Michael Ch...\n",
              "...                   ...                                                ...\n",
              "42298            34808485  The story is about Reema , a young Muslim scho...\n",
              "42299             1096473  In 1928 Hollywood, director Leo Andreyev  look...\n",
              "42300            35102018  American Luthier focuses on Randy Parsons’ tra...\n",
              "42301             8628195  Abdur Rehman Khan , a middle-aged dry fruit se...\n",
              "42302             6040782  1940 - Operation Dynamo has just taken place. ...\n",
              "\n",
              "[42303 rows x 2 columns]"
            ]
          },
          "execution_count": 15,
          "metadata": {},
          "output_type": "execute_result"
        }
      ],
      "source": [
        "plot_summaries #Matching Plot summaries with the Movie ID"
      ]
    },
    {
      "cell_type": "markdown",
      "metadata": {
        "id": "FGhrkSi7LwEY"
      },
      "source": [
        "**Merging** the summary with Movie data"
      ]
    },
    {
      "cell_type": "code",
      "execution_count": null,
      "metadata": {
        "id": "Is-_2l0Tw3nQ"
      },
      "outputs": [],
      "source": [
        "dataset = pd.merge(movie_metadata,plot_summaries,on=\"Wikipedia movie ID\")"
      ]
    },
    {
      "cell_type": "code",
      "execution_count": null,
      "metadata": {
        "colab": {
          "base_uri": "https://localhost:8080/",
          "height": 424
        },
        "id": "a4L6X2C4x0Z4",
        "outputId": "f406963d-f147-4a05-ef80-c6e6d06bddd7"
      },
      "outputs": [
        {
          "data": {
            "text/html": [
              "\n",
              "  <div id=\"df-409308af-be95-4133-95c5-4c0ee25fc598\">\n",
              "    <div class=\"colab-df-container\">\n",
              "      <div>\n",
              "<style scoped>\n",
              "    .dataframe tbody tr th:only-of-type {\n",
              "        vertical-align: middle;\n",
              "    }\n",
              "\n",
              "    .dataframe tbody tr th {\n",
              "        vertical-align: top;\n",
              "    }\n",
              "\n",
              "    .dataframe thead th {\n",
              "        text-align: right;\n",
              "    }\n",
              "</style>\n",
              "<table border=\"1\" class=\"dataframe\">\n",
              "  <thead>\n",
              "    <tr style=\"text-align: right;\">\n",
              "      <th></th>\n",
              "      <th>Wikipedia movie ID</th>\n",
              "      <th>Movie_genres</th>\n",
              "      <th>Summary</th>\n",
              "    </tr>\n",
              "  </thead>\n",
              "  <tbody>\n",
              "    <tr>\n",
              "      <th>0</th>\n",
              "      <td>975900</td>\n",
              "      <td>[Thriller, Science Fiction, Horror, Adventure,...</td>\n",
              "      <td>Set in the second half of the 22nd century, th...</td>\n",
              "    </tr>\n",
              "    <tr>\n",
              "      <th>1</th>\n",
              "      <td>9363483</td>\n",
              "      <td>[Thriller, Erotic thriller, Psychological thri...</td>\n",
              "      <td>A series of murders of rich young women throug...</td>\n",
              "    </tr>\n",
              "    <tr>\n",
              "      <th>2</th>\n",
              "      <td>261236</td>\n",
              "      <td>[Drama]</td>\n",
              "      <td>Eva, an upper class housewife, becomes frustra...</td>\n",
              "    </tr>\n",
              "    <tr>\n",
              "      <th>3</th>\n",
              "      <td>18998739</td>\n",
              "      <td>[Family Film, Fantasy, Adventure, World cinema]</td>\n",
              "      <td>Every hundred years, the evil Morgana  returns...</td>\n",
              "    </tr>\n",
              "    <tr>\n",
              "      <th>4</th>\n",
              "      <td>6631279</td>\n",
              "      <td>[Romantic comedy, Ensemble Film, Comedy-drama,...</td>\n",
              "      <td>Adam, a San Francisco-based artist who works a...</td>\n",
              "    </tr>\n",
              "    <tr>\n",
              "      <th>...</th>\n",
              "      <td>...</td>\n",
              "      <td>...</td>\n",
              "      <td>...</td>\n",
              "    </tr>\n",
              "    <tr>\n",
              "      <th>42199</th>\n",
              "      <td>23851782</td>\n",
              "      <td>[Crime Fiction, Thriller, Comedy, Supernatural]</td>\n",
              "      <td>{{plot}} The film opens with a Great Western e...</td>\n",
              "    </tr>\n",
              "    <tr>\n",
              "      <th>42200</th>\n",
              "      <td>35228177</td>\n",
              "      <td>[Drama]</td>\n",
              "      <td>Two former National Oceanic Atmospheric Admini...</td>\n",
              "    </tr>\n",
              "    <tr>\n",
              "      <th>42201</th>\n",
              "      <td>34980460</td>\n",
              "      <td>[Biographical film, Drama, Documentary]</td>\n",
              "      <td>{{No plot}} This film follows 12 years in the ...</td>\n",
              "    </tr>\n",
              "    <tr>\n",
              "      <th>42202</th>\n",
              "      <td>913762</td>\n",
              "      <td>[Science Fiction, Japanese Movies, Adventure, ...</td>\n",
              "      <td>The story takes place in the year 2092,The Sup...</td>\n",
              "    </tr>\n",
              "    <tr>\n",
              "      <th>42203</th>\n",
              "      <td>12476867</td>\n",
              "      <td>[Thriller, Horror, Slasher, Teen]</td>\n",
              "      <td>The movie is about a teenage girl who loves ho...</td>\n",
              "    </tr>\n",
              "  </tbody>\n",
              "</table>\n",
              "<p>42204 rows × 3 columns</p>\n",
              "</div>\n",
              "      <button class=\"colab-df-convert\" onclick=\"convertToInteractive('df-409308af-be95-4133-95c5-4c0ee25fc598')\"\n",
              "              title=\"Convert this dataframe to an interactive table.\"\n",
              "              style=\"display:none;\">\n",
              "        \n",
              "  <svg xmlns=\"http://www.w3.org/2000/svg\" height=\"24px\"viewBox=\"0 0 24 24\"\n",
              "       width=\"24px\">\n",
              "    <path d=\"M0 0h24v24H0V0z\" fill=\"none\"/>\n",
              "    <path d=\"M18.56 5.44l.94 2.06.94-2.06 2.06-.94-2.06-.94-.94-2.06-.94 2.06-2.06.94zm-11 1L8.5 8.5l.94-2.06 2.06-.94-2.06-.94L8.5 2.5l-.94 2.06-2.06.94zm10 10l.94 2.06.94-2.06 2.06-.94-2.06-.94-.94-2.06-.94 2.06-2.06.94z\"/><path d=\"M17.41 7.96l-1.37-1.37c-.4-.4-.92-.59-1.43-.59-.52 0-1.04.2-1.43.59L10.3 9.45l-7.72 7.72c-.78.78-.78 2.05 0 2.83L4 21.41c.39.39.9.59 1.41.59.51 0 1.02-.2 1.41-.59l7.78-7.78 2.81-2.81c.8-.78.8-2.07 0-2.86zM5.41 20L4 18.59l7.72-7.72 1.47 1.35L5.41 20z\"/>\n",
              "  </svg>\n",
              "      </button>\n",
              "      \n",
              "  <style>\n",
              "    .colab-df-container {\n",
              "      display:flex;\n",
              "      flex-wrap:wrap;\n",
              "      gap: 12px;\n",
              "    }\n",
              "\n",
              "    .colab-df-convert {\n",
              "      background-color: #E8F0FE;\n",
              "      border: none;\n",
              "      border-radius: 50%;\n",
              "      cursor: pointer;\n",
              "      display: none;\n",
              "      fill: #1967D2;\n",
              "      height: 32px;\n",
              "      padding: 0 0 0 0;\n",
              "      width: 32px;\n",
              "    }\n",
              "\n",
              "    .colab-df-convert:hover {\n",
              "      background-color: #E2EBFA;\n",
              "      box-shadow: 0px 1px 2px rgba(60, 64, 67, 0.3), 0px 1px 3px 1px rgba(60, 64, 67, 0.15);\n",
              "      fill: #174EA6;\n",
              "    }\n",
              "\n",
              "    [theme=dark] .colab-df-convert {\n",
              "      background-color: #3B4455;\n",
              "      fill: #D2E3FC;\n",
              "    }\n",
              "\n",
              "    [theme=dark] .colab-df-convert:hover {\n",
              "      background-color: #434B5C;\n",
              "      box-shadow: 0px 1px 3px 1px rgba(0, 0, 0, 0.15);\n",
              "      filter: drop-shadow(0px 1px 2px rgba(0, 0, 0, 0.3));\n",
              "      fill: #FFFFFF;\n",
              "    }\n",
              "  </style>\n",
              "\n",
              "      <script>\n",
              "        const buttonEl =\n",
              "          document.querySelector('#df-409308af-be95-4133-95c5-4c0ee25fc598 button.colab-df-convert');\n",
              "        buttonEl.style.display =\n",
              "          google.colab.kernel.accessAllowed ? 'block' : 'none';\n",
              "\n",
              "        async function convertToInteractive(key) {\n",
              "          const element = document.querySelector('#df-409308af-be95-4133-95c5-4c0ee25fc598');\n",
              "          const dataTable =\n",
              "            await google.colab.kernel.invokeFunction('convertToInteractive',\n",
              "                                                     [key], {});\n",
              "          if (!dataTable) return;\n",
              "\n",
              "          const docLinkHtml = 'Like what you see? Visit the ' +\n",
              "            '<a target=\"_blank\" href=https://colab.research.google.com/notebooks/data_table.ipynb>data table notebook</a>'\n",
              "            + ' to learn more about interactive tables.';\n",
              "          element.innerHTML = '';\n",
              "          dataTable['output_type'] = 'display_data';\n",
              "          await google.colab.output.renderOutput(dataTable, element);\n",
              "          const docLink = document.createElement('div');\n",
              "          docLink.innerHTML = docLinkHtml;\n",
              "          element.appendChild(docLink);\n",
              "        }\n",
              "      </script>\n",
              "    </div>\n",
              "  </div>\n",
              "  "
            ],
            "text/plain": [
              "       Wikipedia movie ID                                       Movie_genres  \\\n",
              "0                  975900  [Thriller, Science Fiction, Horror, Adventure,...   \n",
              "1                 9363483  [Thriller, Erotic thriller, Psychological thri...   \n",
              "2                  261236                                            [Drama]   \n",
              "3                18998739    [Family Film, Fantasy, Adventure, World cinema]   \n",
              "4                 6631279  [Romantic comedy, Ensemble Film, Comedy-drama,...   \n",
              "...                   ...                                                ...   \n",
              "42199            23851782    [Crime Fiction, Thriller, Comedy, Supernatural]   \n",
              "42200            35228177                                            [Drama]   \n",
              "42201            34980460            [Biographical film, Drama, Documentary]   \n",
              "42202              913762  [Science Fiction, Japanese Movies, Adventure, ...   \n",
              "42203            12476867                  [Thriller, Horror, Slasher, Teen]   \n",
              "\n",
              "                                                 Summary  \n",
              "0      Set in the second half of the 22nd century, th...  \n",
              "1      A series of murders of rich young women throug...  \n",
              "2      Eva, an upper class housewife, becomes frustra...  \n",
              "3      Every hundred years, the evil Morgana  returns...  \n",
              "4      Adam, a San Francisco-based artist who works a...  \n",
              "...                                                  ...  \n",
              "42199  {{plot}} The film opens with a Great Western e...  \n",
              "42200  Two former National Oceanic Atmospheric Admini...  \n",
              "42201  {{No plot}} This film follows 12 years in the ...  \n",
              "42202  The story takes place in the year 2092,The Sup...  \n",
              "42203  The movie is about a teenage girl who loves ho...  \n",
              "\n",
              "[42204 rows x 3 columns]"
            ]
          },
          "execution_count": 17,
          "metadata": {},
          "output_type": "execute_result"
        }
      ],
      "source": [
        "dataset"
      ]
    },
    {
      "cell_type": "code",
      "execution_count": null,
      "metadata": {
        "colab": {
          "base_uri": "https://localhost:8080/"
        },
        "id": "TFcrsxa9x1of",
        "outputId": "c1a5c761-a618-4754-f56c-76331c90b1a9"
      },
      "outputs": [
        {
          "name": "stderr",
          "output_type": "stream",
          "text": [
            "/usr/local/lib/python3.7/dist-packages/ipykernel_launcher.py:1: FutureWarning: The default value of regex will change from True to False in a future version.\n",
            "  \"\"\"Entry point for launching an IPython kernel.\n",
            "/usr/local/lib/python3.7/dist-packages/ipykernel_launcher.py:2: FutureWarning: The default value of regex will change from True to False in a future version.\n",
            "  \n"
          ]
        }
      ],
      "source": [
        "dataset[\"Summary\"]=dataset[\"Summary\"].str.replace(\"{{No plot}}\",\"\")\n",
        "dataset[\"Summary\"]=dataset[\"Summary\"].str.replace(\"{{plot}}\",\"\")\n",
        "dataset[\"Summary\"]=dataset[\"Summary\"].str.lower()"
      ]
    },
    {
      "cell_type": "code",
      "execution_count": null,
      "metadata": {
        "colab": {
          "base_uri": "https://localhost:8080/",
          "height": 424
        },
        "id": "v4x3XjIOz_MB",
        "outputId": "9359d387-0a92-41d1-902b-ea11e680c607"
      },
      "outputs": [
        {
          "data": {
            "text/html": [
              "\n",
              "  <div id=\"df-e0a05a3a-372c-4a7c-a30f-2a3a522308ea\">\n",
              "    <div class=\"colab-df-container\">\n",
              "      <div>\n",
              "<style scoped>\n",
              "    .dataframe tbody tr th:only-of-type {\n",
              "        vertical-align: middle;\n",
              "    }\n",
              "\n",
              "    .dataframe tbody tr th {\n",
              "        vertical-align: top;\n",
              "    }\n",
              "\n",
              "    .dataframe thead th {\n",
              "        text-align: right;\n",
              "    }\n",
              "</style>\n",
              "<table border=\"1\" class=\"dataframe\">\n",
              "  <thead>\n",
              "    <tr style=\"text-align: right;\">\n",
              "      <th></th>\n",
              "      <th>Wikipedia movie ID</th>\n",
              "      <th>Movie_genres</th>\n",
              "      <th>Summary</th>\n",
              "    </tr>\n",
              "  </thead>\n",
              "  <tbody>\n",
              "    <tr>\n",
              "      <th>0</th>\n",
              "      <td>975900</td>\n",
              "      <td>[Thriller, Science Fiction, Horror, Adventure,...</td>\n",
              "      <td>set in the second half of the 22nd century, th...</td>\n",
              "    </tr>\n",
              "    <tr>\n",
              "      <th>1</th>\n",
              "      <td>9363483</td>\n",
              "      <td>[Thriller, Erotic thriller, Psychological thri...</td>\n",
              "      <td>a series of murders of rich young women throug...</td>\n",
              "    </tr>\n",
              "    <tr>\n",
              "      <th>2</th>\n",
              "      <td>261236</td>\n",
              "      <td>[Drama]</td>\n",
              "      <td>eva, an upper class housewife, becomes frustra...</td>\n",
              "    </tr>\n",
              "    <tr>\n",
              "      <th>3</th>\n",
              "      <td>18998739</td>\n",
              "      <td>[Family Film, Fantasy, Adventure, World cinema]</td>\n",
              "      <td>every hundred years, the evil morgana  returns...</td>\n",
              "    </tr>\n",
              "    <tr>\n",
              "      <th>4</th>\n",
              "      <td>6631279</td>\n",
              "      <td>[Romantic comedy, Ensemble Film, Comedy-drama,...</td>\n",
              "      <td>adam, a san francisco-based artist who works a...</td>\n",
              "    </tr>\n",
              "    <tr>\n",
              "      <th>...</th>\n",
              "      <td>...</td>\n",
              "      <td>...</td>\n",
              "      <td>...</td>\n",
              "    </tr>\n",
              "    <tr>\n",
              "      <th>42199</th>\n",
              "      <td>23851782</td>\n",
              "      <td>[Crime Fiction, Thriller, Comedy, Supernatural]</td>\n",
              "      <td>the film opens with a great western express s...</td>\n",
              "    </tr>\n",
              "    <tr>\n",
              "      <th>42200</th>\n",
              "      <td>35228177</td>\n",
              "      <td>[Drama]</td>\n",
              "      <td>two former national oceanic atmospheric admini...</td>\n",
              "    </tr>\n",
              "    <tr>\n",
              "      <th>42201</th>\n",
              "      <td>34980460</td>\n",
              "      <td>[Biographical film, Drama, Documentary]</td>\n",
              "      <td>this film follows 12 years in the lives of 3 ...</td>\n",
              "    </tr>\n",
              "    <tr>\n",
              "      <th>42202</th>\n",
              "      <td>913762</td>\n",
              "      <td>[Science Fiction, Japanese Movies, Adventure, ...</td>\n",
              "      <td>the story takes place in the year 2092,the sup...</td>\n",
              "    </tr>\n",
              "    <tr>\n",
              "      <th>42203</th>\n",
              "      <td>12476867</td>\n",
              "      <td>[Thriller, Horror, Slasher, Teen]</td>\n",
              "      <td>the movie is about a teenage girl who loves ho...</td>\n",
              "    </tr>\n",
              "  </tbody>\n",
              "</table>\n",
              "<p>42204 rows × 3 columns</p>\n",
              "</div>\n",
              "      <button class=\"colab-df-convert\" onclick=\"convertToInteractive('df-e0a05a3a-372c-4a7c-a30f-2a3a522308ea')\"\n",
              "              title=\"Convert this dataframe to an interactive table.\"\n",
              "              style=\"display:none;\">\n",
              "        \n",
              "  <svg xmlns=\"http://www.w3.org/2000/svg\" height=\"24px\"viewBox=\"0 0 24 24\"\n",
              "       width=\"24px\">\n",
              "    <path d=\"M0 0h24v24H0V0z\" fill=\"none\"/>\n",
              "    <path d=\"M18.56 5.44l.94 2.06.94-2.06 2.06-.94-2.06-.94-.94-2.06-.94 2.06-2.06.94zm-11 1L8.5 8.5l.94-2.06 2.06-.94-2.06-.94L8.5 2.5l-.94 2.06-2.06.94zm10 10l.94 2.06.94-2.06 2.06-.94-2.06-.94-.94-2.06-.94 2.06-2.06.94z\"/><path d=\"M17.41 7.96l-1.37-1.37c-.4-.4-.92-.59-1.43-.59-.52 0-1.04.2-1.43.59L10.3 9.45l-7.72 7.72c-.78.78-.78 2.05 0 2.83L4 21.41c.39.39.9.59 1.41.59.51 0 1.02-.2 1.41-.59l7.78-7.78 2.81-2.81c.8-.78.8-2.07 0-2.86zM5.41 20L4 18.59l7.72-7.72 1.47 1.35L5.41 20z\"/>\n",
              "  </svg>\n",
              "      </button>\n",
              "      \n",
              "  <style>\n",
              "    .colab-df-container {\n",
              "      display:flex;\n",
              "      flex-wrap:wrap;\n",
              "      gap: 12px;\n",
              "    }\n",
              "\n",
              "    .colab-df-convert {\n",
              "      background-color: #E8F0FE;\n",
              "      border: none;\n",
              "      border-radius: 50%;\n",
              "      cursor: pointer;\n",
              "      display: none;\n",
              "      fill: #1967D2;\n",
              "      height: 32px;\n",
              "      padding: 0 0 0 0;\n",
              "      width: 32px;\n",
              "    }\n",
              "\n",
              "    .colab-df-convert:hover {\n",
              "      background-color: #E2EBFA;\n",
              "      box-shadow: 0px 1px 2px rgba(60, 64, 67, 0.3), 0px 1px 3px 1px rgba(60, 64, 67, 0.15);\n",
              "      fill: #174EA6;\n",
              "    }\n",
              "\n",
              "    [theme=dark] .colab-df-convert {\n",
              "      background-color: #3B4455;\n",
              "      fill: #D2E3FC;\n",
              "    }\n",
              "\n",
              "    [theme=dark] .colab-df-convert:hover {\n",
              "      background-color: #434B5C;\n",
              "      box-shadow: 0px 1px 3px 1px rgba(0, 0, 0, 0.15);\n",
              "      filter: drop-shadow(0px 1px 2px rgba(0, 0, 0, 0.3));\n",
              "      fill: #FFFFFF;\n",
              "    }\n",
              "  </style>\n",
              "\n",
              "      <script>\n",
              "        const buttonEl =\n",
              "          document.querySelector('#df-e0a05a3a-372c-4a7c-a30f-2a3a522308ea button.colab-df-convert');\n",
              "        buttonEl.style.display =\n",
              "          google.colab.kernel.accessAllowed ? 'block' : 'none';\n",
              "\n",
              "        async function convertToInteractive(key) {\n",
              "          const element = document.querySelector('#df-e0a05a3a-372c-4a7c-a30f-2a3a522308ea');\n",
              "          const dataTable =\n",
              "            await google.colab.kernel.invokeFunction('convertToInteractive',\n",
              "                                                     [key], {});\n",
              "          if (!dataTable) return;\n",
              "\n",
              "          const docLinkHtml = 'Like what you see? Visit the ' +\n",
              "            '<a target=\"_blank\" href=https://colab.research.google.com/notebooks/data_table.ipynb>data table notebook</a>'\n",
              "            + ' to learn more about interactive tables.';\n",
              "          element.innerHTML = '';\n",
              "          dataTable['output_type'] = 'display_data';\n",
              "          await google.colab.output.renderOutput(dataTable, element);\n",
              "          const docLink = document.createElement('div');\n",
              "          docLink.innerHTML = docLinkHtml;\n",
              "          element.appendChild(docLink);\n",
              "        }\n",
              "      </script>\n",
              "    </div>\n",
              "  </div>\n",
              "  "
            ],
            "text/plain": [
              "       Wikipedia movie ID                                       Movie_genres  \\\n",
              "0                  975900  [Thriller, Science Fiction, Horror, Adventure,...   \n",
              "1                 9363483  [Thriller, Erotic thriller, Psychological thri...   \n",
              "2                  261236                                            [Drama]   \n",
              "3                18998739    [Family Film, Fantasy, Adventure, World cinema]   \n",
              "4                 6631279  [Romantic comedy, Ensemble Film, Comedy-drama,...   \n",
              "...                   ...                                                ...   \n",
              "42199            23851782    [Crime Fiction, Thriller, Comedy, Supernatural]   \n",
              "42200            35228177                                            [Drama]   \n",
              "42201            34980460            [Biographical film, Drama, Documentary]   \n",
              "42202              913762  [Science Fiction, Japanese Movies, Adventure, ...   \n",
              "42203            12476867                  [Thriller, Horror, Slasher, Teen]   \n",
              "\n",
              "                                                 Summary  \n",
              "0      set in the second half of the 22nd century, th...  \n",
              "1      a series of murders of rich young women throug...  \n",
              "2      eva, an upper class housewife, becomes frustra...  \n",
              "3      every hundred years, the evil morgana  returns...  \n",
              "4      adam, a san francisco-based artist who works a...  \n",
              "...                                                  ...  \n",
              "42199   the film opens with a great western express s...  \n",
              "42200  two former national oceanic atmospheric admini...  \n",
              "42201   this film follows 12 years in the lives of 3 ...  \n",
              "42202  the story takes place in the year 2092,the sup...  \n",
              "42203  the movie is about a teenage girl who loves ho...  \n",
              "\n",
              "[42204 rows x 3 columns]"
            ]
          },
          "execution_count": 19,
          "metadata": {},
          "output_type": "execute_result"
        }
      ],
      "source": [
        "dataset"
      ]
    },
    {
      "cell_type": "code",
      "execution_count": null,
      "metadata": {
        "id": "ngLVZmeiaNBh"
      },
      "outputs": [],
      "source": [
        "# unique geners\n",
        "genres = dataset[\"Movie_genres\"].explode().unique().tolist()"
      ]
    },
    {
      "cell_type": "code",
      "execution_count": null,
      "metadata": {
        "colab": {
          "base_uri": "https://localhost:8080/",
          "height": 424
        },
        "id": "HKSHiObOUbgc",
        "outputId": "3ff634e1-ed29-4348-8797-46bd7cacfe93"
      },
      "outputs": [
        {
          "data": {
            "text/html": [
              "\n",
              "  <div id=\"df-dcffdb9c-b671-46b7-8c37-fd2db3099562\">\n",
              "    <div class=\"colab-df-container\">\n",
              "      <div>\n",
              "<style scoped>\n",
              "    .dataframe tbody tr th:only-of-type {\n",
              "        vertical-align: middle;\n",
              "    }\n",
              "\n",
              "    .dataframe tbody tr th {\n",
              "        vertical-align: top;\n",
              "    }\n",
              "\n",
              "    .dataframe thead th {\n",
              "        text-align: right;\n",
              "    }\n",
              "</style>\n",
              "<table border=\"1\" class=\"dataframe\">\n",
              "  <thead>\n",
              "    <tr style=\"text-align: right;\">\n",
              "      <th></th>\n",
              "      <th>Wikipedia movie ID</th>\n",
              "      <th>Movie_genres</th>\n",
              "      <th>Summary</th>\n",
              "    </tr>\n",
              "  </thead>\n",
              "  <tbody>\n",
              "    <tr>\n",
              "      <th>0</th>\n",
              "      <td>975900</td>\n",
              "      <td>[Thriller, Science Fiction, Horror, Adventure,...</td>\n",
              "      <td>set in the second half of the 22nd century, th...</td>\n",
              "    </tr>\n",
              "    <tr>\n",
              "      <th>1</th>\n",
              "      <td>9363483</td>\n",
              "      <td>[Thriller, Erotic thriller, Psychological thri...</td>\n",
              "      <td>a series of murders of rich young women throug...</td>\n",
              "    </tr>\n",
              "    <tr>\n",
              "      <th>2</th>\n",
              "      <td>261236</td>\n",
              "      <td>[Drama]</td>\n",
              "      <td>eva, an upper class housewife, becomes frustra...</td>\n",
              "    </tr>\n",
              "    <tr>\n",
              "      <th>3</th>\n",
              "      <td>18998739</td>\n",
              "      <td>[Family Film, Fantasy, Adventure, World cinema]</td>\n",
              "      <td>every hundred years, the evil morgana  returns...</td>\n",
              "    </tr>\n",
              "    <tr>\n",
              "      <th>4</th>\n",
              "      <td>6631279</td>\n",
              "      <td>[Romantic comedy, Ensemble Film, Comedy-drama,...</td>\n",
              "      <td>adam, a san francisco-based artist who works a...</td>\n",
              "    </tr>\n",
              "    <tr>\n",
              "      <th>...</th>\n",
              "      <td>...</td>\n",
              "      <td>...</td>\n",
              "      <td>...</td>\n",
              "    </tr>\n",
              "    <tr>\n",
              "      <th>42199</th>\n",
              "      <td>23851782</td>\n",
              "      <td>[Crime Fiction, Thriller, Comedy, Supernatural]</td>\n",
              "      <td>the film opens with a great western express s...</td>\n",
              "    </tr>\n",
              "    <tr>\n",
              "      <th>42200</th>\n",
              "      <td>35228177</td>\n",
              "      <td>[Drama]</td>\n",
              "      <td>two former national oceanic atmospheric admini...</td>\n",
              "    </tr>\n",
              "    <tr>\n",
              "      <th>42201</th>\n",
              "      <td>34980460</td>\n",
              "      <td>[Biographical film, Drama, Documentary]</td>\n",
              "      <td>this film follows 12 years in the lives of 3 ...</td>\n",
              "    </tr>\n",
              "    <tr>\n",
              "      <th>42202</th>\n",
              "      <td>913762</td>\n",
              "      <td>[Science Fiction, Japanese Movies, Adventure, ...</td>\n",
              "      <td>the story takes place in the year 2092,the sup...</td>\n",
              "    </tr>\n",
              "    <tr>\n",
              "      <th>42203</th>\n",
              "      <td>12476867</td>\n",
              "      <td>[Thriller, Horror, Slasher, Teen]</td>\n",
              "      <td>the movie is about a teenage girl who loves ho...</td>\n",
              "    </tr>\n",
              "  </tbody>\n",
              "</table>\n",
              "<p>42204 rows × 3 columns</p>\n",
              "</div>\n",
              "      <button class=\"colab-df-convert\" onclick=\"convertToInteractive('df-dcffdb9c-b671-46b7-8c37-fd2db3099562')\"\n",
              "              title=\"Convert this dataframe to an interactive table.\"\n",
              "              style=\"display:none;\">\n",
              "        \n",
              "  <svg xmlns=\"http://www.w3.org/2000/svg\" height=\"24px\"viewBox=\"0 0 24 24\"\n",
              "       width=\"24px\">\n",
              "    <path d=\"M0 0h24v24H0V0z\" fill=\"none\"/>\n",
              "    <path d=\"M18.56 5.44l.94 2.06.94-2.06 2.06-.94-2.06-.94-.94-2.06-.94 2.06-2.06.94zm-11 1L8.5 8.5l.94-2.06 2.06-.94-2.06-.94L8.5 2.5l-.94 2.06-2.06.94zm10 10l.94 2.06.94-2.06 2.06-.94-2.06-.94-.94-2.06-.94 2.06-2.06.94z\"/><path d=\"M17.41 7.96l-1.37-1.37c-.4-.4-.92-.59-1.43-.59-.52 0-1.04.2-1.43.59L10.3 9.45l-7.72 7.72c-.78.78-.78 2.05 0 2.83L4 21.41c.39.39.9.59 1.41.59.51 0 1.02-.2 1.41-.59l7.78-7.78 2.81-2.81c.8-.78.8-2.07 0-2.86zM5.41 20L4 18.59l7.72-7.72 1.47 1.35L5.41 20z\"/>\n",
              "  </svg>\n",
              "      </button>\n",
              "      \n",
              "  <style>\n",
              "    .colab-df-container {\n",
              "      display:flex;\n",
              "      flex-wrap:wrap;\n",
              "      gap: 12px;\n",
              "    }\n",
              "\n",
              "    .colab-df-convert {\n",
              "      background-color: #E8F0FE;\n",
              "      border: none;\n",
              "      border-radius: 50%;\n",
              "      cursor: pointer;\n",
              "      display: none;\n",
              "      fill: #1967D2;\n",
              "      height: 32px;\n",
              "      padding: 0 0 0 0;\n",
              "      width: 32px;\n",
              "    }\n",
              "\n",
              "    .colab-df-convert:hover {\n",
              "      background-color: #E2EBFA;\n",
              "      box-shadow: 0px 1px 2px rgba(60, 64, 67, 0.3), 0px 1px 3px 1px rgba(60, 64, 67, 0.15);\n",
              "      fill: #174EA6;\n",
              "    }\n",
              "\n",
              "    [theme=dark] .colab-df-convert {\n",
              "      background-color: #3B4455;\n",
              "      fill: #D2E3FC;\n",
              "    }\n",
              "\n",
              "    [theme=dark] .colab-df-convert:hover {\n",
              "      background-color: #434B5C;\n",
              "      box-shadow: 0px 1px 3px 1px rgba(0, 0, 0, 0.15);\n",
              "      filter: drop-shadow(0px 1px 2px rgba(0, 0, 0, 0.3));\n",
              "      fill: #FFFFFF;\n",
              "    }\n",
              "  </style>\n",
              "\n",
              "      <script>\n",
              "        const buttonEl =\n",
              "          document.querySelector('#df-dcffdb9c-b671-46b7-8c37-fd2db3099562 button.colab-df-convert');\n",
              "        buttonEl.style.display =\n",
              "          google.colab.kernel.accessAllowed ? 'block' : 'none';\n",
              "\n",
              "        async function convertToInteractive(key) {\n",
              "          const element = document.querySelector('#df-dcffdb9c-b671-46b7-8c37-fd2db3099562');\n",
              "          const dataTable =\n",
              "            await google.colab.kernel.invokeFunction('convertToInteractive',\n",
              "                                                     [key], {});\n",
              "          if (!dataTable) return;\n",
              "\n",
              "          const docLinkHtml = 'Like what you see? Visit the ' +\n",
              "            '<a target=\"_blank\" href=https://colab.research.google.com/notebooks/data_table.ipynb>data table notebook</a>'\n",
              "            + ' to learn more about interactive tables.';\n",
              "          element.innerHTML = '';\n",
              "          dataTable['output_type'] = 'display_data';\n",
              "          await google.colab.output.renderOutput(dataTable, element);\n",
              "          const docLink = document.createElement('div');\n",
              "          docLink.innerHTML = docLinkHtml;\n",
              "          element.appendChild(docLink);\n",
              "        }\n",
              "      </script>\n",
              "    </div>\n",
              "  </div>\n",
              "  "
            ],
            "text/plain": [
              "       Wikipedia movie ID                                       Movie_genres  \\\n",
              "0                  975900  [Thriller, Science Fiction, Horror, Adventure,...   \n",
              "1                 9363483  [Thriller, Erotic thriller, Psychological thri...   \n",
              "2                  261236                                            [Drama]   \n",
              "3                18998739    [Family Film, Fantasy, Adventure, World cinema]   \n",
              "4                 6631279  [Romantic comedy, Ensemble Film, Comedy-drama,...   \n",
              "...                   ...                                                ...   \n",
              "42199            23851782    [Crime Fiction, Thriller, Comedy, Supernatural]   \n",
              "42200            35228177                                            [Drama]   \n",
              "42201            34980460            [Biographical film, Drama, Documentary]   \n",
              "42202              913762  [Science Fiction, Japanese Movies, Adventure, ...   \n",
              "42203            12476867                  [Thriller, Horror, Slasher, Teen]   \n",
              "\n",
              "                                                 Summary  \n",
              "0      set in the second half of the 22nd century, th...  \n",
              "1      a series of murders of rich young women throug...  \n",
              "2      eva, an upper class housewife, becomes frustra...  \n",
              "3      every hundred years, the evil morgana  returns...  \n",
              "4      adam, a san francisco-based artist who works a...  \n",
              "...                                                  ...  \n",
              "42199   the film opens with a great western express s...  \n",
              "42200  two former national oceanic atmospheric admini...  \n",
              "42201   this film follows 12 years in the lives of 3 ...  \n",
              "42202  the story takes place in the year 2092,the sup...  \n",
              "42203  the movie is about a teenage girl who loves ho...  \n",
              "\n",
              "[42204 rows x 3 columns]"
            ]
          },
          "execution_count": 21,
          "metadata": {},
          "output_type": "execute_result"
        }
      ],
      "source": [
        "dataset"
      ]
    },
    {
      "cell_type": "code",
      "execution_count": null,
      "metadata": {
        "id": "cAQazO1UWMAD"
      },
      "outputs": [],
      "source": [
        "Movie_genres = dataset[\"Movie_genres\"]"
      ]
    },
    {
      "cell_type": "code",
      "execution_count": null,
      "metadata": {
        "colab": {
          "base_uri": "https://localhost:8080/"
        },
        "id": "wxHGi2kDT24a",
        "outputId": "20ccba14-41f6-43f6-955f-6b59cd1e67e4"
      },
      "outputs": [
        {
          "data": {
            "text/plain": [
              "363"
            ]
          },
          "execution_count": 23,
          "metadata": {},
          "output_type": "execute_result"
        }
      ],
      "source": [
        "# get all genre tags in a list\n",
        "genres = sum(Movie_genres,[])\n",
        "len(set(genres))"
      ]
    },
    {
      "cell_type": "markdown",
      "metadata": {
        "id": "az1aot-r62NX"
      },
      "source": [
        "#**Data Exploration and Pre-processing**"
      ]
    },
    {
      "cell_type": "code",
      "execution_count": null,
      "metadata": {
        "id": "j22tlr-uVhZt"
      },
      "outputs": [],
      "source": [
        "import nltk \n",
        "import matplotlib.pyplot as plt \n",
        "import seaborn as sns"
      ]
    },
    {
      "cell_type": "code",
      "execution_count": null,
      "metadata": {
        "id": "dYx_yUygWBqo"
      },
      "outputs": [],
      "source": [
        "genres = nltk.FreqDist(genres)\n",
        "genres_df = pd.DataFrame({'Genre': list(genres.keys()), 'Count': list (genres.values())})"
      ]
    },
    {
      "cell_type": "code",
      "execution_count": null,
      "metadata": {
        "colab": {
          "base_uri": "https://localhost:8080/",
          "height": 714
        },
        "id": "edB3dSPBanhw",
        "outputId": "37b74b0a-253e-4fef-84ea-00ab461bf53c"
      },
      "outputs": [
        {
          "data": {
            "image/png": "[encoded data removed]",
            "text/plain": [
              "<Figure size 792x864 with 1 Axes>"
            ]
          },
          "metadata": {},
          "output_type": "display_data"
        }
      ],
      "source": [
        "g = genres_df.nlargest(columns=\"Count\", n = 50) \n",
        "plt.figure(figsize=(11,12))\n",
        "ax = sns.barplot(data=g, x= \"Count\", y = \"Genre\")\n",
        "ax.set(ylabel = 'Count')\n",
        "plt.show()"
      ]
    },
    {
      "cell_type": "code",
      "execution_count": null,
      "metadata": {
        "colab": {
          "base_uri": "https://localhost:8080/"
        },
        "id": "PbEj_juYf0y2",
        "outputId": "4e9d46d9-80f1-4dde-95d2-5817ee96486c"
      },
      "outputs": [
        {
          "data": {
            "text/plain": [
              "363"
            ]
          },
          "execution_count": 27,
          "metadata": {},
          "output_type": "execute_result"
        }
      ],
      "source": [
        "len(genres)"
      ]
    },
    {
      "cell_type": "markdown",
      "metadata": {
        "id": "ZDOUEoHxO2qe"
      },
      "source": [
        "**There are over 364 unique genre tags in our dataset**"
      ]
    },
    {
      "cell_type": "code",
      "execution_count": null,
      "metadata": {
        "id": "RoKf-shQjZEn"
      },
      "outputs": [],
      "source": [
        "dataset = dataset.drop('Wikipedia movie ID', axis=1) #Dropping Movie ID column as we do not need it now"
      ]
    },
    {
      "cell_type": "markdown",
      "metadata": {
        "id": "6Z2x40nCM1HC"
      },
      "source": [
        "## **One Hot Encoding**"
      ]
    },
    {
      "cell_type": "code",
      "execution_count": null,
      "metadata": {
        "colab": {
          "base_uri": "https://localhost:8080/"
        },
        "id": "vPqQ9C_DgvcY",
        "outputId": "489a16cf-d8ef-452b-9dd6-432261e328c1"
      },
      "outputs": [
        {
          "name": "stderr",
          "output_type": "stream",
          "text": [
            "/usr/local/lib/python3.7/dist-packages/ipykernel_launcher.py:1: FutureWarning: In a future version of pandas all arguments of DataFrame.drop except for the argument 'labels' will be keyword-only\n",
            "  \"\"\"Entry point for launching an IPython kernel.\n"
          ]
        }
      ],
      "source": [
        "dataset=dataset.drop('Movie_genres', 1).join(dataset[\"Movie_genres\"].str.join('|').str.get_dummies()) #One Hot Encoding"
      ]
    },
    {
      "cell_type": "code",
      "execution_count": null,
      "metadata": {
        "colab": {
          "base_uri": "https://localhost:8080/",
          "height": 768
        },
        "id": "t2E-2ndyiiV4",
        "outputId": "13a92354-2c54-4b71-8626-45526add5fc0"
      },
      "outputs": [
        {
          "data": {
            "text/html": [
              "\n",
              "  <div id=\"df-1ec73bd6-fbdc-4f25-b7af-cea1efcb5b84\">\n",
              "    <div class=\"colab-df-container\">\n",
              "      <div>\n",
              "<style scoped>\n",
              "    .dataframe tbody tr th:only-of-type {\n",
              "        vertical-align: middle;\n",
              "    }\n",
              "\n",
              "    .dataframe tbody tr th {\n",
              "        vertical-align: top;\n",
              "    }\n",
              "\n",
              "    .dataframe thead th {\n",
              "        text-align: right;\n",
              "    }\n",
              "</style>\n",
              "<table border=\"1\" class=\"dataframe\">\n",
              "  <thead>\n",
              "    <tr style=\"text-align: right;\">\n",
              "      <th></th>\n",
              "      <th>Summary</th>\n",
              "      <th>Absurdism</th>\n",
              "      <th>Acid western</th>\n",
              "      <th>Action</th>\n",
              "      <th>Action Comedy</th>\n",
              "      <th>Action Thrillers</th>\n",
              "      <th>Action/Adventure</th>\n",
              "      <th>Addiction Drama</th>\n",
              "      <th>Adult</th>\n",
              "      <th>Adventure</th>\n",
              "      <th>...</th>\n",
              "      <th>Werewolf fiction</th>\n",
              "      <th>Western</th>\n",
              "      <th>Whodunit</th>\n",
              "      <th>Women in prison films</th>\n",
              "      <th>Workplace Comedy</th>\n",
              "      <th>World History</th>\n",
              "      <th>World cinema</th>\n",
              "      <th>Wuxia</th>\n",
              "      <th>Z movie</th>\n",
              "      <th>Zombie Film</th>\n",
              "    </tr>\n",
              "  </thead>\n",
              "  <tbody>\n",
              "    <tr>\n",
              "      <th>0</th>\n",
              "      <td>set in the second half of the 22nd century, th...</td>\n",
              "      <td>0</td>\n",
              "      <td>0</td>\n",
              "      <td>1</td>\n",
              "      <td>0</td>\n",
              "      <td>0</td>\n",
              "      <td>0</td>\n",
              "      <td>0</td>\n",
              "      <td>0</td>\n",
              "      <td>1</td>\n",
              "      <td>...</td>\n",
              "      <td>0</td>\n",
              "      <td>0</td>\n",
              "      <td>0</td>\n",
              "      <td>0</td>\n",
              "      <td>0</td>\n",
              "      <td>0</td>\n",
              "      <td>0</td>\n",
              "      <td>0</td>\n",
              "      <td>0</td>\n",
              "      <td>0</td>\n",
              "    </tr>\n",
              "    <tr>\n",
              "      <th>1</th>\n",
              "      <td>a series of murders of rich young women throug...</td>\n",
              "      <td>0</td>\n",
              "      <td>0</td>\n",
              "      <td>0</td>\n",
              "      <td>0</td>\n",
              "      <td>0</td>\n",
              "      <td>0</td>\n",
              "      <td>0</td>\n",
              "      <td>0</td>\n",
              "      <td>0</td>\n",
              "      <td>...</td>\n",
              "      <td>0</td>\n",
              "      <td>0</td>\n",
              "      <td>0</td>\n",
              "      <td>0</td>\n",
              "      <td>0</td>\n",
              "      <td>0</td>\n",
              "      <td>0</td>\n",
              "      <td>0</td>\n",
              "      <td>0</td>\n",
              "      <td>0</td>\n",
              "    </tr>\n",
              "    <tr>\n",
              "      <th>2</th>\n",
              "      <td>eva, an upper class housewife, becomes frustra...</td>\n",
              "      <td>0</td>\n",
              "      <td>0</td>\n",
              "      <td>0</td>\n",
              "      <td>0</td>\n",
              "      <td>0</td>\n",
              "      <td>0</td>\n",
              "      <td>0</td>\n",
              "      <td>0</td>\n",
              "      <td>0</td>\n",
              "      <td>...</td>\n",
              "      <td>0</td>\n",
              "      <td>0</td>\n",
              "      <td>0</td>\n",
              "      <td>0</td>\n",
              "      <td>0</td>\n",
              "      <td>0</td>\n",
              "      <td>0</td>\n",
              "      <td>0</td>\n",
              "      <td>0</td>\n",
              "      <td>0</td>\n",
              "    </tr>\n",
              "    <tr>\n",
              "      <th>3</th>\n",
              "      <td>every hundred years, the evil morgana  returns...</td>\n",
              "      <td>0</td>\n",
              "      <td>0</td>\n",
              "      <td>0</td>\n",
              "      <td>0</td>\n",
              "      <td>0</td>\n",
              "      <td>0</td>\n",
              "      <td>0</td>\n",
              "      <td>0</td>\n",
              "      <td>1</td>\n",
              "      <td>...</td>\n",
              "      <td>0</td>\n",
              "      <td>0</td>\n",
              "      <td>0</td>\n",
              "      <td>0</td>\n",
              "      <td>0</td>\n",
              "      <td>0</td>\n",
              "      <td>1</td>\n",
              "      <td>0</td>\n",
              "      <td>0</td>\n",
              "      <td>0</td>\n",
              "    </tr>\n",
              "    <tr>\n",
              "      <th>4</th>\n",
              "      <td>adam, a san francisco-based artist who works a...</td>\n",
              "      <td>0</td>\n",
              "      <td>0</td>\n",
              "      <td>0</td>\n",
              "      <td>0</td>\n",
              "      <td>0</td>\n",
              "      <td>0</td>\n",
              "      <td>0</td>\n",
              "      <td>0</td>\n",
              "      <td>0</td>\n",
              "      <td>...</td>\n",
              "      <td>0</td>\n",
              "      <td>0</td>\n",
              "      <td>0</td>\n",
              "      <td>0</td>\n",
              "      <td>0</td>\n",
              "      <td>0</td>\n",
              "      <td>0</td>\n",
              "      <td>0</td>\n",
              "      <td>0</td>\n",
              "      <td>0</td>\n",
              "    </tr>\n",
              "  </tbody>\n",
              "</table>\n",
              "<p>5 rows × 364 columns</p>\n",
              "</div>\n",
              "      <button class=\"colab-df-convert\" onclick=\"convertToInteractive('df-1ec73bd6-fbdc-4f25-b7af-cea1efcb5b84')\"\n",
              "              title=\"Convert this dataframe to an interactive table.\"\n",
              "              style=\"display:none;\">\n",
              "        \n",
              "  <svg xmlns=\"http://www.w3.org/2000/svg\" height=\"24px\"viewBox=\"0 0 24 24\"\n",
              "       width=\"24px\">\n",
              "    <path d=\"M0 0h24v24H0V0z\" fill=\"none\"/>\n",
              "    <path d=\"M18.56 5.44l.94 2.06.94-2.06 2.06-.94-2.06-.94-.94-2.06-.94 2.06-2.06.94zm-11 1L8.5 8.5l.94-2.06 2.06-.94-2.06-.94L8.5 2.5l-.94 2.06-2.06.94zm10 10l.94 2.06.94-2.06 2.06-.94-2.06-.94-.94-2.06-.94 2.06-2.06.94z\"/><path d=\"M17.41 7.96l-1.37-1.37c-.4-.4-.92-.59-1.43-.59-.52 0-1.04.2-1.43.59L10.3 9.45l-7.72 7.72c-.78.78-.78 2.05 0 2.83L4 21.41c.39.39.9.59 1.41.59.51 0 1.02-.2 1.41-.59l7.78-7.78 2.81-2.81c.8-.78.8-2.07 0-2.86zM5.41 20L4 18.59l7.72-7.72 1.47 1.35L5.41 20z\"/>\n",
              "  </svg>\n",
              "      </button>\n",
              "      \n",
              "  <style>\n",
              "    .colab-df-container {\n",
              "      display:flex;\n",
              "      flex-wrap:wrap;\n",
              "      gap: 12px;\n",
              "    }\n",
              "\n",
              "    .colab-df-convert {\n",
              "      background-color: #E8F0FE;\n",
              "      border: none;\n",
              "      border-radius: 50%;\n",
              "      cursor: pointer;\n",
              "      display: none;\n",
              "      fill: #1967D2;\n",
              "      height: 32px;\n",
              "      padding: 0 0 0 0;\n",
              "      width: 32px;\n",
              "    }\n",
              "\n",
              "    .colab-df-convert:hover {\n",
              "      background-color: #E2EBFA;\n",
              "      box-shadow: 0px 1px 2px rgba(60, 64, 67, 0.3), 0px 1px 3px 1px rgba(60, 64, 67, 0.15);\n",
              "      fill: #174EA6;\n",
              "    }\n",
              "\n",
              "    [theme=dark] .colab-df-convert {\n",
              "      background-color: #3B4455;\n",
              "      fill: #D2E3FC;\n",
              "    }\n",
              "\n",
              "    [theme=dark] .colab-df-convert:hover {\n",
              "      background-color: #434B5C;\n",
              "      box-shadow: 0px 1px 3px 1px rgba(0, 0, 0, 0.15);\n",
              "      filter: drop-shadow(0px 1px 2px rgba(0, 0, 0, 0.3));\n",
              "      fill: #FFFFFF;\n",
              "    }\n",
              "  </style>\n",
              "\n",
              "      <script>\n",
              "        const buttonEl =\n",
              "          document.querySelector('#df-1ec73bd6-fbdc-4f25-b7af-cea1efcb5b84 button.colab-df-convert');\n",
              "        buttonEl.style.display =\n",
              "          google.colab.kernel.accessAllowed ? 'block' : 'none';\n",
              "\n",
              "        async function convertToInteractive(key) {\n",
              "          const element = document.querySelector('#df-1ec73bd6-fbdc-4f25-b7af-cea1efcb5b84');\n",
              "          const dataTable =\n",
              "            await google.colab.kernel.invokeFunction('convertToInteractive',\n",
              "                                                     [key], {});\n",
              "          if (!dataTable) return;\n",
              "\n",
              "          const docLinkHtml = 'Like what you see? Visit the ' +\n",
              "            '<a target=\"_blank\" href=https://colab.research.google.com/notebooks/data_table.ipynb>data table notebook</a>'\n",
              "            + ' to learn more about interactive tables.';\n",
              "          element.innerHTML = '';\n",
              "          dataTable['output_type'] = 'display_data';\n",
              "          await google.colab.output.renderOutput(dataTable, element);\n",
              "          const docLink = document.createElement('div');\n",
              "          docLink.innerHTML = docLinkHtml;\n",
              "          element.appendChild(docLink);\n",
              "        }\n",
              "      </script>\n",
              "    </div>\n",
              "  </div>\n",
              "  "
            ],
            "text/plain": [
              "                                             Summary  Absurdism  Acid western  \\\n",
              "0  set in the second half of the 22nd century, th...          0             0   \n",
              "1  a series of murders of rich young women throug...          0             0   \n",
              "2  eva, an upper class housewife, becomes frustra...          0             0   \n",
              "3  every hundred years, the evil morgana  returns...          0             0   \n",
              "4  adam, a san francisco-based artist who works a...          0             0   \n",
              "\n",
              "   Action  Action Comedy  Action Thrillers  Action/Adventure  Addiction Drama  \\\n",
              "0       1              0                 0                 0                0   \n",
              "1       0              0                 0                 0                0   \n",
              "2       0              0                 0                 0                0   \n",
              "3       0              0                 0                 0                0   \n",
              "4       0              0                 0                 0                0   \n",
              "\n",
              "   Adult  Adventure  ...  Werewolf fiction  Western  Whodunit  \\\n",
              "0      0          1  ...                 0        0         0   \n",
              "1      0          0  ...                 0        0         0   \n",
              "2      0          0  ...                 0        0         0   \n",
              "3      0          1  ...                 0        0         0   \n",
              "4      0          0  ...                 0        0         0   \n",
              "\n",
              "   Women in prison films  Workplace Comedy  World History  World cinema  \\\n",
              "0                      0                 0              0             0   \n",
              "1                      0                 0              0             0   \n",
              "2                      0                 0              0             0   \n",
              "3                      0                 0              0             1   \n",
              "4                      0                 0              0             0   \n",
              "\n",
              "   Wuxia  Z movie  Zombie Film  \n",
              "0      0        0            0  \n",
              "1      0        0            0  \n",
              "2      0        0            0  \n",
              "3      0        0            0  \n",
              "4      0        0            0  \n",
              "\n",
              "[5 rows x 364 columns]"
            ]
          },
          "execution_count": 29,
          "metadata": {},
          "output_type": "execute_result"
        }
      ],
      "source": [
        "dataset.head()"
      ]
    },
    {
      "cell_type": "code",
      "execution_count": null,
      "metadata": {
        "id": "y-PgBJx8wZWT"
      },
      "outputs": [],
      "source": [
        "genres_name = dataset.columns"
      ]
    },
    {
      "cell_type": "code",
      "execution_count": null,
      "metadata": {
        "id": "nsjrn_9TxX7r"
      },
      "outputs": [],
      "source": [
        "genres_name =genres_name[1:] #0th column is summary which we do not need "
      ]
    },
    {
      "cell_type": "code",
      "execution_count": null,
      "metadata": {
        "colab": {
          "base_uri": "https://localhost:8080/"
        },
        "id": "InN7UXa1xmJ3",
        "outputId": "04c372d7-2cde-4b40-9685-91048f7da564"
      },
      "outputs": [
        {
          "data": {
            "text/plain": [
              "Index(['Absurdism', 'Acid western', 'Action', 'Action Comedy',\n",
              "       'Action Thrillers', 'Action/Adventure', 'Addiction Drama', 'Adult',\n",
              "       'Adventure', 'Adventure Comedy',\n",
              "       ...\n",
              "       'Werewolf fiction', 'Western', 'Whodunit', 'Women in prison films',\n",
              "       'Workplace Comedy', 'World History', 'World cinema', 'Wuxia', 'Z movie',\n",
              "       'Zombie Film'],\n",
              "      dtype='object', length=363)"
            ]
          },
          "execution_count": 32,
          "metadata": {},
          "output_type": "execute_result"
        }
      ],
      "source": [
        "genres_name"
      ]
    },
    {
      "cell_type": "markdown",
      "metadata": {
        "id": "cwlMJ_ieNetl"
      },
      "source": [
        "**Deleting all the Genres who has less then 20 value in it**"
      ]
    },
    {
      "cell_type": "code",
      "execution_count": null,
      "metadata": {
        "id": "1BQvBcJfHIvd"
      },
      "outputs": [],
      "source": [
        "def deleteData(dataset,genres_name,threshold=20):\n",
        "  for name in genres_name:\n",
        "    if dataset[name].value_counts()[1]<=threshold:\n",
        "        dataset=dataset.drop(name,axis=1)\n",
        "  return dataset"
      ]
    },
    {
      "cell_type": "code",
      "execution_count": null,
      "metadata": {
        "id": "85x9g3KmIDJt"
      },
      "outputs": [],
      "source": [
        "dataset=deleteData(dataset,genres_name,20)"
      ]
    },
    {
      "cell_type": "code",
      "execution_count": null,
      "metadata": {
        "id": "joFtOPGBI5t0"
      },
      "outputs": [],
      "source": [
        "genres_name = dataset.columns\n",
        "genres_name=genres_name[1:]"
      ]
    },
    {
      "cell_type": "code",
      "execution_count": null,
      "metadata": {
        "colab": {
          "base_uri": "https://localhost:8080/"
        },
        "id": "iCZqFgt_I914",
        "outputId": "ec050863-6944-45c9-937d-51309d3c4698"
      },
      "outputs": [
        {
          "data": {
            "text/plain": [
              "Index(['Absurdism', 'Action', 'Action Comedy', 'Action Thrillers',\n",
              "       'Action/Adventure', 'Addiction Drama', 'Adult', 'Adventure',\n",
              "       'Adventure Comedy', 'Airplanes and airports',\n",
              "       ...\n",
              "       'Tollywood', 'Tragedy', 'Tragicomedy', 'War film', 'Western',\n",
              "       'Whodunit', 'Workplace Comedy', 'World cinema', 'Wuxia', 'Zombie Film'],\n",
              "      dtype='object', length=213)"
            ]
          },
          "execution_count": 36,
          "metadata": {},
          "output_type": "execute_result"
        }
      ],
      "source": [
        "genres_name"
      ]
    },
    {
      "cell_type": "markdown",
      "metadata": {
        "id": "8a7AA8n7Ntfu"
      },
      "source": [
        "\n",
        "\n",
        "*   Before we have **364 Genres** in total\n",
        "\n",
        "> ------------------------------------\n",
        "\n",
        "\n",
        "*   After droppping we have **213 Genres**\n",
        "\n"
      ]
    },
    {
      "cell_type": "code",
      "execution_count": null,
      "metadata": {
        "id": "NEr_S99wJLSe"
      },
      "outputs": [],
      "source": [
        "num_classes=len(genres_name)"
      ]
    },
    {
      "cell_type": "code",
      "execution_count": null,
      "metadata": {
        "colab": {
          "base_uri": "https://localhost:8080/"
        },
        "id": "EQvuRcYrGW_s",
        "outputId": "fde139b6-e44d-4dfe-9967-3707a94d48d6"
      },
      "outputs": [
        {
          "name": "stdout",
          "output_type": "stream",
          "text": [
            "79\n",
            "5868\n",
            "142\n",
            "405\n",
            "3553\n",
            "42\n",
            "117\n",
            "3248\n",
            "123\n",
            "53\n",
            "97\n",
            "91\n",
            "141\n",
            "43\n",
            "94\n",
            "2441\n",
            "305\n",
            "32\n",
            "31\n",
            "32\n",
            "351\n",
            "50\n",
            "83\n",
            "386\n",
            "625\n",
            "592\n",
            "365\n",
            "834\n",
            "3731\n",
            "79\n",
            "1058\n",
            "51\n",
            "325\n",
            "80\n",
            "100\n",
            "111\n",
            "412\n",
            "244\n",
            "759\n",
            "998\n",
            "116\n",
            "80\n",
            "84\n",
            "10467\n",
            "78\n",
            "53\n",
            "1778\n",
            "169\n",
            "212\n",
            "1261\n",
            "741\n",
            "195\n",
            "77\n",
            "55\n",
            "367\n",
            "184\n",
            "347\n",
            "26\n",
            "231\n",
            "391\n",
            "4275\n",
            "1682\n",
            "680\n",
            "204\n",
            "69\n",
            "282\n",
            "225\n",
            "238\n",
            "252\n",
            "1213\n",
            "172\n",
            "112\n",
            "19134\n",
            "84\n",
            "349\n",
            "196\n",
            "112\n",
            "170\n",
            "235\n",
            "45\n",
            "34\n",
            "107\n",
            "48\n",
            "766\n",
            "3219\n",
            "213\n",
            "2012\n",
            "190\n",
            "196\n",
            "76\n",
            "220\n",
            "1225\n",
            "524\n",
            "29\n",
            "29\n",
            "338\n",
            "219\n",
            "217\n",
            "264\n",
            "21\n",
            "25\n",
            "45\n",
            "62\n",
            "58\n",
            "58\n",
            "65\n",
            "21\n",
            "27\n",
            "145\n",
            "31\n",
            "63\n",
            "107\n",
            "305\n",
            "358\n",
            "94\n",
            "4082\n",
            "206\n",
            "29\n",
            "3668\n",
            "27\n",
            "21\n",
            "1290\n",
            "62\n",
            "42\n",
            "825\n",
            "21\n",
            "137\n",
            "706\n",
            "25\n",
            "71\n",
            "56\n",
            "499\n",
            "97\n",
            "113\n",
            "168\n",
            "356\n",
            "2414\n",
            "136\n",
            "175\n",
            "2119\n",
            "26\n",
            "153\n",
            "57\n",
            "86\n",
            "767\n",
            "1321\n",
            "24\n",
            "176\n",
            "531\n",
            "78\n",
            "195\n",
            "145\n",
            "130\n",
            "90\n",
            "77\n",
            "1138\n",
            "23\n",
            "61\n",
            "85\n",
            "60\n",
            "268\n",
            "32\n",
            "40\n",
            "6666\n",
            "2075\n",
            "2572\n",
            "59\n",
            "27\n",
            "532\n",
            "32\n",
            "124\n",
            "2339\n",
            "246\n",
            "253\n",
            "82\n",
            "3192\n",
            "1199\n",
            "518\n",
            "654\n",
            "94\n",
            "101\n",
            "92\n",
            "41\n",
            "56\n",
            "28\n",
            "672\n",
            "342\n",
            "30\n",
            "46\n",
            "134\n",
            "111\n",
            "258\n",
            "571\n",
            "99\n",
            "651\n",
            "104\n",
            "39\n",
            "37\n",
            "63\n",
            "824\n",
            "665\n",
            "6530\n",
            "77\n",
            "32\n",
            "79\n",
            "51\n",
            "1556\n",
            "1021\n",
            "43\n",
            "84\n",
            "5153\n",
            "79\n",
            "234\n"
          ]
        }
      ],
      "source": [
        " for name in genres_name:\n",
        "   print(dataset[name].value_counts()[1])\n"
      ]
    },
    {
      "cell_type": "code",
      "execution_count": null,
      "metadata": {
        "id": "HItVLgoqq4pE"
      },
      "outputs": [],
      "source": [
        "dataset['label'] = dataset[dataset.columns[1:]].values.tolist()"
      ]
    },
    {
      "cell_type": "code",
      "execution_count": null,
      "metadata": {
        "id": "Vb4o2b7vrJZz"
      },
      "outputs": [],
      "source": [
        "dataset = dataset[['Summary', 'label']].copy()"
      ]
    },
    {
      "cell_type": "code",
      "execution_count": null,
      "metadata": {
        "id": "YNwOsCrasApm"
      },
      "outputs": [],
      "source": [
        "import re"
      ]
    },
    {
      "cell_type": "code",
      "execution_count": null,
      "metadata": {
        "id": "PSJxfDDIr85q"
      },
      "outputs": [],
      "source": [
        "def cleanHtml(sentence):\n",
        "    cleanr = re.compile('<.*?>')\n",
        "    cleantext = re.sub(cleanr, ' ', str(sentence))\n",
        "    return cleantext\n",
        "def cleanPunc(sentence): #function to clean the word of any punctuation or special characters\n",
        "    cleaned = re.sub(r'[?|!|\\'|\"|#]',r'',sentence)\n",
        "    cleaned = re.sub(r'[.|,|)|(|\\|/]',r' ',cleaned)\n",
        "    cleaned = cleaned.strip() #Remove spaces at the beginning and at the end of the string\n",
        "    cleaned = cleaned.replace(\"\\n\",\" \") \n",
        "    return cleaned\n",
        "def keepAlpha(sentence):\n",
        "    alpha_sent = \"\"\n",
        "    for word in sentence.split():\n",
        "        alpha_word = re.sub('[^a-z A-Z]+', ' ', word)\n",
        "        alpha_sent += alpha_word\n",
        "        alpha_sent += \" \"\n",
        "    alpha_sent = alpha_sent.strip()\n",
        "    return alpha_sent"
      ]
    },
    {
      "cell_type": "code",
      "execution_count": null,
      "metadata": {
        "id": "pB9gVxXnr50p"
      },
      "outputs": [],
      "source": [
        "dataset['Summary'] = dataset['Summary'].apply(cleanHtml)\n",
        "dataset['Summary'] = dataset['Summary'].apply(cleanPunc)\n",
        "dataset['Summary'] = dataset['Summary'].apply(keepAlpha)"
      ]
    },
    {
      "cell_type": "code",
      "execution_count": null,
      "metadata": {
        "id": "fywXf0jIt80b"
      },
      "outputs": [],
      "source": [
        "dataset=dataset.convert_dtypes()"
      ]
    },
    {
      "cell_type": "code",
      "execution_count": null,
      "metadata": {
        "colab": {
          "base_uri": "https://localhost:8080/"
        },
        "id": "F_FMEGM7rU3Z",
        "outputId": "adfe0e38-5293-43cc-d53d-9e58ed7646dd"
      },
      "outputs": [
        {
          "name": "stdout",
          "output_type": "stream",
          "text": [
            "<class 'pandas.core.frame.DataFrame'>\n",
            "Int64Index: 42204 entries, 0 to 42203\n",
            "Data columns (total 2 columns):\n",
            " #   Column   Non-Null Count  Dtype \n",
            "---  ------   --------------  ----- \n",
            " 0   Summary  42204 non-null  string\n",
            " 1   label    42204 non-null  object\n",
            "dtypes: object(1), string(1)\n",
            "memory usage: 2.0+ MB\n"
          ]
        }
      ],
      "source": [
        "dataset.info()"
      ]
    },
    {
      "cell_type": "markdown",
      "metadata": {
        "id": "WjDvtgDq7n3F"
      },
      "source": [
        "#**Splitting the Dataset**\n",
        "\n",
        "---\n",
        "\n",
        "\n",
        "\n",
        "---\n",
        "* Train : 80%\n",
        "* Test : 20%\n",
        "\n",
        "\n",
        "---\n",
        "\n",
        "\n",
        "\n",
        "---\n",
        "\n",
        "\n",
        "\n",
        "---\n",
        "\n",
        "\n"
      ]
    },
    {
      "cell_type": "code",
      "execution_count": null,
      "metadata": {
        "id": "a-i-kLxuKp4i"
      },
      "outputs": [],
      "source": [
        "# Spliting dataset\n",
        "train=dataset.sample(frac=0.8)\n",
        "test= dataset.drop(train.index)"
      ]
    },
    {
      "cell_type": "code",
      "execution_count": null,
      "metadata": {
        "colab": {
          "base_uri": "https://localhost:8080/",
          "height": 424
        },
        "id": "b-cYc3yLK_zg",
        "outputId": "a432ff20-9c65-4946-b9f7-933ca24e3802"
      },
      "outputs": [
        {
          "data": {
            "text/html": [
              "\n",
              "  <div id=\"df-4079542b-8992-46d5-945e-1153ff06495a\">\n",
              "    <div class=\"colab-df-container\">\n",
              "      <div>\n",
              "<style scoped>\n",
              "    .dataframe tbody tr th:only-of-type {\n",
              "        vertical-align: middle;\n",
              "    }\n",
              "\n",
              "    .dataframe tbody tr th {\n",
              "        vertical-align: top;\n",
              "    }\n",
              "\n",
              "    .dataframe thead th {\n",
              "        text-align: right;\n",
              "    }\n",
              "</style>\n",
              "<table border=\"1\" class=\"dataframe\">\n",
              "  <thead>\n",
              "    <tr style=\"text-align: right;\">\n",
              "      <th></th>\n",
              "      <th>Summary</th>\n",
              "      <th>label</th>\n",
              "    </tr>\n",
              "  </thead>\n",
              "  <tbody>\n",
              "    <tr>\n",
              "      <th>19172</th>\n",
              "      <td>the story takes place in a remote village wher...</td>\n",
              "      <td>[0, 0, 0, 0, 0, 0, 0, 0, 0, 0, 0, 0, 0, 0, 0, ...</td>\n",
              "    </tr>\n",
              "    <tr>\n",
              "      <th>5022</th>\n",
              "      <td>when juliette fontaine formerly a doctor is re...</td>\n",
              "      <td>[0, 0, 0, 0, 0, 0, 0, 0, 0, 0, 0, 0, 0, 0, 0, ...</td>\n",
              "    </tr>\n",
              "    <tr>\n",
              "      <th>22041</th>\n",
              "      <td>robert roy macgregor is a cattle drover and th...</td>\n",
              "      <td>[0, 1, 0, 0, 1, 0, 0, 0, 0, 0, 0, 0, 0, 0, 0, ...</td>\n",
              "    </tr>\n",
              "    <tr>\n",
              "      <th>29325</th>\n",
              "      <td>the film is about a young man jargo who is of ...</td>\n",
              "      <td>[0, 0, 0, 0, 0, 0, 0, 0, 0, 0, 0, 0, 0, 0, 0, ...</td>\n",
              "    </tr>\n",
              "    <tr>\n",
              "      <th>27127</th>\n",
              "      <td>shyama gets a job as a servant so she can pay ...</td>\n",
              "      <td>[0, 0, 0, 0, 0, 0, 0, 0, 0, 0, 0, 0, 0, 0, 0, ...</td>\n",
              "    </tr>\n",
              "    <tr>\n",
              "      <th>...</th>\n",
              "      <td>...</td>\n",
              "      <td>...</td>\n",
              "    </tr>\n",
              "    <tr>\n",
              "      <th>28875</th>\n",
              "      <td>the plot involves a teenager frankie who is le...</td>\n",
              "      <td>[0, 0, 0, 0, 0, 0, 0, 0, 0, 0, 0, 0, 0, 0, 0, ...</td>\n",
              "    </tr>\n",
              "    <tr>\n",
              "      <th>20779</th>\n",
              "      <td>the beautiful paradise island melonia is inhab...</td>\n",
              "      <td>[0, 0, 0, 0, 0, 0, 0, 0, 0, 0, 0, 0, 0, 0, 0, ...</td>\n",
              "    </tr>\n",
              "    <tr>\n",
              "      <th>4150</th>\n",
              "      <td>the film opens with the same scene from the fi...</td>\n",
              "      <td>[0, 1, 0, 0, 0, 0, 0, 0, 0, 0, 0, 0, 0, 0, 0, ...</td>\n",
              "    </tr>\n",
              "    <tr>\n",
              "      <th>9307</th>\n",
              "      <td>terrence mcdonagh is a new orleans police serg...</td>\n",
              "      <td>[0, 0, 0, 0, 0, 0, 0, 0, 0, 0, 0, 0, 0, 0, 0, ...</td>\n",
              "    </tr>\n",
              "    <tr>\n",
              "      <th>37313</th>\n",
              "      <td>newly commissioned guards ensign bumbo learns ...</td>\n",
              "      <td>[0, 0, 0, 0, 0, 0, 0, 0, 0, 0, 0, 0, 0, 0, 0, ...</td>\n",
              "    </tr>\n",
              "  </tbody>\n",
              "</table>\n",
              "<p>33763 rows × 2 columns</p>\n",
              "</div>\n",
              "      <button class=\"colab-df-convert\" onclick=\"convertToInteractive('df-4079542b-8992-46d5-945e-1153ff06495a')\"\n",
              "              title=\"Convert this dataframe to an interactive table.\"\n",
              "              style=\"display:none;\">\n",
              "        \n",
              "  <svg xmlns=\"http://www.w3.org/2000/svg\" height=\"24px\"viewBox=\"0 0 24 24\"\n",
              "       width=\"24px\">\n",
              "    <path d=\"M0 0h24v24H0V0z\" fill=\"none\"/>\n",
              "    <path d=\"M18.56 5.44l.94 2.06.94-2.06 2.06-.94-2.06-.94-.94-2.06-.94 2.06-2.06.94zm-11 1L8.5 8.5l.94-2.06 2.06-.94-2.06-.94L8.5 2.5l-.94 2.06-2.06.94zm10 10l.94 2.06.94-2.06 2.06-.94-2.06-.94-.94-2.06-.94 2.06-2.06.94z\"/><path d=\"M17.41 7.96l-1.37-1.37c-.4-.4-.92-.59-1.43-.59-.52 0-1.04.2-1.43.59L10.3 9.45l-7.72 7.72c-.78.78-.78 2.05 0 2.83L4 21.41c.39.39.9.59 1.41.59.51 0 1.02-.2 1.41-.59l7.78-7.78 2.81-2.81c.8-.78.8-2.07 0-2.86zM5.41 20L4 18.59l7.72-7.72 1.47 1.35L5.41 20z\"/>\n",
              "  </svg>\n",
              "      </button>\n",
              "      \n",
              "  <style>\n",
              "    .colab-df-container {\n",
              "      display:flex;\n",
              "      flex-wrap:wrap;\n",
              "      gap: 12px;\n",
              "    }\n",
              "\n",
              "    .colab-df-convert {\n",
              "      background-color: #E8F0FE;\n",
              "      border: none;\n",
              "      border-radius: 50%;\n",
              "      cursor: pointer;\n",
              "      display: none;\n",
              "      fill: #1967D2;\n",
              "      height: 32px;\n",
              "      padding: 0 0 0 0;\n",
              "      width: 32px;\n",
              "    }\n",
              "\n",
              "    .colab-df-convert:hover {\n",
              "      background-color: #E2EBFA;\n",
              "      box-shadow: 0px 1px 2px rgba(60, 64, 67, 0.3), 0px 1px 3px 1px rgba(60, 64, 67, 0.15);\n",
              "      fill: #174EA6;\n",
              "    }\n",
              "\n",
              "    [theme=dark] .colab-df-convert {\n",
              "      background-color: #3B4455;\n",
              "      fill: #D2E3FC;\n",
              "    }\n",
              "\n",
              "    [theme=dark] .colab-df-convert:hover {\n",
              "      background-color: #434B5C;\n",
              "      box-shadow: 0px 1px 3px 1px rgba(0, 0, 0, 0.15);\n",
              "      filter: drop-shadow(0px 1px 2px rgba(0, 0, 0, 0.3));\n",
              "      fill: #FFFFFF;\n",
              "    }\n",
              "  </style>\n",
              "\n",
              "      <script>\n",
              "        const buttonEl =\n",
              "          document.querySelector('#df-4079542b-8992-46d5-945e-1153ff06495a button.colab-df-convert');\n",
              "        buttonEl.style.display =\n",
              "          google.colab.kernel.accessAllowed ? 'block' : 'none';\n",
              "\n",
              "        async function convertToInteractive(key) {\n",
              "          const element = document.querySelector('#df-4079542b-8992-46d5-945e-1153ff06495a');\n",
              "          const dataTable =\n",
              "            await google.colab.kernel.invokeFunction('convertToInteractive',\n",
              "                                                     [key], {});\n",
              "          if (!dataTable) return;\n",
              "\n",
              "          const docLinkHtml = 'Like what you see? Visit the ' +\n",
              "            '<a target=\"_blank\" href=https://colab.research.google.com/notebooks/data_table.ipynb>data table notebook</a>'\n",
              "            + ' to learn more about interactive tables.';\n",
              "          element.innerHTML = '';\n",
              "          dataTable['output_type'] = 'display_data';\n",
              "          await google.colab.output.renderOutput(dataTable, element);\n",
              "          const docLink = document.createElement('div');\n",
              "          docLink.innerHTML = docLinkHtml;\n",
              "          element.appendChild(docLink);\n",
              "        }\n",
              "      </script>\n",
              "    </div>\n",
              "  </div>\n",
              "  "
            ],
            "text/plain": [
              "                                                 Summary  \\\n",
              "19172  the story takes place in a remote village wher...   \n",
              "5022   when juliette fontaine formerly a doctor is re...   \n",
              "22041  robert roy macgregor is a cattle drover and th...   \n",
              "29325  the film is about a young man jargo who is of ...   \n",
              "27127  shyama gets a job as a servant so she can pay ...   \n",
              "...                                                  ...   \n",
              "28875  the plot involves a teenager frankie who is le...   \n",
              "20779  the beautiful paradise island melonia is inhab...   \n",
              "4150   the film opens with the same scene from the fi...   \n",
              "9307   terrence mcdonagh is a new orleans police serg...   \n",
              "37313  newly commissioned guards ensign bumbo learns ...   \n",
              "\n",
              "                                                   label  \n",
              "19172  [0, 0, 0, 0, 0, 0, 0, 0, 0, 0, 0, 0, 0, 0, 0, ...  \n",
              "5022   [0, 0, 0, 0, 0, 0, 0, 0, 0, 0, 0, 0, 0, 0, 0, ...  \n",
              "22041  [0, 1, 0, 0, 1, 0, 0, 0, 0, 0, 0, 0, 0, 0, 0, ...  \n",
              "29325  [0, 0, 0, 0, 0, 0, 0, 0, 0, 0, 0, 0, 0, 0, 0, ...  \n",
              "27127  [0, 0, 0, 0, 0, 0, 0, 0, 0, 0, 0, 0, 0, 0, 0, ...  \n",
              "...                                                  ...  \n",
              "28875  [0, 0, 0, 0, 0, 0, 0, 0, 0, 0, 0, 0, 0, 0, 0, ...  \n",
              "20779  [0, 0, 0, 0, 0, 0, 0, 0, 0, 0, 0, 0, 0, 0, 0, ...  \n",
              "4150   [0, 1, 0, 0, 0, 0, 0, 0, 0, 0, 0, 0, 0, 0, 0, ...  \n",
              "9307   [0, 0, 0, 0, 0, 0, 0, 0, 0, 0, 0, 0, 0, 0, 0, ...  \n",
              "37313  [0, 0, 0, 0, 0, 0, 0, 0, 0, 0, 0, 0, 0, 0, 0, ...  \n",
              "\n",
              "[33763 rows x 2 columns]"
            ]
          },
          "execution_count": 49,
          "metadata": {},
          "output_type": "execute_result"
        }
      ],
      "source": [
        "train"
      ]
    },
    {
      "cell_type": "code",
      "execution_count": null,
      "metadata": {
        "colab": {
          "base_uri": "https://localhost:8080/",
          "height": 424
        },
        "id": "fBV-Ng0HLB24",
        "outputId": "17ec9ef7-c5a9-4303-dbd2-c6ea6a9be1ec"
      },
      "outputs": [
        {
          "data": {
            "text/html": [
              "\n",
              "  <div id=\"df-b8f8b880-0841-40ef-88b4-a7d5b7863063\">\n",
              "    <div class=\"colab-df-container\">\n",
              "      <div>\n",
              "<style scoped>\n",
              "    .dataframe tbody tr th:only-of-type {\n",
              "        vertical-align: middle;\n",
              "    }\n",
              "\n",
              "    .dataframe tbody tr th {\n",
              "        vertical-align: top;\n",
              "    }\n",
              "\n",
              "    .dataframe thead th {\n",
              "        text-align: right;\n",
              "    }\n",
              "</style>\n",
              "<table border=\"1\" class=\"dataframe\">\n",
              "  <thead>\n",
              "    <tr style=\"text-align: right;\">\n",
              "      <th></th>\n",
              "      <th>Summary</th>\n",
              "      <th>label</th>\n",
              "    </tr>\n",
              "  </thead>\n",
              "  <tbody>\n",
              "    <tr>\n",
              "      <th>1</th>\n",
              "      <td>a series of murders of rich young women throug...</td>\n",
              "      <td>[0, 0, 0, 0, 0, 0, 0, 0, 0, 0, 0, 0, 0, 0, 0, ...</td>\n",
              "    </tr>\n",
              "    <tr>\n",
              "      <th>6</th>\n",
              "      <td>serap a young actress with a strong lively per...</td>\n",
              "      <td>[0, 0, 0, 0, 0, 0, 0, 0, 0, 0, 0, 0, 0, 0, 0, ...</td>\n",
              "    </tr>\n",
              "    <tr>\n",
              "      <th>7</th>\n",
              "      <td>the story starts as one of the robots flies in...</td>\n",
              "      <td>[0, 1, 0, 0, 0, 0, 0, 1, 0, 0, 0, 0, 0, 0, 0, ...</td>\n",
              "    </tr>\n",
              "    <tr>\n",
              "      <th>15</th>\n",
              "      <td>mary an orphan lives in an orphanage run by nu...</td>\n",
              "      <td>[0, 0, 0, 0, 0, 0, 0, 0, 0, 0, 0, 0, 0, 0, 0, ...</td>\n",
              "    </tr>\n",
              "    <tr>\n",
              "      <th>21</th>\n",
              "      <td>ruby and claude montgomery are a very insecure...</td>\n",
              "      <td>[0, 0, 0, 0, 0, 0, 0, 0, 0, 0, 0, 0, 0, 0, 0, ...</td>\n",
              "    </tr>\n",
              "    <tr>\n",
              "      <th>...</th>\n",
              "      <td>...</td>\n",
              "      <td>...</td>\n",
              "    </tr>\n",
              "    <tr>\n",
              "      <th>42170</th>\n",
              "      <td>karthik is a rich architect in ooty he falls i...</td>\n",
              "      <td>[0, 0, 0, 0, 0, 0, 0, 0, 0, 0, 0, 0, 0, 0, 0, ...</td>\n",
              "    </tr>\n",
              "    <tr>\n",
              "      <th>42172</th>\n",
              "      <td>tom eight and dyslexic he becomes friends with...</td>\n",
              "      <td>[0, 0, 0, 0, 0, 0, 0, 0, 0, 0, 0, 0, 0, 0, 0, ...</td>\n",
              "    </tr>\n",
              "    <tr>\n",
              "      <th>42176</th>\n",
              "      <td>a daytime soap opera star has to deal with his...</td>\n",
              "      <td>[0, 0, 0, 0, 0, 0, 0, 0, 0, 0, 0, 0, 0, 0, 0, ...</td>\n",
              "    </tr>\n",
              "    <tr>\n",
              "      <th>42184</th>\n",
              "      <td>yvonne valbret is a parisian belle who poses a...</td>\n",
              "      <td>[0, 0, 0, 0, 0, 0, 0, 0, 0, 0, 0, 0, 0, 0, 0, ...</td>\n",
              "    </tr>\n",
              "    <tr>\n",
              "      <th>42188</th>\n",
              "      <td>charlie daines is a morphine addicted detectiv...</td>\n",
              "      <td>[0, 1, 0, 0, 1, 0, 0, 0, 0, 0, 0, 0, 0, 0, 0, ...</td>\n",
              "    </tr>\n",
              "  </tbody>\n",
              "</table>\n",
              "<p>8441 rows × 2 columns</p>\n",
              "</div>\n",
              "      <button class=\"colab-df-convert\" onclick=\"convertToInteractive('df-b8f8b880-0841-40ef-88b4-a7d5b7863063')\"\n",
              "              title=\"Convert this dataframe to an interactive table.\"\n",
              "              style=\"display:none;\">\n",
              "        \n",
              "  <svg xmlns=\"http://www.w3.org/2000/svg\" height=\"24px\"viewBox=\"0 0 24 24\"\n",
              "       width=\"24px\">\n",
              "    <path d=\"M0 0h24v24H0V0z\" fill=\"none\"/>\n",
              "    <path d=\"M18.56 5.44l.94 2.06.94-2.06 2.06-.94-2.06-.94-.94-2.06-.94 2.06-2.06.94zm-11 1L8.5 8.5l.94-2.06 2.06-.94-2.06-.94L8.5 2.5l-.94 2.06-2.06.94zm10 10l.94 2.06.94-2.06 2.06-.94-2.06-.94-.94-2.06-.94 2.06-2.06.94z\"/><path d=\"M17.41 7.96l-1.37-1.37c-.4-.4-.92-.59-1.43-.59-.52 0-1.04.2-1.43.59L10.3 9.45l-7.72 7.72c-.78.78-.78 2.05 0 2.83L4 21.41c.39.39.9.59 1.41.59.51 0 1.02-.2 1.41-.59l7.78-7.78 2.81-2.81c.8-.78.8-2.07 0-2.86zM5.41 20L4 18.59l7.72-7.72 1.47 1.35L5.41 20z\"/>\n",
              "  </svg>\n",
              "      </button>\n",
              "      \n",
              "  <style>\n",
              "    .colab-df-container {\n",
              "      display:flex;\n",
              "      flex-wrap:wrap;\n",
              "      gap: 12px;\n",
              "    }\n",
              "\n",
              "    .colab-df-convert {\n",
              "      background-color: #E8F0FE;\n",
              "      border: none;\n",
              "      border-radius: 50%;\n",
              "      cursor: pointer;\n",
              "      display: none;\n",
              "      fill: #1967D2;\n",
              "      height: 32px;\n",
              "      padding: 0 0 0 0;\n",
              "      width: 32px;\n",
              "    }\n",
              "\n",
              "    .colab-df-convert:hover {\n",
              "      background-color: #E2EBFA;\n",
              "      box-shadow: 0px 1px 2px rgba(60, 64, 67, 0.3), 0px 1px 3px 1px rgba(60, 64, 67, 0.15);\n",
              "      fill: #174EA6;\n",
              "    }\n",
              "\n",
              "    [theme=dark] .colab-df-convert {\n",
              "      background-color: #3B4455;\n",
              "      fill: #D2E3FC;\n",
              "    }\n",
              "\n",
              "    [theme=dark] .colab-df-convert:hover {\n",
              "      background-color: #434B5C;\n",
              "      box-shadow: 0px 1px 3px 1px rgba(0, 0, 0, 0.15);\n",
              "      filter: drop-shadow(0px 1px 2px rgba(0, 0, 0, 0.3));\n",
              "      fill: #FFFFFF;\n",
              "    }\n",
              "  </style>\n",
              "\n",
              "      <script>\n",
              "        const buttonEl =\n",
              "          document.querySelector('#df-b8f8b880-0841-40ef-88b4-a7d5b7863063 button.colab-df-convert');\n",
              "        buttonEl.style.display =\n",
              "          google.colab.kernel.accessAllowed ? 'block' : 'none';\n",
              "\n",
              "        async function convertToInteractive(key) {\n",
              "          const element = document.querySelector('#df-b8f8b880-0841-40ef-88b4-a7d5b7863063');\n",
              "          const dataTable =\n",
              "            await google.colab.kernel.invokeFunction('convertToInteractive',\n",
              "                                                     [key], {});\n",
              "          if (!dataTable) return;\n",
              "\n",
              "          const docLinkHtml = 'Like what you see? Visit the ' +\n",
              "            '<a target=\"_blank\" href=https://colab.research.google.com/notebooks/data_table.ipynb>data table notebook</a>'\n",
              "            + ' to learn more about interactive tables.';\n",
              "          element.innerHTML = '';\n",
              "          dataTable['output_type'] = 'display_data';\n",
              "          await google.colab.output.renderOutput(dataTable, element);\n",
              "          const docLink = document.createElement('div');\n",
              "          docLink.innerHTML = docLinkHtml;\n",
              "          element.appendChild(docLink);\n",
              "        }\n",
              "      </script>\n",
              "    </div>\n",
              "  </div>\n",
              "  "
            ],
            "text/plain": [
              "                                                 Summary  \\\n",
              "1      a series of murders of rich young women throug...   \n",
              "6      serap a young actress with a strong lively per...   \n",
              "7      the story starts as one of the robots flies in...   \n",
              "15     mary an orphan lives in an orphanage run by nu...   \n",
              "21     ruby and claude montgomery are a very insecure...   \n",
              "...                                                  ...   \n",
              "42170  karthik is a rich architect in ooty he falls i...   \n",
              "42172  tom eight and dyslexic he becomes friends with...   \n",
              "42176  a daytime soap opera star has to deal with his...   \n",
              "42184  yvonne valbret is a parisian belle who poses a...   \n",
              "42188  charlie daines is a morphine addicted detectiv...   \n",
              "\n",
              "                                                   label  \n",
              "1      [0, 0, 0, 0, 0, 0, 0, 0, 0, 0, 0, 0, 0, 0, 0, ...  \n",
              "6      [0, 0, 0, 0, 0, 0, 0, 0, 0, 0, 0, 0, 0, 0, 0, ...  \n",
              "7      [0, 1, 0, 0, 0, 0, 0, 1, 0, 0, 0, 0, 0, 0, 0, ...  \n",
              "15     [0, 0, 0, 0, 0, 0, 0, 0, 0, 0, 0, 0, 0, 0, 0, ...  \n",
              "21     [0, 0, 0, 0, 0, 0, 0, 0, 0, 0, 0, 0, 0, 0, 0, ...  \n",
              "...                                                  ...  \n",
              "42170  [0, 0, 0, 0, 0, 0, 0, 0, 0, 0, 0, 0, 0, 0, 0, ...  \n",
              "42172  [0, 0, 0, 0, 0, 0, 0, 0, 0, 0, 0, 0, 0, 0, 0, ...  \n",
              "42176  [0, 0, 0, 0, 0, 0, 0, 0, 0, 0, 0, 0, 0, 0, 0, ...  \n",
              "42184  [0, 0, 0, 0, 0, 0, 0, 0, 0, 0, 0, 0, 0, 0, 0, ...  \n",
              "42188  [0, 1, 0, 0, 1, 0, 0, 0, 0, 0, 0, 0, 0, 0, 0, ...  \n",
              "\n",
              "[8441 rows x 2 columns]"
            ]
          },
          "execution_count": 50,
          "metadata": {},
          "output_type": "execute_result"
        }
      ],
      "source": [
        "test"
      ]
    },
    {
      "cell_type": "markdown",
      "metadata": {
        "id": "07QJN70OdyXm"
      },
      "source": [
        "#**Building the Model**\n",
        "Training model"
      ]
    },
    {
      "cell_type": "code",
      "execution_count": null,
      "metadata": {
        "colab": {
          "base_uri": "https://localhost:8080/"
        },
        "id": "1oLMAjPT3i5f",
        "outputId": "ddcdf90d-9bca-4190-b31c-9c96df1dded4"
      },
      "outputs": [
        {
          "name": "stdout",
          "output_type": "stream",
          "text": [
            "2.10.0\n"
          ]
        }
      ],
      "source": [
        "import tensorflow as tf \n",
        "tf . print(tf. __version__)"
      ]
    },
    {
      "cell_type": "code",
      "execution_count": null,
      "metadata": {
        "id": "HqUT5B0VrE48"
      },
      "outputs": [],
      "source": [
        "#pip install --ignore-installed --upgrade tensorflow"
      ]
    },
    {
      "cell_type": "code",
      "execution_count": null,
      "metadata": {
        "colab": {
          "base_uri": "https://localhost:8080/"
        },
        "id": "SxubfmdgrNWT",
        "outputId": "edbf2e87-3841-41c4-85f8-9981298ec521"
      },
      "outputs": [
        {
          "name": "stdout",
          "output_type": "stream",
          "text": [
            "2.10.0\n"
          ]
        }
      ],
      "source": [
        "tf . print(tf. __version__)"
      ]
    },
    {
      "cell_type": "code",
      "execution_count": null,
      "metadata": {
        "id": "CpZ_jyzhfkpk"
      },
      "outputs": [],
      "source": [
        "!pip install tensorflow_text -q --upgrade tensorflow "
      ]
    },
    {
      "cell_type": "markdown",
      "metadata": {
        "id": "9yeMmVgkn8Cs"
      },
      "source": [
        "Restart runtime if error"
      ]
    },
    {
      "cell_type": "code",
      "execution_count": null,
      "metadata": {
        "id": "2Ojc_PK8cGJF"
      },
      "outputs": [],
      "source": [
        "import tensorflow_text as text"
      ]
    },
    {
      "cell_type": "code",
      "execution_count": null,
      "metadata": {
        "colab": {
          "base_uri": "https://localhost:8080/"
        },
        "id": "SQPGx1PBeiU2",
        "outputId": "089834d2-727d-4288-d01c-280c55ed968c"
      },
      "outputs": [
        {
          "name": "stdout",
          "output_type": "stream",
          "text": [
            "2.10.0\n"
          ]
        }
      ],
      "source": [
        "import os\n",
        "import tensorflow_hub as hub\n",
        "tf . print(tf. __version__)"
      ]
    },
    {
      "cell_type": "markdown",
      "metadata": {
        "id": "GzAB2i1k8IyD"
      },
      "source": [
        "**Downloading Model from Tensorflow Hub**\n",
        "\n",
        "We are using ***BERT model*** and preprocessing/encoder ***T-hub***"
      ]
    },
    {
      "cell_type": "code",
      "execution_count": null,
      "metadata": {
        "colab": {
          "base_uri": "https://localhost:8080/"
        },
        "id": "FK-oyItIeX2r",
        "outputId": "b1e58a43-07e6-49ca-f499-bda598916da5"
      },
      "outputs": [
        {
          "name": "stderr",
          "output_type": "stream",
          "text": [
            "WARNING:tensorflow:Please fix your imports. Module tensorflow.python.training.tracking.data_structures has been moved to tensorflow.python.trackable.data_structures. The old module will be deleted in version 2.11.\n"
          ]
        }
      ],
      "source": [
        "preprocessor = hub.KerasLayer(\"https://tfhub.dev/tensorflow/bert_en_uncased_preprocess/3\")\n",
        "encoder = hub.KerasLayer(\"https://tfhub.dev/tensorflow/bert_en_uncased_L-12_H-768_A-12/4\",\n",
        "    trainable=False)"
      ]
    },
    {
      "cell_type": "code",
      "execution_count": null,
      "metadata": {
        "id": "9mnqyVnHUUOX"
      },
      "outputs": [],
      "source": [
        "#Bert Layers\n",
        "text_input = tf.keras.layers.Input(shape=(), dtype=tf.string, name='text')\n",
        "preprocessed_text = preprocessor(text_input)\n",
        "outputs = encoder(preprocessed_text)\n",
        "\n",
        "# Neural network layers\n",
        "l = tf.keras.layers.Dropout(0.1, name=\"dropout\")(outputs['pooled_output'])\n",
        "l = tf.keras.layers.Dense(num_classes, activation='sigmoid', name=\"output\")(l)\n",
        "\n",
        "# Use inputs and outputs to construct a final model\n",
        "model = tf.keras.Model(inputs=[text_input], outputs = [l])"
      ]
    },
    {
      "cell_type": "code",
      "execution_count": null,
      "metadata": {
        "colab": {
          "base_uri": "https://localhost:8080/"
        },
        "id": "DRwoEkuS0YXZ",
        "outputId": "4f82b051-0a19-490b-b44e-23c0cbe5ac2e"
      },
      "outputs": [
        {
          "name": "stdout",
          "output_type": "stream",
          "text": [
            "Model: \"model\"\n",
            "__________________________________________________________________________________________________\n",
            " Layer (type)                   Output Shape         Param #     Connected to                     \n",
            "==================================================================================================\n",
            " text (InputLayer)              [(None,)]            0           []                               \n",
            "                                                                                                  \n",
            " keras_layer (KerasLayer)       {'input_word_ids':   0           ['text[0][0]']                   \n",
            "                                (None, 128),                                                      \n",
            "                                 'input_type_ids':                                                \n",
            "                                (None, 128),                                                      \n",
            "                                 'input_mask': (Non                                               \n",
            "                                e, 128)}                                                          \n",
            "                                                                                                  \n",
            " keras_layer_1 (KerasLayer)     {'default': (None,   109482241   ['keras_layer[0][0]',            \n",
            "                                768),                             'keras_layer[0][1]',            \n",
            "                                 'pooled_output': (               'keras_layer[0][2]']            \n",
            "                                None, 768),                                                       \n",
            "                                 'encoder_outputs':                                               \n",
            "                                 [(None, 128, 768),                                               \n",
            "                                 (None, 128, 768),                                                \n",
            "                                 (None, 128, 768),                                                \n",
            "                                 (None, 128, 768),                                                \n",
            "                                 (None, 128, 768),                                                \n",
            "                                 (None, 128, 768),                                                \n",
            "                                 (None, 128, 768),                                                \n",
            "                                 (None, 128, 768),                                                \n",
            "                                 (None, 128, 768),                                                \n",
            "                                 (None, 128, 768),                                                \n",
            "                                 (None, 128, 768),                                                \n",
            "                                 (None, 128, 768)],                                               \n",
            "                                 'sequence_output':                                               \n",
            "                                 (None, 128, 768)}                                                \n",
            "                                                                                                  \n",
            " dropout (Dropout)              (None, 768)          0           ['keras_layer_1[0][13]']         \n",
            "                                                                                                  \n",
            " output (Dense)                 (None, 213)          163797      ['dropout[0][0]']                \n",
            "                                                                                                  \n",
            "==================================================================================================\n",
            "Total params: 109,646,038\n",
            "Trainable params: 163,797\n",
            "Non-trainable params: 109,482,241\n",
            "__________________________________________________________________________________________________\n"
          ]
        }
      ],
      "source": [
        "model.summary()"
      ]
    },
    {
      "cell_type": "code",
      "execution_count": null,
      "metadata": {
        "id": "fVWS1I1AX-lD"
      },
      "outputs": [],
      "source": [
        "from tensorflow.keras.utils import plot_model"
      ]
    },
    {
      "cell_type": "code",
      "execution_count": null,
      "metadata": {
        "colab": {
          "base_uri": "https://localhost:8080/",
          "height": 466
        },
        "id": "N8L5yMxLVMlu",
        "outputId": "22e36672-83f0-45eb-d303-6438ecbb9962"
      },
      "outputs": [
        {
          "data": {
            "image/png": "[encoded data removed]",
            "text/plain": [
              "<IPython.core.display.Image object>"
            ]
          },
          "execution_count": 69,
          "metadata": {},
          "output_type": "execute_result"
        }
      ],
      "source": [
        "plot_model(model)"
      ]
    },
    {
      "cell_type": "code",
      "execution_count": null,
      "metadata": {
        "id": "BoNx0RAhb9Gn"
      },
      "outputs": [],
      "source": [
        "#Defining Metrics\n",
        "METRICS = [\n",
        "      tf.keras.metrics.BinaryAccuracy(name='accuracy'),\n",
        "      tf.keras.metrics.Precision(name='precision'),\n",
        "      tf.keras.metrics.Recall(name='recall')\n",
        "]\n",
        "\n",
        "\n",
        "# Compiling the model with adam optimizers and binary crossentropy as loss\n",
        "model.compile(optimizer='adam',\n",
        "              loss='binary_crossentropy',\n",
        "              metrics=METRICS)"
      ]
    },
    {
      "cell_type": "code",
      "execution_count": null,
      "metadata": {
        "id": "TXHy_ahQteto"
      },
      "outputs": [],
      "source": [
        "train_list=train[\"Summary\"].to_list()\n",
        "test_list=test[\"Summary\"].to_list()\n",
        "\n",
        "ytrain_list=train[\"label\"].to_list()\n",
        "ytest_list=test[\"label\"].to_list()"
      ]
    },
    {
      "cell_type": "code",
      "execution_count": null,
      "metadata": {
        "id": "3Qjqf1E52nHm"
      },
      "outputs": [],
      "source": [
        "train_ds=tf.data.Dataset.from_tensor_slices((train_list,ytrain_list))\n",
        "test_ds =tf.data.Dataset.from_tensor_slices((test_list,ytest_list))"
      ]
    },
    {
      "cell_type": "code",
      "execution_count": null,
      "metadata": {
        "id": "c3bsdKkm5Ho9"
      },
      "outputs": [],
      "source": [
        "train_ds = train_ds.shuffle(10000).batch(16, drop_remainder=True)\n",
        "test_ds = test_ds.shuffle(10000).batch(16, drop_remainder=True)"
      ]
    },
    {
      "cell_type": "code",
      "execution_count": null,
      "metadata": {
        "colab": {
          "background_save": true,
          "base_uri": "https://localhost:8080/",
          "height": 345
        },
        "id": "54r4IuE7g2hT",
        "outputId": "381cfae0-1321-429b-e052-ee536a6a6765"
      },
      "outputs": [
        {
          "name": "stdout",
          "output_type": "stream",
          "text": [
            "Epoch 1/10\n",
            "2110/2110 [==============================] - 441s 204ms/step - loss: 0.0612 - accuracy: 0.9829 - precision: 0.4326 - recall: 0.0817 - val_loss: 0.0556 - val_accuracy: 0.9840 - val_precision: 0.5898 - val_recall: 0.1354\n",
            "Epoch 2/10\n",
            "2110/2110 [==============================] - 429s 204ms/step - loss: 0.0549 - accuracy: 0.9841 - precision: 0.6064 - recall: 0.1251 - val_loss: 0.0537 - val_accuracy: 0.9842 - val_precision: 0.6180 - val_recall: 0.1448\n",
            "Epoch 3/10\n",
            "2110/2110 [==============================] - 431s 204ms/step - loss: 0.0533 - accuracy: 0.9842 - precision: 0.6047 - recall: 0.1440 - val_loss: 0.0523 - val_accuracy: 0.9844 - val_precision: 0.6376 - val_recall: 0.1446\n",
            "Epoch 4/10\n",
            "2110/2110 [==============================] - 430s 204ms/step - loss: 0.0524 - accuracy: 0.9843 - precision: 0.6053 - recall: 0.1566 - val_loss: 0.0518 - val_accuracy: 0.9844 - val_precision: 0.6362 - val_recall: 0.1533\n",
            "Epoch 5/10\n",
            "2110/2110 [==============================] - 429s 203ms/step - loss: 0.0518 - accuracy: 0.9843 - precision: 0.6073 - recall: 0.1648 - val_loss: 0.0513 - val_accuracy: 0.9845 - val_precision: 0.6604 - val_recall: 0.1420\n",
            "Epoch 6/10\n",
            "2110/2110 [==============================] - 429s 203ms/step - loss: 0.0515 - accuracy: 0.9843 - precision: 0.6036 - recall: 0.1687 - val_loss: 0.0514 - val_accuracy: 0.9843 - val_precision: 0.5927 - val_recall: 0.1864\n",
            "Epoch 7/10\n",
            "2110/2110 [==============================] - 428s 203ms/step - loss: 0.0511 - accuracy: 0.9844 - precision: 0.6053 - recall: 0.1747 - val_loss: 0.0511 - val_accuracy: 0.9844 - val_precision: 0.6189 - val_recall: 0.1659\n",
            "Epoch 8/10\n",
            "2110/2110 [==============================] - 428s 203ms/step - loss: 0.0509 - accuracy: 0.9844 - precision: 0.6053 - recall: 0.1766 - val_loss: 0.0507 - val_accuracy: 0.9845 - val_precision: 0.6375 - val_recall: 0.1664\n",
            "Epoch 9/10\n",
            "2110/2110 [==============================] - 427s 203ms/step - loss: 0.0508 - accuracy: 0.9844 - precision: 0.6024 - recall: 0.1791 - val_loss: 0.0503 - val_accuracy: 0.9845 - val_precision: 0.6181 - val_recall: 0.1860\n",
            "Epoch 10/10\n",
            "2110/2110 [==============================] - 486s 230ms/step - loss: 0.0506 - accuracy: 0.9844 - precision: 0.6023 - recall: 0.1815 - val_loss: 0.0500 - val_accuracy: 0.9845 - val_precision: 0.6467 - val_recall: 0.1621\n"
          ]
        },
        {
          "data": {
            "text/plain": [
              "<keras.callbacks.History at 0x7fd8c99c8550>"
            ]
          },
          "execution_count": 64,
          "metadata": {},
          "output_type": "execute_result"
        }
      ],
      "source": [
        "model.fit(train_ds,validation_data=test_ds, epochs=10)"
      ]
    },
    {
      "cell_type": "markdown",
      "metadata": {
        "id": "T6jVEMZaB8EP"
      },
      "source": [
        "### Saving model"
      ]
    },
    {
      "cell_type": "code",
      "execution_count": null,
      "metadata": {
        "colab": {
          "background_save": true
        },
        "id": "0WiM7SWt-ah2",
        "outputId": "e4a7a8de-67b2-4a02-8dbc-6a8cbb2273e5"
      },
      "outputs": [
        {
          "name": "stderr",
          "output_type": "stream",
          "text": [
            "WARNING:absl:Found untraced functions such as restored_function_body, restored_function_body, restored_function_body, restored_function_body, restored_function_body while saving (showing 5 of 366). These functions will not be directly callable after loading.\n"
          ]
        }
      ],
      "source": [
        "version=2\n",
        "export_path = os.path.join(\"/content/model\", str(version))\n",
        "tf.keras.models.save_model(\n",
        "    model,\n",
        "    export_path,\n",
        "    overwrite=True,\n",
        "    include_optimizer=True,\n",
        "    save_format=None,\n",
        "    signatures=None,\n",
        "    options=None\n",
        ")"
      ]
    },
    {
      "cell_type": "code",
      "execution_count": null,
      "metadata": {
        "colab": {
          "background_save": true
        },
        "id": "uc3FF9OVA_KL",
        "outputId": "0a7f9284-613e-4a13-e38b-8e9ec3ee49a8"
      },
      "outputs": [
        {
          "name": "stderr",
          "output_type": "stream",
          "text": [
            "WARNING:absl:Found untraced functions such as restored_function_body, restored_function_body, restored_function_body, restored_function_body, restored_function_body while saving (showing 5 of 366). These functions will not be directly callable after loading.\n"
          ]
        }
      ],
      "source": [
        "version=2\n",
        "google_export_path = os.path.join(\"/content/drive/MyDrive/model\", str(version))\n",
        "tf.keras.models.save_model(\n",
        "    model,\n",
        "    google_export_path,\n",
        "    overwrite=True,\n",
        "    include_optimizer=True,\n",
        "    save_format=None,\n",
        "    signatures=None,\n",
        "    options=None\n",
        ")"
      ]
    },
    {
      "cell_type": "markdown",
      "metadata": {
        "id": "hoMUevi5Deym"
      },
      "source": [
        "# Serving"
      ]
    },
    {
      "cell_type": "code",
      "execution_count": null,
      "metadata": {
        "id": "PZPAffEmnYOJ"
      },
      "outputs": [],
      "source": [
        "import os"
      ]
    },
    {
      "cell_type": "markdown",
      "metadata": {
        "id": "nZj-MM8riCkJ"
      },
      "source": [
        "**Install Tensorflow Serving**"
      ]
    },
    {
      "cell_type": "code",
      "execution_count": null,
      "metadata": {
        "id": "h5nNtPXhBwBP"
      },
      "outputs": [],
      "source": [
        "import sys\n",
        "# We need sudo prefix if not on a Google Colab.\n",
        "if 'google.colab' not in sys.modules:\n",
        "  SUDO_IF_NEEDED = 'sudo'\n",
        "else:\n",
        "  SUDO_IF_NEEDED = ''"
      ]
    },
    {
      "cell_type": "code",
      "execution_count": null,
      "metadata": {
        "id": "4Hw2q999D2ix"
      },
      "outputs": [],
      "source": [
        "install tensorflow server"
      ]
    },
    {
      "cell_type": "code",
      "execution_count": null,
      "metadata": {
        "id": "duB2OGpaEBtT"
      },
      "outputs": [],
      "source": [
        "!wget 'http://storage.googleapis.com/tensorflow-serving-apt/pool/tensorflow-model-server-universal-2.8.0/t/tensorflow-model-server-universal/tensorflow-model-server-universal_2.8.0_all.deb'\n",
        "!dpkg -i tensorflow-model-server-universal_2.8.0_all.deb"
      ]
    },
    {
      "cell_type": "code",
      "execution_count": null,
      "metadata": {
        "id": "Pk1P5y56ECBu"
      },
      "outputs": [],
      "source": [
        "os.environ[\"MODEL_DIR\"] = \"/content/drive/MyDrive/model/\""
      ]
    },
    {
      "cell_type": "code",
      "execution_count": null,
      "metadata": {
        "id": "pHnuhZoWEakX"
      },
      "outputs": [],
      "source": [
        "!saved_model_cli show --dir /content/drive/MyDrive/model/2/ --all"
      ]
    },
    {
      "cell_type": "markdown",
      "metadata": {
        "id": "OTAnOw3k2zpx"
      },
      "source": [
        "**Start running Tensorflow Serving**"
      ]
    },
    {
      "cell_type": "code",
      "execution_count": null,
      "metadata": {
        "id": "HGBDkqphEe1I"
      },
      "outputs": [],
      "source": [
        "%%bash --bg \n",
        "nohup tensorflow_model_server \\\n",
        "  --rest_api_port=8501 \\\n",
        "  --model_name=multilabel_model \\\n",
        "  --model_base_path=\"${MODEL_DIR}\" >server.log 2>&1"
      ]
    },
    {
      "cell_type": "code",
      "execution_count": null,
      "metadata": {
        "id": "awg4_Lr7FHB-"
      },
      "outputs": [],
      "source": [
        "!tail server.log"
      ]
    },
    {
      "cell_type": "markdown",
      "metadata": {
        "id": "NW9bqrVDiPBR"
      },
      "source": [
        "**Making a request to the model in tensorflow serving**"
      ]
    },
    {
      "cell_type": "code",
      "execution_count": null,
      "metadata": {
        "id": "gYtVYN096SpD"
      },
      "outputs": [],
      "source": [
        "os.environ['TENSORFLOW_URL']=\"http://localhost:8501/v1/models/multilabel_model:predict\""
      ]
    },
    {
      "cell_type": "code",
      "execution_count": null,
      "metadata": {
        "id": "N6YpJHeuFKZ_"
      },
      "outputs": [],
      "source": [
        "input_text = \"Hundreds of cash-strapped contestants accept an invitation to compete in children's games for a tempting prize, but the stakes are deadly.\""
      ]
    },
    {
      "cell_type": "code",
      "execution_count": null,
      "metadata": {
        "id": "Df-nzIaRFUu-"
      },
      "outputs": [],
      "source": [
        "import json\n",
        "data = json.dumps({\"signature_name\": \"serving_default\", \"instances\": [input_text]})"
      ]
    },
    {
      "cell_type": "code",
      "execution_count": null,
      "metadata": {
        "id": "i6j1gr--FZLW"
      },
      "outputs": [],
      "source": [
        "import requests\n",
        "headers = {\"content-type\": \"application/json\"}\n",
        "json_response = requests.post('http://localhost:8501/v1/models/multilabel_model:predict', data=data, headers=headers)\n",
        "predictions = json.loads(json_response.text)"
      ]
    },
    {
      "cell_type": "code",
      "execution_count": null,
      "metadata": {
        "id": "x601DhK-GeM-"
      },
      "outputs": [],
      "source": [
        "predictions"
      ]
    },
    {
      "cell_type": "code",
      "execution_count": null,
      "metadata": {
        "id": "N7Lw-s72Gfok"
      },
      "outputs": [],
      "source": [
        "max(sorted(predictions['predictions'][0]))"
      ]
    },
    {
      "cell_type": "markdown",
      "metadata": {
        "id": "uS-d8kwb9NPj"
      },
      "source": [
        "# Client app"
      ]
    },
    {
      "cell_type": "code",
      "execution_count": null,
      "metadata": {
        "id": "OFIkEVQwGJay"
      },
      "outputs": [],
      "source": [
        "!rm -rf Capstone"
      ]
    },
    {
      "cell_type": "code",
      "execution_count": null,
      "metadata": {
        "id": "2fkdrxPt9P56"
      },
      "outputs": [],
      "source": [
        "! git clone https://github.com/GayatriJadhavv/Capstone.git"
      ]
    },
    {
      "cell_type": "code",
      "execution_count": null,
      "metadata": {
        "id": "8UmQ_-kq9dQK"
      },
      "outputs": [],
      "source": [
        "import pickle\n",
        "pickle.dump(genres_name, open('labels.pkl', 'wb'))"
      ]
    },
    {
      "cell_type": "code",
      "execution_count": null,
      "metadata": {
        "id": "Lyygy59d9r4J"
      },
      "outputs": [],
      "source": [
        "!pip install -r Capstone/requirements.txt -q"
      ]
    },
    {
      "cell_type": "code",
      "execution_count": null,
      "metadata": {
        "id": "IA3Nv0n8-fc5"
      },
      "outputs": [],
      "source": [
        "!pip install flask_ngrok pyngrok==4.1.1 -q"
      ]
    },
    {
      "cell_type": "code",
      "execution_count": null,
      "metadata": {
        "id": "hLBFACSwA47N"
      },
      "outputs": [],
      "source": [
        "!ngrok authtoken 2GFgDorDUOPkGfm2eLT2tEtdq2e_4Nex9N1cDAjfxzTHKaUeu"
      ]
    },
    {
      "cell_type": "code",
      "execution_count": null,
      "metadata": {
        "id": "2qPwxyPlHzPh"
      },
      "outputs": [],
      "source": [
        "os.environ['pred_threshold']=\"0.15\""
      ]
    },
    {
      "cell_type": "code",
      "execution_count": null,
      "metadata": {
        "id": "MjBMHdqZI-iK"
      },
      "outputs": [],
      "source": [
        "%%bash --bg \n",
        "nohup tensorflow_model_server \\\n",
        "  --rest_api_port=8501 \\\n",
        "  --model_name=multilable_model \\\n",
        "  --model_base_path=\"${MODEL_DIR}\" >server.log 2>&1"
      ]
    },
    {
      "cell_type": "code",
      "execution_count": null,
      "metadata": {
        "id": "-XBAbqutQMA_"
      },
      "outputs": [],
      "source": [
        "!tail server.log"
      ]
    },
    {
      "cell_type": "code",
      "execution_count": null,
      "metadata": {
        "id": "q7X_2dXt9z-C"
      },
      "outputs": [],
      "source": [
        "!sudo python /content/Capstone/app.py"
      ]
    },
    {
      "cell_type": "code",
      "execution_count": null,
      "metadata": {
        "id": "AdyOqKJ3VsUn"
      },
      "outputs": [],
      "source": []
    },
    {
      "cell_type": "markdown",
      "metadata": {
        "id": "a-u9FwpV9-Ti"
      },
      "source": [
        "#**Model 2**"
      ]
    },
    {
      "cell_type": "code",
      "execution_count": null,
      "metadata": {
        "id": "GmezAbqb9_za"
      },
      "outputs": [],
      "source": [
        "movie_metadata = pd.read_csv('/content/drive/MyDrive/MovieSummaries/movie.metadata.tsv', sep='\\t', header=None)\n",
        "movie_metadata.head()"
      ]
    },
    {
      "cell_type": "code",
      "execution_count": null,
      "metadata": {
        "id": "G4nfMIj--GVo"
      },
      "outputs": [],
      "source": [
        "# rename columns\n",
        "movie_metadata.columns = [\"movie_id\",1,\"movie_name\",3,4,5,6,7,\"genre\"]\n",
        "movie_metadata.head(2)"
      ]
    },
    {
      "cell_type": "code",
      "execution_count": null,
      "metadata": {
        "id": "nGuSHes6-IZK"
      },
      "outputs": [],
      "source": [
        "movie_metadata.shape"
      ]
    },
    {
      "cell_type": "code",
      "execution_count": null,
      "metadata": {
        "id": "i9r3j9mt-Kfi"
      },
      "outputs": [],
      "source": [
        "plots = []\n",
        "\n",
        "with open(\"/content/drive/MyDrive/MovieSummaries/plot_summaries.txt\", 'r') as f:\n",
        "       reader = csv.reader(f, dialect='excel-tab') \n",
        "       for row in tqdm(reader):\n",
        "            plots.append(row)"
      ]
    },
    {
      "cell_type": "code",
      "execution_count": null,
      "metadata": {
        "id": "uuQQLJEN-ME1"
      },
      "outputs": [],
      "source": [
        "len(plots)"
      ]
    },
    {
      "cell_type": "markdown",
      "metadata": {
        "id": "bZYkx2Yu-Ntc"
      },
      "source": [
        "Next, split the movie ids and the plots into two separate lists. We will use these lists to form a dataframe"
      ]
    },
    {
      "cell_type": "code",
      "execution_count": null,
      "metadata": {
        "id": "hUovqtUf-ORz"
      },
      "outputs": [],
      "source": [
        "movie_id = []\n",
        "plot = []\n",
        "\n",
        "# extract movie Ids and plot summaries\n",
        "for i in tqdm(plots):\n",
        "  movie_id.append(i[0])\n",
        "  plot.append(i[1])\n",
        "\n",
        "# create dataframe\n",
        "movies = pd.DataFrame({'movie_id': movie_id, 'plot': plot})"
      ]
    },
    {
      "cell_type": "code",
      "execution_count": null,
      "metadata": {
        "id": "NF3GkQLg-Scm"
      },
      "outputs": [],
      "source": [
        "movies.head()"
      ]
    },
    {
      "cell_type": "markdown",
      "metadata": {
        "id": "QzPYzGB8-VVs"
      },
      "source": [
        "#**Data Exploration and Pre-processing**\n",
        "\n",
        "Let’s add the movie names and their genres from the movie metadata file by merging the latter into the former based on the movie_id column:"
      ]
    },
    {
      "cell_type": "code",
      "execution_count": null,
      "metadata": {
        "id": "MZju6OC_-bH7"
      },
      "outputs": [],
      "source": [
        "movie_metadata.dtypes"
      ]
    },
    {
      "cell_type": "code",
      "execution_count": null,
      "metadata": {
        "id": "ZIZw2RMq-eU8"
      },
      "outputs": [],
      "source": [
        "# change datatype of 'movie_id'\n",
        "movie_metadata['movie_id'] = movie_metadata['movie_id'].astype(str)\n",
        "\n",
        "# merge meta with movies\n",
        "movies = pd.merge(movies, movie_metadata[['movie_id', 'movie_name', 'genre']], on = 'movie_id')\n",
        "\n",
        "movies.head()"
      ]
    },
    {
      "cell_type": "markdown",
      "metadata": {
        "id": "wGG-TDrC-gVo"
      },
      "source": [
        "We have added both movie names and genres. However, the genres are in a dictionary notation. It will be easier to work with them if we can convert them into a Python list. We’ll do this using the first row:"
      ]
    },
    {
      "cell_type": "code",
      "execution_count": null,
      "metadata": {
        "id": "FoKfpr5J-gt0"
      },
      "outputs": [],
      "source": [
        "movies['genre'][1]"
      ]
    },
    {
      "cell_type": "markdown",
      "metadata": {
        "id": "1VwObal--jwr"
      },
      "source": [
        "We can’t access the genres in this row by using just .values( ). This is because this text is a string, not a dictionary. We will have to convert this string into a dictionary. We will take the help of the json library here:"
      ]
    },
    {
      "cell_type": "code",
      "execution_count": null,
      "metadata": {
        "id": "V8hjudSY-kNr"
      },
      "outputs": [],
      "source": [
        "type(json.loads(movies['genre'][1]))"
      ]
    },
    {
      "cell_type": "markdown",
      "metadata": {
        "id": "JVM56QRz-m6-"
      },
      "source": [
        "We can now easily access this row’s genres:"
      ]
    },
    {
      "cell_type": "code",
      "execution_count": null,
      "metadata": {
        "id": "oSEvBKRK-nU3"
      },
      "outputs": [],
      "source": [
        "json.loads(movies['genre'][1]).values()"
      ]
    },
    {
      "cell_type": "markdown",
      "metadata": {
        "id": "ZqZUiesS-rEA"
      },
      "source": [
        "This code helps us to extract all the genres from the movies data. Once done, add the extracted genres as lists back to the movies dataframe:"
      ]
    },
    {
      "cell_type": "code",
      "execution_count": null,
      "metadata": {
        "id": "uYQeqy9g-rzH"
      },
      "outputs": [],
      "source": [
        "# an empty list\n",
        "genres = [] \n",
        "\n",
        "# extract genres\n",
        "for i in movies['genre']: \n",
        "  genres.append(list(json.loads(i).values())) \n",
        "\n",
        "# add to 'movies' dataframe  \n",
        "movies['genre_new'] = genres"
      ]
    },
    {
      "cell_type": "code",
      "execution_count": null,
      "metadata": {
        "id": "IVo2kJA--unr"
      },
      "outputs": [],
      "source": [
        "movies.head(2)"
      ]
    },
    {
      "cell_type": "markdown",
      "metadata": {
        "id": "3NfIjW04-wti"
      },
      "source": [
        "Now the genres are now in a list format.\n",
        "\n",
        "Some of the samples might not contain any genre tags. We should remove those samples as they won’t play a part in our model building process:"
      ]
    },
    {
      "cell_type": "code",
      "execution_count": null,
      "metadata": {
        "id": "MzpdIvoe-xFt"
      },
      "outputs": [],
      "source": [
        "# remove samples with 0 genre tags\n",
        "movies_new = movies[~(movies['genre_new'].str.len() == 0)]"
      ]
    },
    {
      "cell_type": "code",
      "execution_count": null,
      "metadata": {
        "id": "TlA-Q8Bm-zkB"
      },
      "outputs": [],
      "source": [
        "movies_new.shape, movies.shape"
      ]
    },
    {
      "cell_type": "markdown",
      "metadata": {
        "id": "xy1PhF8U-1zS"
      },
      "source": [
        "So, 411 samples had no genre tags."
      ]
    },
    {
      "cell_type": "markdown",
      "metadata": {
        "id": "RfqASCOP-8N5"
      },
      "source": [
        "Now, let's find how many movie genres have been covered in this dataset:"
      ]
    },
    {
      "cell_type": "code",
      "execution_count": null,
      "metadata": {
        "id": "1FSkZwPJ-5F-"
      },
      "outputs": [],
      "source": [
        "# get all genre tags in a list\n",
        "all_genres = sum(genres,[])\n",
        "len(set(all_genres))"
      ]
    },
    {
      "cell_type": "markdown",
      "metadata": {
        "id": "rxo15Q8Z-_-2"
      },
      "source": [
        "There are over 363 unique genre tags in our dataset. We will use FreqDist() from the nltk library to create a dictionary of genres and their occurrence count across the dataset:"
      ]
    },
    {
      "cell_type": "markdown",
      "metadata": {
        "id": "DhyRXWXd_EU0"
      },
      "source": [
        "#**Cleaning the Data**"
      ]
    },
    {
      "cell_type": "code",
      "execution_count": null,
      "metadata": {
        "id": "uiOqrRTZ_AUl"
      },
      "outputs": [],
      "source": [
        "# function for text cleaning \n",
        "def clean_text(text):\n",
        "    # remove backslash-apostrophe \n",
        "    text = re.sub(\"\\'\", \"\", text) \n",
        "    # remove everything except alphabets \n",
        "    text = re.sub(\"[^a-zA-Z]\",\" \",text) \n",
        "    # remove whitespaces \n",
        "    text = ' '.join(text.split()) \n",
        "    # convert text to lowercase \n",
        "    text = text.lower() \n",
        "    \n",
        "    return text"
      ]
    },
    {
      "cell_type": "code",
      "execution_count": null,
      "metadata": {
        "id": "hGnaOFU3_K7A"
      },
      "outputs": [],
      "source": [
        "movies_new['clean_plot'] = movies_new['plot'].apply(lambda x: clean_text(x))"
      ]
    },
    {
      "cell_type": "code",
      "execution_count": null,
      "metadata": {
        "id": "EJb__XG0_LC0"
      },
      "outputs": [],
      "source": [
        "movies_new.head(2)"
      ]
    },
    {
      "cell_type": "markdown",
      "metadata": {
        "id": "LvcMXEKL_PU3"
      },
      "source": [
        "In the clean_plot column, all the text is in lowercase and there are also no punctuation marks"
      ]
    },
    {
      "cell_type": "markdown",
      "metadata": {
        "id": "WJBI-Mnc_Q4T"
      },
      "source": [
        "The function below will visualize the words and their frequency in a set of documents. Let’s use it to find out the most frequent words in the movie plots column:\n",
        "\n"
      ]
    },
    {
      "cell_type": "code",
      "execution_count": null,
      "metadata": {
        "id": "whZhj2rP_Pow"
      },
      "outputs": [],
      "source": [
        "def freq_words(x, terms=30): \n",
        "  all_words = ' '.join([text for text in x]) \n",
        "  all_words = all_words.split() \n",
        "  fdist = nltk.FreqDist(all_words) \n",
        "  words_df = pd.DataFrame({'word':list(fdist.keys()), 'count':list(fdist.values())}) \n",
        "  \n",
        "  # selecting top 30 most frequent words \n",
        "  d = words_df.nlargest(columns=\"count\", n = terms) \n",
        "  \n",
        "  # visualize words and frequencies\n",
        "  plt.figure(figsize=(12,15)) \n",
        "  ax = sns.barplot(data=d, x= \"count\", y = \"word\") \n",
        "  ax.set(ylabel = 'Word') \n",
        "  plt.show()\n",
        "  \n",
        "# print 150 most frequent words \n",
        "freq_words(movies_new['clean_plot'], 150)"
      ]
    },
    {
      "cell_type": "code",
      "execution_count": null,
      "metadata": {
        "id": "l-nNG1Q3_RgZ"
      },
      "outputs": [],
      "source": [
        "# print 100 most frequent words \n",
        "freq_words(movies_new['clean_plot'], 100)"
      ]
    },
    {
      "cell_type": "markdown",
      "metadata": {
        "id": "hpJ0f0lO_YBl"
      },
      "source": [
        "Most of the terms in the above plot are stopwords. These stopwords carry far less meaning than other keywords in the text and they just add noise to the data. I’m going to go ahead and remove them from the plots’ text. We can download the list of stopwords from the nltk library:"
      ]
    },
    {
      "cell_type": "markdown",
      "metadata": {
        "id": "blw3SpsS_aAX"
      },
      "source": [
        "Most 150 frequent words contains some words wich might be useful for our prediction. So, I'm going to remove most 100 frequent words."
      ]
    },
    {
      "cell_type": "code",
      "execution_count": null,
      "metadata": {
        "id": "0QUfubw4_YVT"
      },
      "outputs": [],
      "source": [
        "nltk.download('stopwords')"
      ]
    },
    {
      "cell_type": "code",
      "execution_count": null,
      "metadata": {
        "id": "MvNSdSuB_eyH"
      },
      "outputs": [],
      "source": [
        "# Removing Stopwords\n",
        "from nltk.corpus import stopwords\n",
        "stop_words = set(stopwords.words('english'))\n",
        "\n",
        "# function to remove stopwords\n",
        "#def remove_stopwords(text):\n",
        "    no_stopword_text = [w for w in text.split() if not w in stop_words]\n",
        "    return ' '.join(no_stopword_text)\n",
        "\n",
        "#movies_new['clean_plot'] = movies_new['clean_plot'].apply(lambda x: remove_stopwords(x))"
      ]
    },
    {
      "cell_type": "code",
      "execution_count": null,
      "metadata": {
        "id": "4it4IHyJ_gqn"
      },
      "outputs": [],
      "source": [
        "freq_words(movies_new['clean_plot'], 100)"
      ]
    },
    {
      "cell_type": "markdown",
      "metadata": {
        "id": "3aI7EFQc_jyo"
      },
      "source": [
        "#**One Hot Encoding**\n",
        "we will now one hot encode the target variable(i.e. genre_new) by using sklearn’s MultiLabelBinarizer( ). Since there are 363 unique genre tags, there are going to be 363 new target variables."
      ]
    },
    {
      "cell_type": "code",
      "execution_count": null,
      "metadata": {
        "id": "tPq_cfQc_nMr"
      },
      "outputs": [],
      "source": [
        "#from sklearn.preprocessing import MultiLabelBinarizer\n",
        "\n",
        "#multilabel_binarizer = MultiLabelBinarizer()\n",
        "#multilabel_binarizer.fit(movies_new['genre_new'])\n",
        "\n",
        "# transform target variable\n",
        "#labels = multilabel_binarizer.transform(movies_new['genre_new'])"
      ]
    },
    {
      "cell_type": "code",
      "execution_count": null,
      "metadata": {
        "id": "dLQFpAot_qc-"
      },
      "outputs": [],
      "source": [
        "#labels = np.zeros((len(movies_new), 363))\n",
        "#labels.shape"
      ]
    },
    {
      "cell_type": "code",
      "execution_count": null,
      "metadata": {
        "id": "_jjyS2nL_ruY"
      },
      "outputs": [],
      "source": [
        "#labels"
      ]
    },
    {
      "cell_type": "code",
      "execution_count": null,
      "metadata": {
        "id": "N7JDQ7he_v0t"
      },
      "outputs": [],
      "source": [
        "# Splitting data into train and test dataset\n",
        "#X_train, X_test, y_train, y_test = train_test_split(movies_new['clean_plot'], labels, test_size=0.2, random_state=42)"
      ]
    },
    {
      "cell_type": "markdown",
      "metadata": {
        "id": "VrwhBMnQ_ywp"
      },
      "source": [
        "#**Building the Model**"
      ]
    },
    {
      "cell_type": "code",
      "execution_count": null,
      "metadata": {
        "id": "bM3IJ75D_wHX"
      },
      "outputs": [],
      "source": [
        "!pip install transformers"
      ]
    },
    {
      "cell_type": "code",
      "execution_count": null,
      "metadata": {
        "id": "Y5RcmKidAxta"
      },
      "outputs": [],
      "source": [
        "import tensorflow_hub as hub"
      ]
    },
    {
      "cell_type": "code",
      "execution_count": null,
      "metadata": {
        "id": "RVyNbMQDAzGw"
      },
      "outputs": [],
      "source": [
        "# !pip install tensorflow-text"
      ]
    },
    {
      "cell_type": "code",
      "execution_count": null,
      "metadata": {
        "id": "QTkzZKfWAzU_"
      },
      "outputs": [],
      "source": [
        "import tensorflow_text as text"
      ]
    },
    {
      "cell_type": "code",
      "execution_count": null,
      "metadata": {
        "id": "weZoo3gDA1Qc"
      },
      "outputs": [],
      "source": [
        "bert_preprocess = hub.KerasLayer(\"https://tfhub.dev/tensorflow/bert_en_uncased_preprocess/3\")\n",
        "bert_encoder = hub.KerasLayer(\"https://tfhub.dev/tensorflow/bert_en_uncased_L-12_H-768_A-12/4\")"
      ]
    },
    {
      "cell_type": "code",
      "execution_count": null,
      "metadata": {
        "id": "9geNzXTcA--H"
      },
      "outputs": [],
      "source": [
        "def get_sentence_embeding(sentences):\n",
        "    preprocessed_text = bert_preprocess(sentences)\n",
        "    return bert_encoder(preprocessed_text)['pooled_output']\n",
        "\n",
        "get_sentence_embeding([\n",
        "    \"500$ discount. hurry up\", \n",
        "    \"Bhavin, are you up for a volleybal game tomorrow?\"]\n",
        ")"
      ]
    },
    {
      "cell_type": "markdown",
      "metadata": {
        "id": "gvHd7H0MBAls"
      },
      "source": [
        "Defining our model to take text as input and adding Dense layer with num_classes as number of node and softmax as activation"
      ]
    },
    {
      "cell_type": "code",
      "execution_count": null,
      "metadata": {
        "id": "6IL26ha_BA49"
      },
      "outputs": [],
      "source": [
        "# Bert layers\n",
        "text_input = tf.keras.layers.Input(shape=(), dtype=tf.string, name='text')\n",
        "preprocessed_text = bert_preprocess(text_input)\n",
        "outputs = bert_encoder(preprocessed_text)\n",
        "\n",
        "# Neural network layers\n",
        "l = tf.keras.layers.Dropout(0.1, name=\"dropout\")(outputs['pooled_output'])\n",
        "l = tf.keras.layers.Dense(num_classes, activation='softmax', name=\"output\")(l) #this time we are using softmax\n",
        "                                                                               #No of classes have been reduced to 213\n",
        "# Use inputs and outputs to construct a final model\n",
        "model = tf.keras.Model(inputs=[text_input], outputs = [l])"
      ]
    },
    {
      "cell_type": "code",
      "execution_count": null,
      "metadata": {
        "id": "P-LY8Hk4BDpR"
      },
      "outputs": [],
      "source": [
        "model.summary()"
      ]
    },
    {
      "cell_type": "code",
      "execution_count": null,
      "metadata": {
        "id": "O2rhrOWfBDzH"
      },
      "outputs": [],
      "source": [
        "# Defining metrics\n",
        "METRICS = [\n",
        "      tf.keras.metrics.BinaryAccuracy(name='accuracy'),\n",
        "      tf.keras.metrics.Precision(name='precision'),\n",
        "      tf.keras.metrics.Recall(name='recall')\n",
        "]\n",
        "\n",
        "# Compiling the model with adam optimizers and binary crossentropy as loss\n",
        "model.compile(optimizer='adam',\n",
        "              loss='binary_crossentropy',\n",
        "              metrics=METRICS)"
      ]
    },
    {
      "cell_type": "code",
      "execution_count": null,
      "metadata": {
        "id": "gBqnUW0oBHVw"
      },
      "outputs": [],
      "source": [
        "#Convering list to tensorflow Dataset object\n",
        "\n",
        "train_list=train[\"Summary\"].to_list()\n",
        "test_list=test[\"Summary\"].to_list()\n",
        "\n",
        "ytrain_list=train[\"label\"].to_list()\n",
        "ytest_list=test[\"label\"].to_list()\n",
        "\n",
        "train_ds=tf.data.Dataset.from_tensor_slices((train_list,ytrain_list))\n",
        "test_ds =tf.data.Dataset.from_tensor_slices((test_list,ytest_list))"
      ]
    },
    {
      "cell_type": "code",
      "execution_count": null,
      "metadata": {
        "id": "p8JUGNatBJOA"
      },
      "outputs": [],
      "source": [
        "# Creating batch and shuffling the data\n",
        "train_ds = train_ds.shuffle(10000).batch(16, drop_remainder=True)\n",
        "test_ds = test_ds.shuffle(10000).batch(16, drop_remainder=True)"
      ]
    },
    {
      "cell_type": "code",
      "execution_count": null,
      "metadata": {
        "id": "Uk_hURDbBK-k"
      },
      "outputs": [],
      "source": [
        "# Fitting the model\n",
        "model.fit(train_ds, validation_data=test_ds, epochs=5)"
      ]
    },
    {
      "cell_type": "markdown",
      "metadata": {
        "id": "-vgykWTHBdfF"
      },
      "source": [
        "![Screenshot 2022-10-20 114315.jpg](data:image/jpeg;base64,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)"
      ]
    },
    {
      "cell_type": "code",
      "execution_count": null,
      "metadata": {
        "id": "pCGclQIlBiJ9"
      },
      "outputs": [],
      "source": [
        "y_pred = new_bert_model.predict(test_ds)\n",
        "# y_pred = y_pred.flatten()"
      ]
    },
    {
      "cell_type": "code",
      "execution_count": null,
      "metadata": {
        "id": "YnY0XMZYByOq"
      },
      "outputs": [],
      "source": [
        "import numpy as np\n",
        "\n",
        "# Defining threshold to convert the predicted output to 0&1\n",
        "y_predicted = np.where(y_pred > 0.1, 1, 0)\n",
        "y_predicted"
      ]
    },
    {
      "cell_type": "markdown",
      "metadata": {
        "id": "RaVmWCrOBzz_"
      },
      "source": [
        "**Making Predictions**\n"
      ]
    },
    {
      "cell_type": "code",
      "execution_count": null,
      "metadata": {
        "id": "vy2nDqESB0Nv"
      },
      "outputs": [],
      "source": [
        "print(\"Predicted genre:\" , pd.get_dummies((y_predicted)[4]).idxmax(1))\n",
        "print(\"Actual genre: \", pd.get_dummies(dataset_2['Movie genres'][4]).idxmax(1), \"\\n\")"
      ]
    },
    {
      "cell_type": "markdown",
      "metadata": {
        "id": "P_UdmkOw9i12"
      },
      "source": [
        "#**Conclusion**\n",
        "Although precision has been increased by using softmax activation function about 10 percent but prediction are not that good, they are hardly matching with actual genre. So we will keep sigmoid as our activation function.\n",
        "\n",
        "We were good with previously trained model, so will not proceed further because model is not giving good prediction as compare to previously trained model with sigmoid activation function."
      ]
    }
  ],
  "metadata": {
    "accelerator": "GPU",
    "colab": {
      "collapsed_sections": [
        "07QJN70OdyXm"
      ],
      "toc_visible": true,
      "provenance": [],
      "include_colab_link": true
    },
    "kernelspec": {
      "display_name": "Python 3",
      "name": "python3"
    },
    "language_info": {
      "name": "python"
    }
  },
  "nbformat": 4,
  "nbformat_minor": 0
}