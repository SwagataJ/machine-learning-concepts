{
  "nbformat": 4,
  "nbformat_minor": 0,
  "metadata": {
    "colab": {
      "provenance": [],
      "authorship_tag": "ABX9TyOZMlRiJw5yI3hNRBQiMjS+",
      "include_colab_link": true
    },
    "kernelspec": {
      "name": "python3",
      "display_name": "Python 3"
    },
    "language_info": {
      "name": "python"
    }
  },
  "cells": [
    {
      "cell_type": "markdown",
      "metadata": {
        "id": "view-in-github",
        "colab_type": "text"
      },
      "source": [
        "<a href=\"https://colab.research.google.com/github/SwagataJ/machine-learning-concepts/blob/main/deep-learning/two_layer_nn.ipynb\" target=\"_parent\"><img src=\"https://colab.research.google.com/assets/colab-badge.svg\" alt=\"Open In Colab\"/></a>"
      ]
    },
    {
      "cell_type": "markdown",
      "source": [
        "# Assignment : Week 1\n",
        "## Submission by: Swagata Jana\n",
        "\n",
        "#### Problem : Build a two-layer neural network from scratch In python.\n",
        "#### Description : To gain a better understanding of Deep Learning, build a Neural Network from scratch using only python, without a deep learning library like TensorFlow. Understanding the inner workings of a Neural Network is important to a ML Engineer. (You can use scientific libraries like numpy, scipy etc)\n",
        "#### Dataset: MNIST"
      ],
      "metadata": {
        "id": "F55OeLO0Jy_c"
      }
    },
    {
      "cell_type": "markdown",
      "source": [
        "## Importing the packages\n",
        "\n",
        "1.   Numpy: Numpy is used for scientific computations like dot product, exponents, etc\n",
        "2.   Matplotlib: Matplotlib is used for plotting the loss values against the epochs\n",
        "\n"
      ],
      "metadata": {
        "id": "vn0Ov5LHJ9k6"
      }
    },
    {
      "cell_type": "code",
      "execution_count": 10,
      "metadata": {
        "id": "eEk81g0FIlhb"
      },
      "outputs": [],
      "source": [
        "# Importing the required libraries\n",
        "import numpy as np\n",
        "import matplotlib.pyplot as plt"
      ]
    },
    {
      "cell_type": "markdown",
      "source": [
        "## Importing the dataset\n",
        "\n",
        "I am using **Keras** to import the dataset.\n",
        "Then, the data is split into training data and testing data respectively.\n",
        "\n",
        "PS: I tried downloading the dataset manually from [Yann Lecun](http://yann.lecun.com/exdb/mnist/) but I was not authorized, hence I was compelled to use a library."
      ],
      "metadata": {
        "id": "65M8vU8cLD2y"
      }
    },
    {
      "cell_type": "code",
      "source": [
        "# Taking the MNIST dataset from Keras datasets\n",
        "from keras.datasets import mnist\n",
        "(x_train, y_train), (x_test, y_test) = mnist.load_data()"
      ],
      "metadata": {
        "id": "KRRP_3LaI8Q0"
      },
      "execution_count": 11,
      "outputs": []
    },
    {
      "cell_type": "markdown",
      "source": [
        "## Preprocessing the data\n",
        "\n",
        "\n",
        "1. Flattening the image into a one dimensional vector of length 784.\n",
        "\n",
        "2. Normalizing the pixel values\n",
        "\n",
        "3. Converting output labels to numerical vectors( **one hot encoding** )"
      ],
      "metadata": {
        "id": "EIz0JLHxWCq-"
      }
    },
    {
      "cell_type": "code",
      "source": [
        "# Flatten images into a vector of 784 features\n",
        "x_train = x_train.reshape(60000, 784)\n",
        "x_test = x_test.reshape(10000, 784)\n",
        "\n",
        "# Normalize pixel values to range [0, 1]\n",
        "x_train = x_train / 255.0\n",
        "x_test = x_test / 255.0\n",
        "\n",
        "# Convert labels to one-hot encoding\n",
        "num_classes = 10\n",
        "y_train = np.eye(num_classes)[y_train]\n",
        "y_test = np.eye(num_classes)[y_test]"
      ],
      "metadata": {
        "id": "UAOAXnvLa_xr"
      },
      "execution_count": 12,
      "outputs": []
    },
    {
      "cell_type": "markdown",
      "source": [
        "## Defining the hyperparameters\n",
        "\n",
        "Hyperparameters such as learning rate, epochs, number of nodes in each layers."
      ],
      "metadata": {
        "id": "P3DaykbkNCFI"
      }
    },
    {
      "cell_type": "code",
      "source": [
        "# Defining hyperparameters\n",
        "inputLayer = 784\n",
        "outputLayer = 10\n",
        "hiddenLayer = 100\n",
        "learning_rate = 2\n",
        "n_epochs = 101"
      ],
      "metadata": {
        "id": "WkPMBN_jm85p"
      },
      "execution_count": 13,
      "outputs": []
    },
    {
      "cell_type": "markdown",
      "source": [
        "## Defining the activation functions"
      ],
      "metadata": {
        "id": "5TUyRSooaxxf"
      }
    },
    {
      "cell_type": "code",
      "source": [
        "# Sigmoid function\n",
        "def sigmoid(x):\n",
        "    return 1/(1 + np.exp(-x))    \n",
        "\n",
        "# Derivative of Sigmoid function\n",
        "def sigmoid_derivative(x):\n",
        "    return sigmoid(x)*(1 - sigmoid(x))\n",
        "\n",
        "# Softmax Funtion\n",
        "def softmax(x):\n",
        "    exps = np.exp(x)\n",
        "    return exps / np.sum(exps, axis=1, keepdims=True)"
      ],
      "metadata": {
        "id": "P9o88jk-K2bb"
      },
      "execution_count": 14,
      "outputs": []
    },
    {
      "cell_type": "markdown",
      "source": [
        "## Defining the Loss Function (**cross entropy loss**)"
      ],
      "metadata": {
        "id": "rCXGDaWxa5D5"
      }
    },
    {
      "cell_type": "code",
      "source": [
        "# Loss function\n",
        "def crossEntropyLoss(y_pred, y_true):\n",
        "    loss = -np.sum(y_true * np.log(y_pred)) / x_train.shape[0]\n",
        "    return loss\n"
      ],
      "metadata": {
        "id": "cj-zUJDotQJy"
      },
      "execution_count": 15,
      "outputs": []
    },
    {
      "cell_type": "markdown",
      "source": [
        "## Forward and Backward Propagation\n",
        "\n",
        "\n",
        "\n",
        "1. Forward propagation involves passing input through the network, computing activations by multiplying with weights, adding biases and applying activation functions. The output of one layer is the input to the next.\n",
        "\n",
        "2. Backward propagation is the process of computing gradients of the loss function with respect to the weights and biases of the neural network, using the chain rule of calculus. These gradients are used to update the weights and biases during training.\n",
        "\n",
        "\n",
        "\n",
        "\n",
        "\n"
      ],
      "metadata": {
        "id": "eA2xZ5YzbD9i"
      }
    },
    {
      "cell_type": "code",
      "source": [
        "# Forward and Backward Propagation\n",
        "def fowardAndBackwardPropagation(params, X, y, lr):\n",
        "    W1, b1, W2, b2 = params\n",
        "\n",
        "    Z1 = np.dot(X,W1) + b1\n",
        "    A1 = sigmoid(Z1)\n",
        "    Z2 = np.dot(A1, W2) + b2;\n",
        "    A2 = softmax(Z2)\n",
        "  \n",
        "    dz2 = (A2 - y)\n",
        "    dz1 = np.dot(dz2, W2.T) * sigmoid_derivative(Z1)\n",
        "\n",
        "    dw2 = np.dot(A1.T, dz2) / X.shape[0]\n",
        "    db2 = np.sum(dz2, axis=0) / X.shape[0]\n",
        "    dw1 = np.dot(X.T, dz1) / X.shape[0]\n",
        "    db1 = np.sum(dz1, axis=0) / X.shape[0]\n",
        "\n",
        "    loss = crossEntropyLoss(A2, y)\n",
        "\n",
        "    return dw1, db1, dw2, db2, loss"
      ],
      "metadata": {
        "id": "TYrXftDTCZE7"
      },
      "execution_count": 16,
      "outputs": []
    },
    {
      "cell_type": "markdown",
      "source": [
        "## Initialization of weights and biases\n",
        "\n",
        "1.   The weights have been initialized to abritrary random numbers and then multiplying by 0.01 so that the weights are small and close to zero.\n",
        "\n",
        "2.   The biases are all set to zero so that the network is neutral at the start.\n",
        "\n"
      ],
      "metadata": {
        "id": "CvLKLgtQbNPH"
      }
    },
    {
      "cell_type": "code",
      "source": [
        "# Initialising the weights and biases\n",
        "W1 = np.random.randn(inputLayer, hiddenLayer) * 0.01\n",
        "b1 = np.zeros(hiddenLayer)\n",
        "W2 = np.random.randn(hiddenLayer, outputLayer) * 0.01\n",
        "b2 = np.zeros(outputLayer)"
      ],
      "metadata": {
        "id": "EzlillM3alWf"
      },
      "execution_count": 17,
      "outputs": []
    },
    {
      "cell_type": "markdown",
      "source": [
        "## Training the model\n",
        "\n",
        "Now the model is trained on the training data where its weights and baises are adjusted to minimise the loss and give a correct prediction for the output."
      ],
      "metadata": {
        "id": "Dd4CiY0hukxG"
      }
    },
    {
      "cell_type": "code",
      "source": [
        "# Training the model\n",
        "losses = list()\n",
        "\n",
        "for epoch in range(n_epochs):\n",
        "    params = (W1, b1, W2, b2)\n",
        "    dw1, db1, dw2, db2, loss = fowardAndBackwardPropagation(params, x_train, y_train, learning_rate)\n",
        "    W2 -= learning_rate * dw2\n",
        "    b2 -= learning_rate * db2\n",
        "    W1 -= learning_rate * dw1\n",
        "    b1 -= learning_rate * db1\n",
        "\n",
        "    losses.append(loss)\n",
        "    if epoch % 5 == 0:\n",
        "        print(f'Epoch {epoch}/{n_epochs} - loss: {loss:.4f}')\n"
      ],
      "metadata": {
        "colab": {
          "base_uri": "https://localhost:8080/"
        },
        "id": "37od3ZT_BD18",
        "outputId": "d9e9d7ec-b49a-4461-89ff-90e9a9a12406"
      },
      "execution_count": 18,
      "outputs": [
        {
          "output_type": "stream",
          "name": "stdout",
          "text": [
            "Epoch 0/101 - loss: 2.3034\n",
            "Epoch 5/101 - loss: 2.4095\n",
            "Epoch 10/101 - loss: 2.2423\n",
            "Epoch 15/101 - loss: 2.1220\n",
            "Epoch 20/101 - loss: 1.7977\n",
            "Epoch 25/101 - loss: 1.3760\n",
            "Epoch 30/101 - loss: 1.0687\n",
            "Epoch 35/101 - loss: 0.8751\n",
            "Epoch 40/101 - loss: 0.7872\n",
            "Epoch 45/101 - loss: 1.0465\n",
            "Epoch 50/101 - loss: 0.6177\n",
            "Epoch 55/101 - loss: 0.5794\n",
            "Epoch 60/101 - loss: 0.5854\n",
            "Epoch 65/101 - loss: 0.5310\n",
            "Epoch 70/101 - loss: 0.4709\n",
            "Epoch 75/101 - loss: 0.4575\n",
            "Epoch 80/101 - loss: 0.4456\n",
            "Epoch 85/101 - loss: 0.4190\n",
            "Epoch 90/101 - loss: 0.3924\n",
            "Epoch 95/101 - loss: 0.3738\n",
            "Epoch 100/101 - loss: 0.3614\n"
          ]
        }
      ]
    },
    {
      "cell_type": "markdown",
      "source": [
        "## The loss-epoch graph\n",
        "\n",
        "Here is the losses for each epoch is plotted in a graph using matplotlib."
      ],
      "metadata": {
        "id": "TADenM_cu9lC"
      }
    },
    {
      "cell_type": "code",
      "source": [
        "# Plotting the loss\n",
        "plt.plot(losses)\n",
        "plt.xlabel('Epoch')\n",
        "plt.ylabel('Training Loss')\n",
        "plt.show()\n"
      ],
      "metadata": {
        "colab": {
          "base_uri": "https://localhost:8080/",
          "height": 279
        },
        "id": "qRar9LSyA7ai",
        "outputId": "07ee79f5-4bc7-40ed-cab1-3709dbefdcc9"
      },
      "execution_count": 19,
      "outputs": [
        {
          "output_type": "display_data",
          "data": {
            "text/plain": [
              "<Figure size 432x288 with 1 Axes>"
            ],
            "image/png": "[encoded data removed]"
          },
          "metadata": {
            "needs_background": "light"
          }
        }
      ]
    },
    {
      "cell_type": "markdown",
      "source": [
        "## Testing the model\n",
        "\n",
        "Now the model is tested as to how the model performs on unseen data and its accuracy is printed."
      ],
      "metadata": {
        "id": "OcEpqSi1vLsd"
      }
    },
    {
      "cell_type": "code",
      "source": [
        "# Evaluate on test set\n",
        "Z1 = np.dot(x_test, W1) + b1\n",
        "A1 = sigmoid(Z1)\n",
        "Z2 = np.dot(A1, W2) + b2\n",
        "A2 = softmax(Z2)\n",
        "accuracy = np.mean(np.argmax(A2, axis=1) == np.argmax(y_test, axis=1))\n",
        "print(f\"Test accuracy: {accuracy*100}%\")\n"
      ],
      "metadata": {
        "colab": {
          "base_uri": "https://localhost:8080/"
        },
        "id": "c5qy3qjHBxoo",
        "outputId": "107968e1-3437-4d11-bcda-787082e63b6c"
      },
      "execution_count": 20,
      "outputs": [
        {
          "output_type": "stream",
          "name": "stdout",
          "text": [
            "Test accuracy: 90.16999999999999%\n"
          ]
        }
      ]
    },
    {
      "cell_type": "markdown",
      "source": [
        "## Conclusion\n",
        "\n",
        "The model achieves an accuracy of ***90.16%***. The accuracy can be further increased by:\n",
        "\n",
        "*  increasing the number number of hidden layers \n",
        "\n",
        "*  using an adaptive learning rate or tweaking the learning rate further\n",
        "\n",
        "*  increasing the number of neurons per layer\n",
        "\n",
        "*  using regularization / dropout, etc.\n",
        "\n",
        "\n",
        "## Brief summary of implementation\n",
        "\n",
        "\n",
        "1.   Load the MNIST dataset from Keras\n",
        "2.   Reshape the training data so that each sample is a flat vector of length 784.\n",
        "3.   Normalize the pixel values to be between 0 and 1\n",
        "4.   Convert the labels to one-hot encoding using the eye() function from NumPy.\n",
        "5.   Setting the hyperparameters, such as learning rate, number of nodes in a layer, the activation functions namely, sigmoid and its derivative and softmax.\n",
        "6.   Defining the loss function which will compute the loss for a particular prediction. I am using cross entropy loss.\n",
        "7. Computing the forward propagation and the backward propagation which uses the hyperparameters and the loss function.\n",
        "8. Initialising the weights and biases to arbitrary random values for weights and zeros for biases.\n",
        "9. Training the model, which uses the forward and backward propagation fucntion.\n",
        "10. Plotting the losses to check if our model is able to minimise the losses.\n",
        "11. Checking the accuracy\n",
        "\n",
        "## Problems faced on implementation\n",
        "\n",
        "\n",
        "*   I was not very familiar with numpy and had to look up individual functions that would be suitable for a particular operation\n",
        "*   I was not able to download the MNIST dataset from  [Yann Lecun](http://yann.lecun.com/exdb/mnist/) and then decided to move forward with importing the dataset from a library\n",
        "* Converting the mathematical formulae to code was a bit complex and I tried to simplify a lot of it on paper\n",
        "* In the losses graph the loss initially increases drastically, which alarmed me at first and made me think that I had made a huge error but realised that since the weights are generated randomly, it might not be suited to the problem at all.\n",
        "\n",
        "\n"
      ],
      "metadata": {
        "id": "9wpfLO4YwTkL"
      }
    }
  ]
}